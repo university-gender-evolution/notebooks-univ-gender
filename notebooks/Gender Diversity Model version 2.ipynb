{
 "cells": [
  {
   "cell_type": "markdown",
   "metadata": {
    "toc": "true"
   },
   "source": [
    "# Table of Contents\n",
    " <p><div class=\"lev1 toc-item\"><a href=\"#Description-of-Study\" data-toc-modified-id=\"Description-of-Study-1\"><span class=\"toc-item-num\">1&nbsp;&nbsp;</span>Description of Study</a></div><div class=\"lev1 toc-item\"><a href=\"#Data\" data-toc-modified-id=\"Data-2\"><span class=\"toc-item-num\">2&nbsp;&nbsp;</span>Data</a></div><div class=\"lev1 toc-item\"><a href=\"#Markdown-Specifications\" data-toc-modified-id=\"Markdown-Specifications-3\"><span class=\"toc-item-num\">3&nbsp;&nbsp;</span>Markdown Specifications</a></div><div class=\"lev1 toc-item\"><a href=\"#Baseline-Results\" data-toc-modified-id=\"Baseline-Results-4\"><span class=\"toc-item-num\">4&nbsp;&nbsp;</span>Baseline Results</a></div><div class=\"lev1 toc-item\"><a href=\"#Scenario-Analyses\" data-toc-modified-id=\"Scenario-Analyses-5\"><span class=\"toc-item-num\">5&nbsp;&nbsp;</span>Scenario Analyses</a></div><div class=\"lev1 toc-item\"><a href=\"#Ancillary-Analyses\" data-toc-modified-id=\"Ancillary-Analyses-6\"><span class=\"toc-item-num\">6&nbsp;&nbsp;</span>Ancillary Analyses</a></div><div class=\"lev1 toc-item\"><a href=\"#Simulation-Options-and-Functions\" data-toc-modified-id=\"Simulation-Options-and-Functions-7\"><span class=\"toc-item-num\">7&nbsp;&nbsp;</span>Simulation Options and Functions</a></div><div class=\"lev2 toc-item\"><a href=\"#Generate-CSV-File\" data-toc-modified-id=\"Generate-CSV-File-71\"><span class=\"toc-item-num\">7.1&nbsp;&nbsp;</span>Generate CSV File</a></div><div class=\"lev1 toc-item\"><a href=\"#Appendix-A\" data-toc-modified-id=\"Appendix-A-8\"><span class=\"toc-item-num\">8&nbsp;&nbsp;</span>Appendix A</a></div><div class=\"lev1 toc-item\"><a href=\"#Appendix-B\" data-toc-modified-id=\"Appendix-B-9\"><span class=\"toc-item-num\">9&nbsp;&nbsp;</span>Appendix B</a></div>"
   ]
  },
  {
   "cell_type": "markdown",
   "metadata": {},
   "source": [
    "# Description of Study"
   ]
  },
  {
   "cell_type": "markdown",
   "metadata": {},
   "source": [
    "# Data"
   ]
  },
  {
   "cell_type": "markdown",
   "metadata": {},
   "source": [
    "# Markdown Specifications"
   ]
  },
  {
   "cell_type": "markdown",
   "metadata": {},
   "source": [
    "# Baseline Results"
   ]
  },
  {
   "cell_type": "markdown",
   "metadata": {},
   "source": [
    "# Scenario Analyses"
   ]
  },
  {
   "cell_type": "markdown",
   "metadata": {},
   "source": [
    "# Ancillary Analyses"
   ]
  },
  {
   "cell_type": "markdown",
   "metadata": {},
   "source": [
    "# Simulation Options and Functions\n"
   ]
  },
  {
   "cell_type": "code",
   "execution_count": null,
   "metadata": {
    "collapsed": true
   },
   "outputs": [],
   "source": [
    "from IPython.core.display import HTML\n",
    "\n",
    "def css_styling():\n",
    "    styles = open(\"styles/custom_lb.css\", \"r\").read()\n",
    "    return HTML(styles)\n",
    "css_styling()\n",
    "\n",
    "from IPython.core.display import display, HTML"
   ]
  },
  {
   "cell_type": "code",
   "execution_count": null,
   "metadata": {
    "collapsed": true
   },
   "outputs": [],
   "source": [
    "number_of_females_1 = 3\n",
    "number_of_females_2 = 3\n",
    "number_of_females_3 = 2\n",
    "number_of_males_1 = 11\n",
    "number_of_males_2 = 12\n",
    "number_of_males_3 = 43\n",
    "number_of_initial_vacancies_1 = 5.303 \n",
    "number_of_initial_vacancies_2 = 5.9\n",
    "number_of_initial_vacancies_3 = 8.31\n",
    "hiring_rate_women_1 = 0.172\n",
    "hiring_rate_women_2 = 0.4\n",
    "hiring_rate_women_3 = 0.167\n",
    "attrition_rate_women_1 = 0.056\n",
    "attrition_rate_women_2 = 0.00\n",
    "attrition_rate_women_3 = 0.074\n",
    "attrition_rate_men_1 = 0.069\n",
    "attrition_rate_men_2 = 0.057\n",
    "attrition_rate_men_3 = 0.040\n",
    "probability_of_outside_hire_1 = 1\n",
    "probability_of_outside_hire_2 = 0.125\n",
    "probability_of_outside_hire_3 = 0.150\n",
    "female_promotion_probability_1 = 0.0555\n",
    "female_promotion_probability_2 = 0.1905\n",
    "male_promotion_probability_1 = 0.0635\n",
    "male_promotion_probability_2 = 0.1149\n",
    "duration = 20\n",
    "upperbound = 84\n",
    "lowerbound = 64\n",
    "variation_range = 3\n",
    "\n",
    "data_mgmt = { 'number_of_females_1': number_of_females_1,\n",
    "              'number_of_females_2': number_of_females_2,\n",
    "              'number_of_females_3': number_of_females_3,\n",
    "              'number_of_males_1': number_of_males_1,\n",
    "              'number_of_males_2': number_of_males_2,\n",
    "              'number_of_males_3': number_of_males_3,\n",
    "              'number_of_initial_vacancies_1': number_of_initial_vacancies_1, \n",
    "              'number_of_initial_vacancies_2': number_of_initial_vacancies_2,\n",
    "              'number_of_initial_vacancies_3': number_of_initial_vacancies_3,\n",
    "              'hiring_rate_women_1':hiring_rate_women_1,\n",
    "              'hiring_rate_women_2':hiring_rate_women_2,\n",
    "              'hiring_rate_women_3':hiring_rate_women_3,\n",
    "              'attrition_rate_women_1':attrition_rate_women_1,\n",
    "              'attrition_rate_women_2':attrition_rate_women_2,\n",
    "              'attrition_rate_women_3':attrition_rate_women_3,\n",
    "              'attrition_rate_men_1':attrition_rate_men_1,\n",
    "              'attrition_rate_men_2':attrition_rate_men_2,\n",
    "              'attrition_rate_men_3':attrition_rate_men_3,\n",
    "              'probability_of_outside_hire_1':probability_of_outside_hire_1,\n",
    "              'probability_of_outside_hire_2': probability_of_outside_hire_2,\n",
    "              'probability_of_outside_hire_3':probability_of_outside_hire_3,\n",
    "              'female_promotion_probability_1': female_promotion_probability_1,\n",
    "              'female_promotion_probability_2': female_promotion_probability_2,\n",
    "              'male_promotion_probability_1' : male_promotion_probability_1,\n",
    "              'male_promotion_probability_2' : male_promotion_probability_2,\n",
    "              'duration':duration,\n",
    "              'upperbound': upperbound,\n",
    "              'lowerbound': lowerbound,\n",
    "              'variation_range': variation_range}"
   ]
  },
  {
   "cell_type": "code",
   "execution_count": null,
   "metadata": {
    "collapsed": true
   },
   "outputs": [],
   "source": [
    "t = pyugend.Comparison([pyugend.Mod_Stoch_FBHP(**data_mgmt)])\n",
    "s = pyugend.Comparison([pyugend.Mod_Stoch_FBPH(**data_mgmt)])\n",
    "modlist = list([pyugend.Mod_Stoch_FBHP(**data_mgmt), \n",
    "                pyugend.Mod_Stoch_FBPH(**data_mgmt)])\n",
    "u = pyugend.Comparison(modlist)"
   ]
  },
  {
   "cell_type": "code",
   "execution_count": null,
   "metadata": {
    "collapsed": true
   },
   "outputs": [],
   "source": [
    "# Data for optimistic scenario\n",
    "\n",
    "\n",
    "a = pyugend.Comparison([pyugend.Mod_Stoch_FBHP(**data_mgmt)])\n",
    "b = pyugend.Comparison([pyugend.Mod_Stoch_FBPH(**data_mgmt)])\n",
    "a.mlist[0].load_optimistic_data_mgmt()\n",
    "b.mlist[0].load_optimistic_data_mgmt()\n",
    "\n",
    "modlist1 = list([pyugend.Mod_Stoch_FBHP(**data_mgmt),\n",
    "                pyugend.Mod_Stoch_FBPH(**data_mgmt)])\n",
    "\n",
    "modlist1[0].load_optimistic_data_mgmt()\n",
    "modlist1[1].load_optimistic_data_mgmt()\n",
    "c = pyugend.Comparison(modlist1)\n",
    "\n",
    "# Data for very optimistic scenario\n",
    "\n",
    "d = pyugend.Comparison([pyugend.Mod_Stoch_FBHP(**data_mgmt)])\n",
    "e = pyugend.Comparison([pyugend.Mod_Stoch_FBPH(**data_mgmt)])\n",
    "d.mlist[0].load_most_optimistic_data_mgmt()\n",
    "e.mlist[0].load_most_optimistic_data_mgmt()\n",
    "\n",
    "modlist2 = list([pyugend.Mod_Stoch_FBHP(**data_mgmt),\n",
    "                pyugend.Mod_Stoch_FBPH(**data_mgmt)])\n",
    "\n",
    "modlist2[0].load_most_optimistic_data_mgmt()\n",
    "modlist2[1].load_most_optimistic_data_mgmt()\n",
    "f = pyugend.Comparison(modlist2)\n",
    "\n",
    "# Data for pessimistic scenario\n",
    "\n",
    "g = pyugend.Comparison([pyugend.Mod_Stoch_FBHP(**data_mgmt)])\n",
    "h = pyugend.Comparison([pyugend.Mod_Stoch_FBPH(**data_mgmt)])\n",
    "g.mlist[0].load_pessimistic_data_mgmt()\n",
    "h.mlist[0].load_pessimistic_data_mgmt()\n",
    "\n",
    "modlist3 = list([pyugend.Mod_Stoch_FBHP(**data_mgmt),\n",
    "                pyugend.Mod_Stoch_FBPH(**data_mgmt)])\n",
    "\n",
    "modlist3[0].load_pessimistic_data_mgmt()\n",
    "modlist3[1].load_pessimistic_data_mgmt()\n",
    "j = pyugend.Comparison(modlist3)\n",
    "\n",
    "\n",
    "# Data for scenario comparison\n",
    "\n",
    "to1 = pyugend.Mod_Stoch_FBHP(**data_mgmt)\n",
    "tv1 = pyugend.Mod_Stoch_FBHP(**data_mgmt)\n",
    "tp1 = pyugend.Mod_Stoch_FBHP(**data_mgmt)\n",
    "\n",
    "to1.load_optimistic_data_mgmt()\n",
    "tv1.load_most_optimistic_data_mgmt()\n",
    "tp1.load_pessimistic_data_mgmt()\n",
    "\n",
    "to = pyugend.Comparison([to1])\n",
    "tv = pyugend.Comparison([tv1])\n",
    "tp = pyugend.Comparison([tp1])\n",
    "\n",
    "to.mlist[0].label = 'Optimistic (Hire-Promote)'\n",
    "tv.mlist[0].label = 'Very Optimistic (Hire-Promote)'\n",
    "tp.mlist[0].label = 'Pessimistic (Hire-Promote)'\n",
    "\n",
    "modlist4 = list([to1, tv1, tp1])\n",
    "tu = pyugend.Comparison(modlist4)"
   ]
  },
  {
   "cell_type": "markdown",
   "metadata": {},
   "source": [
    "## Instructions for Plotting Functions"
   ]
  },
  {
   "cell_type": "markdown",
   "metadata": {},
   "source": [
    "This section lays out instructions for customizing the charts displayed throughout this notebook. The different types of charts are denoted by special tags at the top of the plot cell. The four plot types are denoted as:\n",
    "\n",
    " - `#<overall>`:  An overall chart displays the result of a department-wide summary statistic for a single model. \n",
    " - `#<bylevel>`:  A bylevel chart displays the results of a single summary statistic for a each professor-level of a single model.\n",
    " - `#<comparison-overall>`:  A comparison-overall chart compares two or more models on one department-wide statistic.\n",
    " - `#<comparison-bylevel>`:  A comparison-bylevel compares two or more models one a single professor-level statistic.\n",
    " \n",
    "The chart tag is also augmented with an indication of which statistic is displayed in the chart. The common summary statistics are:\n",
    "\n",
    " - gender_proportion: the percentage of women in the department or by level. \n",
    " - probability_proportion: the probability that the department may achieve a target gender proportion in a given year\n",
    " - unfilled_vacancies: The number of unfilled vacancies remaining at the end of year, after all hiring and promotion activity is complete.\n",
    " - department_size: The total size of the department for a given year.\n",
    " - male_female_numbers: The number of males and females in a department for a given year.\n"
   ]
  },
  {
   "cell_type": "markdown",
   "metadata": {},
   "source": [
    "     plot_settings = {'plottype': 'gender proportion',\n",
    "                 'number_of_runs': 100, # number simulations to average over\n",
    "                 'target': 0.25, # target percentage of women in the department\n",
    "                 'caption': 'The red line shows a target of .25 women',\n",
    "                 \n",
    "                 # Main plot settings\n",
    "                 'xlabel':'Years',\n",
    "                 'ylabel': 'Proportion of Women Overall',\n",
    "                 'title': 'Figure 4.1.1a:  Model 1 - Change in *Proportion* Women Overall',\n",
    "                 'line_width': 2,\n",
    "                 'xmin': 0,\n",
    "                 'ymin': 0,\n",
    "                 #'xmax': 40,\n",
    "                 #'ymax': 1.0,\n",
    "                 'transparency': 0.25,\n",
    "                 'marker_shape': None,\n",
    "                 'linecolor': 'green',\n",
    "                 'model_legend_label': 'Simulated Probability',\n",
    "                 'legend_location': 'upper right',\n",
    "                 \n",
    "                 #Optional Parameters\n",
    "                 #Target value plot settings \n",
    "                 'target_plot': True,\n",
    "                 'color_target': 'red',\n",
    "                 'color_percent_line': 'red',\n",
    "                 'target_plot_line_style': '--',\n",
    "                 'target_plot_linewidth': 2,\n",
    "                 'target_plot_legend_label': 'Target',\n",
    "\n",
    "                 #Percent plot settings\n",
    "                 'percent_line_plot': False,\n",
    "                 'percent_line_value': 0.5,\n",
    "                 'percent_line_style': '-.',\n",
    "                 'percent_linewidth': 2,\n",
    "                 'percent_legend_label': 'Reference Line',\n",
    "                 \n",
    "                 #Male Female numbers plot settings\n",
    "                 'male_female_numbers_plot': False,\n",
    "                 'mf_male_color' : 'black',\n",
    "                 'mf_target_color' : 'red',\n",
    "                 'mf_male_label' : 'Male',\n",
    "                 'mf_target_label': 'Target',\n",
    "                 'mf_male_linestyle' : '-',\n",
    "                 'mf_target_linestyle': '-',\n",
    "                 'mf_male_linewidth' :2,\n",
    "                 'mf_target_linewidth' : 2\n",
    "                 }\n",
    "\n"
   ]
  },
  {
   "cell_type": "markdown",
   "metadata": {},
   "source": [
    "## Generate CSV File\n",
    "\n",
    "The cell below will generate a `csv` file with a requested number of model runs. To generate the csv, the user must specify three pieces of information, and then run the cell. The first piece of information is the `model_choice` variable, which identifies the model and scenario requested. The set of possible choices is listed in the cell below. \n",
    "\n",
    "The second piece of information is the `model_label` which is the first part of the title for the exported file. This allows the user to indicate the particular model selected as well as any additional information about the run. \n",
    "\n",
    "The final piece of information is the `number_of_runs` variable which specifies the number of model iterations included in the exported file.\n",
    "\n",
    "To generate the file, please execute both of the code cells in this section in order. If the cell produces an error, the most likely reason is a misprint in the exact spelling of the `model_choice` model selection. "
   ]
  },
  {
   "cell_type": "code",
   "execution_count": null,
   "metadata": {
    "collapsed": true
   },
   "outputs": [],
   "source": [
    "choices = {\n",
    "        'Hire-Promote baseline' : t,\n",
    "        'Hire-Promote optimistic' : a, \n",
    "        'Hire-Promote very optimistic' : d,\n",
    "        'Hire-Promote pessimistic': g,\n",
    "        'Promote-Hire baseline' : s,\n",
    "        'Promote-Hire optimistic' : b,\n",
    "        'Promote-Hire very optimistic' : e,\n",
    "        'Promote-Hire pessimistic' : h\n",
    "    }"
   ]
  },
  {
   "cell_type": "code",
   "execution_count": null,
   "metadata": {
    "collapsed": true
   },
   "outputs": [],
   "source": [
    "# Please specify the following variables for the export file.\n",
    "model_choice = 'Promote-Hire baseline'\n",
    "model_label = 'Test2 Promote-Hire-baseline'\n",
    "number_of_runs = 10\n",
    "\n",
    "\n",
    "v = choices.get(model_choice)\n",
    "v.export_model_run(model_label, model_choice, number_of_runs)"
   ]
  },
  {
   "cell_type": "markdown",
   "metadata": {},
   "source": [
    "## Export Notebook to Pdf"
   ]
  },
  {
   "cell_type": "markdown",
   "metadata": {},
   "source": [
    "Run the cell below to generate a pdf version of this notebook. Once the pdf is generated, you will find it listed among the files in the jupyter file listing tab."
   ]
  },
  {
   "cell_type": "code",
   "execution_count": null,
   "metadata": {
    "collapsed": true
   },
   "outputs": [],
   "source": [
    "choices = {\n",
    "        'Hire-Promote baseline' : t,\n",
    "        'Hire-Promote optimistic' : a, \n",
    "        'Hire-Promote very optimistic' : d,\n",
    "        'Hire-Promote pessimistic': g,\n",
    "        'Promote-Hire baseline' : s,\n",
    "        'Promote-Hire optimistic' : b,\n",
    "        'Promote-Hire very optimistic' : e,\n",
    "        'Promote-Hire pessimistic' : h\n",
    "    }"
   ]
  },
  {
   "cell_type": "code",
   "execution_count": null,
   "metadata": {
    "collapsed": true
   },
   "outputs": [],
   "source": [
    "# Please specify the following variables for the export file.\n",
    "model_choice = 'Promote-Hire baseline'\n",
    "model_label = 'Test2 Promote-Hire-baseline'\n",
    "number_of_runs = 10\n",
    "\n",
    "\n",
    "v = choices.get(model_choice)\n",
    "v.export_model_run(model_label, model_choice, number_of_runs)"
   ]
  },
  {
   "cell_type": "markdown",
   "metadata": {},
   "source": [
    "# Please specify the following variables for the export file.\n"
   ]
  },
  {
   "cell_type": "markdown",
   "metadata": {},
   "source": [
    "# Appendix A"
   ]
  },
  {
   "cell_type": "markdown",
   "metadata": {},
   "source": [
    "# Appendix B\n"
   ]
  }
 ],
 "metadata": {
  "kernelspec": {
   "display_name": "Python 3",
   "language": "python",
   "name": "python3"
  },
  "language_info": {
   "codemirror_mode": {
    "name": "ipython",
    "version": 3
   },
   "file_extension": ".py",
   "mimetype": "text/x-python",
   "name": "python",
   "nbconvert_exporter": "python",
   "pygments_lexer": "ipython3",
   "version": "3.6.0"
  },
  "latex_envs": {
   "LaTeX_envs_menu_present": true,
   "autocomplete": true,
   "bibliofile": "biblio.bib",
   "cite_by": "apalike",
   "current_citInitial": 1,
   "eqLabelWithNumbers": true,
   "eqNumInitial": 1,
   "hotkeys": {
    "equation": "Ctrl-E",
    "itemize": "Ctrl-I"
   },
   "labels_anchors": false,
   "latex_user_defs": false,
   "report_style_numbering": false,
   "user_envs_cfg": false
  },
  "toc": {
   "colors": {
    "hover_highlight": "#DAA520",
    "running_highlight": "#FF0000",
    "selected_highlight": "#FFD700"
   },
   "moveMenuLeft": true,
   "nav_menu": {
    "height": "192px",
    "width": "252px"
   },
   "navigate_menu": true,
   "number_sections": true,
   "sideBar": true,
   "threshold": 4,
   "toc_cell": true,
   "toc_section_display": "block",
   "toc_window_display": true,
   "widenNotebook": false
  }
 },
 "nbformat": 4,
 "nbformat_minor": 2
}
