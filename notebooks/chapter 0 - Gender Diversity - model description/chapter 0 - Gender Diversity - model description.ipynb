{
 "cells": [
  {
   "cell_type": "markdown",
   "metadata": {
    "toc": "true"
   },
   "source": [
    "<h1>Table of Contents<span class=\"tocSkip\"></span></h1>\n",
    "<div class=\"toc\" style=\"margin-top: 1em;\"><ul class=\"toc-item\"><li><span><a href=\"#Notation-and-Definition-of-Variables\" data-toc-modified-id=\"Notation-and-Definition-of-Variables-1\"><span class=\"toc-item-num\">1&nbsp;&nbsp;</span>Notation and Definition of Variables</a></span></li><li><span><a href=\"#Gender-Diversity-Evolution-Model\" data-toc-modified-id=\"Gender-Diversity-Evolution-Model-2\"><span class=\"toc-item-num\">2&nbsp;&nbsp;</span>Gender Diversity Evolution Model</a></span><ul class=\"toc-item\"><li><span><a href=\"#Department-composition\" data-toc-modified-id=\"Department-composition-2.1\"><span class=\"toc-item-num\">2.1&nbsp;&nbsp;</span>Department composition</a></span></li><li><span><a href=\"#Department-size-and-rank-targets\" data-toc-modified-id=\"Department-size-and-rank-targets-2.2\"><span class=\"toc-item-num\">2.2&nbsp;&nbsp;</span>Department size and rank targets</a></span></li><li><span><a href=\"#Attrition-process\" data-toc-modified-id=\"Attrition-process-2.3\"><span class=\"toc-item-num\">2.3&nbsp;&nbsp;</span>Attrition process</a></span></li><li><span><a href=\"#Promotion-process\" data-toc-modified-id=\"Promotion-process-2.4\"><span class=\"toc-item-num\">2.4&nbsp;&nbsp;</span>Promotion process</a></span></li><li><span><a href=\"#Hiring-process\" data-toc-modified-id=\"Hiring-process-2.5\"><span class=\"toc-item-num\">2.5&nbsp;&nbsp;</span>Hiring process</a></span><ul class=\"toc-item\"><li><span><a href=\"#Number-of-vacancies-at-each-rank\" data-toc-modified-id=\"Number-of-vacancies-at-each-rank-2.5.1\"><span class=\"toc-item-num\">2.5.1&nbsp;&nbsp;</span>Number of vacancies at each rank</a></span></li><li><span><a href=\"#Multinomial-hiring-process\" data-toc-modified-id=\"Multinomial-hiring-process-2.5.2\"><span class=\"toc-item-num\">2.5.2&nbsp;&nbsp;</span>Multinomial hiring process</a></span></li><li><span><a href=\"#Random-department-size-variation-around-target-size\" data-toc-modified-id=\"Random-department-size-variation-around-target-size-2.5.3\"><span class=\"toc-item-num\">2.5.3&nbsp;&nbsp;</span>Random department size variation around target size</a></span></li></ul></li><li><span><a href=\"#Department-Growth/Decline\" data-toc-modified-id=\"Department-Growth/Decline-2.6\"><span class=\"toc-item-num\">2.6&nbsp;&nbsp;</span>Department Growth/Decline</a></span><ul class=\"toc-item\"><li><span><a href=\"#No-Department-Growth\" data-toc-modified-id=\"No-Department-Growth-2.6.1\"><span class=\"toc-item-num\">2.6.1&nbsp;&nbsp;</span>No Department Growth</a></span></li><li><span><a href=\"#Linear-Growth\" data-toc-modified-id=\"Linear-Growth-2.6.2\"><span class=\"toc-item-num\">2.6.2&nbsp;&nbsp;</span>Linear Growth</a></span></li><li><span><a href=\"#Forecasted-Growth\" data-toc-modified-id=\"Forecasted-Growth-2.6.3\"><span class=\"toc-item-num\">2.6.3&nbsp;&nbsp;</span>Forecasted Growth</a></span></li></ul></li><li><span><a href=\"#Simulation\" data-toc-modified-id=\"Simulation-2.7\"><span class=\"toc-item-num\">2.7&nbsp;&nbsp;</span>Simulation</a></span></li></ul></li></ul></div>"
   ]
  },
  {
   "cell_type": "markdown",
   "metadata": {},
   "source": [
    "# Notation and Definition of Variables\n"
   ]
  },
  {
   "cell_type": "markdown",
   "metadata": {},
   "source": [
    "This is a list of some of the mathematical notation used in the equations below."
   ]
  },
  {
   "cell_type": "markdown",
   "metadata": {},
   "source": [
    "| Variable     | Description                      | Range                                           |\n",
    "|--------------|----------------------------------|-------------------------------------------------|\n",
    "| $R$ | the set of professor ranks:Assistant, Associate, Full denoted numerically    | $\\{1,2,3\\} $ |\n",
    "| $r$| rank of a particular group of professors   | $r \\in R$                                       |\n",
    "| $N$| total number of professors in the department| $N \\in \\mathbb Z^+$                            |\n",
    "| $n^r$| number of professors at a given rank     | $n^r \\in \\mathbb Z^+$                           |\n",
    "| $G$  | the set of professor genders             | $\\{m, f\\}$                                      |\n",
    "| $g$  | the gender of a particular professor     | $g \\in G$                                       |\n",
    "| $q^r$ | Target percentage of professors at rank r |$q^r \\in [0,1]$                               |\n",
    "| $T^N$ | Target number for the size of the department | $T^N$ $\\in \\mathbb Z^+$                                                                                            \n",
    "| $v^r$| number of vacancies at rank r                                    | $v^r \\in \\mathbb Z^+$   |\n",
    "| $v^N$| total number of vacancies in the department                      | $v^N$ $\\in \\mathbb Z^+$   |\n",
    "| $h^r_g$| number of professors hired at rank $r$ and gender $g$  |$h^r_g \\in \\mathbb Z^+$|\n",
    "\n",
    "\n"
   ]
  },
  {
   "cell_type": "markdown",
   "metadata": {},
   "source": [
    "# Gender Diversity Evolution Model"
   ]
  },
  {
   "cell_type": "markdown",
   "metadata": {},
   "source": [
    "## Department composition\n",
    "Let's lay a very simple foundation for the model by setting some definitions. An academic department is made up of both male and female professors. Each professor has a rank contingent on the professor's position in the promotion ladder. The most junior rank is the Assistant professor who is a tenure-track candidate but who has not yet achieved tenure. The second rank is the Associate professor who has achieved tenure, but who does not yet have the publication/teaching/committee record to achieve the level of full professor. The final rank is the Full professor which is the top of the promotion ladder. \n",
    "\n",
    "To formalize these basic definitions, we define $n^r$ as the number of professors at a given rank. That number is equal to the sum of male $n^r_m$ and female $n^r_f$ professors at that rank, in the department. \n",
    "\n",
    "$$\n",
    "\\begin{equation}\n",
    "n^r = n^r_f + n^r_m \n",
    "\\end{equation}\n",
    "$$\n",
    "\n",
    "The total size of the department $N$ is equal to the number of professors at each rank.\n",
    "\n",
    "$$\n",
    "\\begin{equation}\n",
    "N = n^1 + n^2 + n^3 = \\sum_{i=1}^{3} n^i\n",
    "\\end{equation}\n",
    "$$\n",
    "\n",
    "Note that because the department size and number of professors at each rank will change from timestep to timestep, we include the time variable as a parameter. As a convention we will omit the time parameter unless its inclusion is important to the clarify of the argument. As an example, the department size equation above is more accurately described by:\n",
    "\n",
    "$$\n",
    "\\begin{equation}\n",
    "N(t) = n^1(t) + n^2(t) + n^3(t) = \\sum_{i=1}^{3} n^i(t)\n",
    "\\end{equation}\n",
    "$$\n"
   ]
  },
  {
   "cell_type": "markdown",
   "metadata": {},
   "source": [
    "## Department size and rank targets\n",
    "\n",
    "The university administration in concert with each department's leadership sets target for the overall department size. First we define the target size of the entire department $T^N \\in \\mathbb Z_+$. \n",
    "\n",
    "In general the target department size $T^N$ may differ from the actual department size $N$. This difference varies stochastically from year to due to faculty hiring and attrition. In some years the number of attritions may exceed the number of hires, and hence the department size falls below the target. In other years there may be opportunistic hires in excess of number of professors who leave the department due to attrition. While universities understand that department sizes may vary from target size from year to year, there are department upper and lower bounds on department size that prevent uncontrolled department size. When a department nears one of these bounds, countermeasures such as increased hiring or injunctions on new hires serve to bring the department size back within an acceptable range.  \n",
    "\n",
    "Another cause of difference between the department target and actual size is due to growth/decline in the department size target. We address this point in a subsequent section. \n",
    "\n",
    "Because both the department size and the number of professors in a group at a given rank may fluctuate from year to year, it is convenient to express professors groups as shares of the target department size. These shares are represented by $q^r \\in [0,1]$. For example a department may be composed of 20% Assistant professors, 15% Associate professors, and 65% full professors in a given year. These percentages are with respect to the department target size $T^N$, though departments do not generally set rank based targets for hiring. Due to professor churn, the professor shares will also change from year to year. The professor shares are constrained by the requirement:\n",
    "\n",
    "$$\n",
    "\\begin{equation}\n",
    "\\sum_{r=1}^{3} q^r(t) = 1\n",
    "\\end{equation}\n",
    "$$\n",
    "\n",
    "To calculate the number of professors at a particular rank at a given time, simply multiple the current professor share times the target department share: $q^r * T^N$. To prevent this equation from providing fractional numbers of professors, we use a floor function ($\\lfloor \\rfloor$) to round the values down to the nearest integer.  \n",
    "\n",
    "$$\n",
    "\\begin{equation}\n",
    "n^r \\approx \\lfloor q^r\\cdot T^N \\rfloor\n",
    "\\end{equation}\n",
    "$$\n",
    "\n",
    "As an example consider a department with a target department size $T^N$ of 100. A possible professor share for full professors $q^3$ may be 70%. Thus the target number of full professors in the department would be $0.70 * 100 = 70$. \n",
    "\n",
    "We track the percentage deviation of the actual department size from target in a given year with the following formula. \n",
    "\n",
    "$$\n",
    "\\begin{equation}\n",
    "\\text{Deviation from Target department size at time t} = 1 - \\frac{N(t)}{T^N}\n",
    "\\end{equation}\n",
    "$$\n",
    "\n",
    "The deviation is positive if the department size is less than the target and will be negative if the deviation is in excess of the target. The sign of the deviation indicates whether the deviation should inflate or deflate subsequent hiring probability in the next timestep. "
   ]
  },
  {
   "cell_type": "markdown",
   "metadata": {},
   "source": [
    "## Attrition process\n",
    "\n",
    "Each year a number of faculty at each rank will leave, due to retirement, alternative job opportunities, tenure rejection, etc. Attrition rates are fixed for each rank, and the attrition rates will differ by level and gender. Obviously, the attrition rate is greatest for full professors, with lower attrition rates for associate and assistant professors.\n",
    "\n",
    "The attrition rate for a rank and gender is denoted $a^r_g \\in [0,1]$. Note that the attrition rate is a fixed constant and does not vary with time, meaning $a^r_g(t) = a^r_g$.\n",
    "\n",
    "Within a given year, the number of attritions of a particular rank and gender group at each level is:\n",
    "\n",
    "$$\n",
    "\\begin{equation}\n",
    "\\text{Number of professor attritions at gender g, rank r, in time t} = a^r_g \\cdot n^r_g(t)  \n",
    "\\end{equation}\n",
    "$$\n",
    "\n",
    "for example, the number of attritions of female assistant professors in a given year would be:\n",
    "\n",
    "$$\n",
    "\\begin{equation}\n",
    "\\text{Number of female assistant professor attritions at time t} = a^1_f\\cdot n^1_f(t)\n",
    "\\end{equation}\n",
    "$$\n",
    "\n",
    "Thus the total number of attritions at a given rank is equal to the sum of female and male attrition at that level.\n",
    "\n",
    "$$\n",
    "\\begin{equation}\n",
    "\\text{Total number of attritions at rank r in year t } = a^r_f\\cdot n^r_f(t) + a^r_m\\cdot n^r_m(t)\n",
    "\\end{equation}\n",
    "$$\n"
   ]
  },
  {
   "cell_type": "markdown",
   "metadata": {},
   "source": [
    "## Promotion process\n",
    "\n",
    "Each year a portion of the faculty at the Assistant and Associate professor levels are promoted to a higher level. The promotion rate is also fixed and invariant to time. The promotion rate is denoted by $p^r_g \\in [0,1]$, where $r$ represents the current rank of the professor and $g$ the gender. Thus $p^1_f$ represents the promotion rate for a female Assistant professor to an Associate professor.\n",
    "\n",
    "$$\n",
    "\\begin{equation}\n",
    "\\text{Number of promotions from rank r to rank r+1, for gender g, at time t} = p^r_g \\cdot n^r_g(t)   \n",
    "\\end{equation}\n",
    "$$\n",
    "\n",
    "Promotion rates are unaffected by department churn, meaning that hiring and attrition do not affect professor promotion. Promotion is based upon department internal standards such as publication rates, participation in department committees, among other activities. \n",
    "\n",
    "The promotion rates for male and female professors are based upon department level data. However, setting a common promotion rate does not seem to change the underlying dynamics."
   ]
  },
  {
   "cell_type": "markdown",
   "metadata": {},
   "source": [
    "## Hiring process\n",
    "\n",
    "### Number of vacancies at each rank\n",
    "Each year the department makes decisions to hire additional faculty. Some of these hires fill vacancies created by attrition while other hires may arise from unique chances to add highly qualified individuals to the department.\n",
    "\n",
    "The two questions surrounding hiring are who to hire--meaning rank and gender--and how many to hire--meaning the number of vacancies. I address the second question first. The number of FTE vacancies in a department is based upon the difference between the current number of professors and the target number of professors. If the department is under its target size, then the department will choose to add additional faculty until the current number equals the target number. Of course there is no guarantee that all vacancies will be filled within a single year, as availability of suitable candidates and other factors may limit the total number of hires. Formally, the number of vacancies in the department is:\n",
    "\n",
    "$$\n",
    "\\begin{equation}\n",
    "v^N = \\max(T^N - N, 0) \n",
    "\\end{equation}\n",
    "$$\n",
    "\n",
    "Including the $max()$ function ensures that the number of vacancies always is non-negative. Even if the department size is above its target size, this would not generate negative vacancies--meaning layoffs. Instead, the department would simply stop hiring until the department size fell below the target again. \n",
    "\n",
    "\n",
    "### Multinomial hiring process\n",
    "We model hiring as a multinomial probabilistic process where all of the vacancies are filled by a mix of assistant, associate, full professors, or are left unfilled based upon a probability for each outcome. The multinomial distribution generalizes the binomial distribution. Formally the definition of the multinomial distribution is that \"it models the probability of counts for rolling a k-sided dice n times.\"[Wikipedia: https://en.wikipedia.org/wiki/Multinomial_distribution]. For example, suppose we have a die with six sides and a $\\frac{1}{6}$ probability of getting any value between 1 and 6. If we rolled this die 1 time, we might get a vector such as [0,0,1,0,0,0] meaning that the die roll yielded a 3. Each roll will yield a different result, and the next roll might yield a value of 1 with corresponding vector [1,0,0,0,0,0]. When we sum the number of times we obtained each value after 10 rolls, we could obtain a vector like [1,1,3,2,2,1]. This final vector of counts after $k$-rolls is what the multinomial distribution yields, namely the probability distribtion over this final set of category counts. \n",
    "\n",
    "In our model there is a probability over the hiring of professors at each level at each time step. The probability of hiring  new professor increases as the difference between the target and actual department size increases. Given that a professor hire is approved, the probability that this professor is of a particular rank and gender is fixed. The probability of hiring a professor at rank $r$, gender $g$ at time $t$ is denoted $p^r_g(t)$. Using these hiring probabilities, we can generate a random draw from the multinomial distribution. The rather ugly looking multinomial density function for professor hiring is:\n",
    "\n",
    "$$\n",
    "\\begin{equation}\n",
    "P(h_m,f^{1,2,3}(t),h^{none}(t); v^N, p_m,f^{1,2,3}(t), p^{none}(t)) = \n",
    "\\frac{v^N(t)!}{h^{1,2,3}_{m,f}(t)!\\cdot h^{none}(t)!} \\times p_{m,f}^{1,2,3}(t) \\times \\cdot p^{none}\n",
    "\\end{equation}\n",
    "\\label{multinomial}\n",
    "$$\n",
    "\n",
    "The $h^{none}, p^{none}$ represent the probability of not hiring anyone for a given vacancy. While expression (\\ref{multinomial}) might look ugly, it is simply the standard multinomial distribution with the relevant model parameters.\n",
    "\n",
    "Note also, that in the case where the department is over size, $v^N(t)$ is equal to zero and no hiring would likely occur that year (unless some opportunistic hiring opportunity presents itself). \n",
    "\n",
    "### Random department size variation around target size\n",
    "\n",
    "The model allows for some random department size fluctuation around the target size. Departments rarely remain the same size from year to year. Occasionally opportunities arise to hire promising new faculty, while other times a number of senior faculty decide to retire in the same year. To improve the flexibility of the model, we incorporate the change for random variation into the model. The simulation allows the user to specify a maximum and minimum allowable excess yearly variation in faculty FTEs. For example, the user might decide that as many as two or three faculty can be added or subtracted at the end of each time step.\n",
    "\n",
    "For each addition or subtraction, the model randomly selects between three possible outcomes: add one FTE, subtract one FTE or make no changes, coded as (+1, -1, or 0). For instance, if the user specifies the maximum allowable change as 3 faculty, the program randomly chooses from the set (+1, -1, or 0) three times, once for each FTE, producing a maximum variation of +3 (+1+1+1) or -3 (-1-1-1). If the maximum allowable change is 2, the program randomly chooses from the set (+1, -1, or 0) two times, again, once for each FTE for a maximum variation of +2 (+1+1) or -2 (-1-1). \n",
    "\n",
    "Before these additional FTEs are incorporated into hiring activity, the model checks whether the new department size--including these additional FTEs remains within the department upper and lower size bounds. If the new department size is within bounds, then the model will add the additional FTEs to the number of vacancies for hire and execute the hiring process as specified above. If the new department size falls outside of the bounds of the department size, then the candidate number of additional FTEs is discarded and a new random draw of additional FTEs is made and rechecked--until a value is found that keeps the department size within bounds. \n",
    "\n",
    "Note that if the number of excess FTEs is negative, this does not imply any sort of layoff or forced retirement. Instead these negative FTES are deducted from the number of potential hires for that same year. Thus if there were to be 4 new hires but there were -2 excess FTEs, then only 2 faculty would be hired instead of 4. Based on the definition of the hiring model above, the number of vacancies or hires can never go below 0.\n"
   ]
  },
  {
   "cell_type": "markdown",
   "metadata": {},
   "source": [
    "## Department Growth/Decline\n",
    "\n",
    "The final aspect of the model is change in department target size over time. Department target sizes change over time based upon changes in department enrollment, financial resources, or university policy decisions. We provide three models of department growth in this projects:\n",
    "\n",
    " - no department growth\n",
    " - linear growth\n",
    " - periodic forecasts\n",
    " \n",
    "### No Department Growth\n",
    " \n",
    "As a baseline we include a version of the model that explicitly ignores changes in department target size over time. This model still bounds department variation within an upper and lower bound, however there is (a) no explicit mechanism for changes in department target size nor (b) an explicit mechanism for changes in the departmetn upper and lower bound. \n",
    " \n",
    "### Linear Growth\n",
    " \n",
    "The simplest model of growth is a simple linear percentage change in the department size every year. Thus the model allows the department size target to grow by a fixed rate--say 1%--each year of the simulation. The upper and lower department size bound also increase by an equivalent amount each year. \n",
    "\n",
    "While linear growth is a useful model, the department can only ever increase or decrease in size over the course of the simulation. We cannot mix periods of growth with periods of decline. \n",
    "\n",
    "### Forecasted Growth\n",
    "\n",
    "Finally, we include a model for forecasted growth. The user enters a vector of department size target sizes. The number of years in the simulation duration is divided by the number of forecasts, which gives a sense of how many years each forecast spans. The model then annualizes a rate of change in the department size target to bring the actual department size in line with the forecast. \n",
    "\n",
    "An example is useful in this instance. The user will specific three items:\n",
    " - The duration of the simulation:  e.g. 20 years.\n",
    " - The initial department size: e.g. 100 professors\n",
    " - The vector of forecasts: [100, 105, 115, 120]\n",
    " \n",
    "Since there are four forecasts, each forecast covers a span of 5 years or $20/4$. \n",
    "\n",
    "There is an open question about how quickly a new forecast is implemented by a department. Does hiring activity start immediately to fill a large target or is there a more gradual implementation of the new targets. It is difficult to *ex ante* assign a rule for how quickly forecasts are implemented as different departments may face different constraints. Hence models for both processes are included in the package. \n",
    "\n",
    "In the model version with immediate implementation of the forecast, the department target size will change immediately at the end of the current forecast period and at the start of the next one. Hence if the department size changes abruptly from one period to the next, there will be an immediate jump in the hiring at the start of the subsequent period. \n",
    "\n",
    "In the gradual version, the forecast adjusts hiring to reach the new department size by the middle of the forecast period.\n",
    "\n",
    "Note that the two versions of the forecast model only differ in the case of department growth between forecast periods. The model does not change attrition rates, hence a decline in department size is controlled by the fixed attrition rate."
   ]
  },
  {
   "cell_type": "markdown",
   "metadata": {},
   "source": [
    "## Simulation\n",
    "\n",
    "Based upon the equations above, we begin with a set of given values, including the department size targets, the number of professors, attrition, hiring, and promotion rates for each rank and gender . The simulation will first execute attritions and promotions at all three levels, and then generate a set of hires at each level. These hires will be added to the department size numbers in the subsequent timestep. \n",
    "\n",
    "This simulation may run over as many timesteps or years as the user may wish. "
   ]
  }
 ],
 "metadata": {
  "kernelspec": {
   "display_name": "Python 3",
   "language": "python",
   "name": "python3"
  },
  "language_info": {
   "codemirror_mode": {
    "name": "ipython",
    "version": 3
   },
   "file_extension": ".py",
   "mimetype": "text/x-python",
   "name": "python",
   "nbconvert_exporter": "python",
   "pygments_lexer": "ipython3",
   "version": "3.6.3"
  },
  "latex_envs": {
   "LaTeX_envs_menu_present": true,
   "autocomplete": true,
   "bibliofile": "biblio.bib",
   "cite_by": "apalike",
   "current_citInitial": 1,
   "eqLabelWithNumbers": true,
   "eqNumInitial": 1,
   "hotkeys": {
    "equation": "Ctrl-E",
    "itemize": "Ctrl-I"
   },
   "labels_anchors": false,
   "latex_user_defs": false,
   "report_style_numbering": false,
   "user_envs_cfg": false
  },
  "toc": {
   "nav_menu": {
    "height": "224px",
    "width": "252px"
   },
   "number_sections": true,
   "sideBar": true,
   "skip_h1_title": false,
   "toc_cell": true,
   "toc_position": {},
   "toc_section_display": "block",
   "toc_window_display": true
  }
 },
 "nbformat": 4,
 "nbformat_minor": 2
}
