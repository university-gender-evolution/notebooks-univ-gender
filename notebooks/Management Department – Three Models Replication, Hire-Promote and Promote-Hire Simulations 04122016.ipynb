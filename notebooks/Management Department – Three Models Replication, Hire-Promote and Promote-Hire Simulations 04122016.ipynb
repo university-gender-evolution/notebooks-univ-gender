{
 "cells": [
  {
   "cell_type": "markdown",
   "metadata": {
    "toc": "true"
   },
   "source": [
    "# Table of Contents\n",
    " <p><div class=\"lev1\"><a href=\"#Management-Department - Three Models\"><span class=\"toc-item-num\">1 - </span>Management Department - Three Models</div><div class=\"lev2\"><a href=\"#Data\"><span class=\"toc-item-num\">1.1 - </span>Data</a></div><div class=\"lev2\"><a href=\"#Model-Specifications\"><span class=\"toc-item-num\">1.2 - </span>Model Specifications</a></div><div class=\"lev2\"><a href=\"#Baseline-Results\"><span class=\"toc-item-num\">1.3 - </span>Baseline Results</a></div><div class=\"lev3\"><a href=\"#Change-in-Proportion-Women-Over-Time\"><span class=\"toc-item-num\">1.3.1 - </span>Change in Proportion Women Over Time</a></div><div class=\"lev3\"><a href=\"#Change-in-Proportion-Women-Over-Time-by-Level\"><span class=\"toc-item-num\">1.3.2 - </span>Change in Proportion Women Over Time by Level</a></div><div class=\"lev3\"><a href=\"#Change-in-Number-of-Women-Over-Time-by-Level\"><span class=\"toc-item-num\">1.3.3 - </span>Change in Number of Women Over Time by Level</a></div><div class=\"lev2\"><a href=\"#Parameter-Sweep---Hiring-Rates\"><span class=\"toc-item-num\">1.4 - </span>Parameter Sweep - Hiring Rates</a></div><div class=\"lev3\"><a href=\"#Assistant-Professor-to-Associate-Professor\"><span class=\"toc-item-num\">1.4.1 - </span>Assistant Professor to Associate Professor</a></div><div class=\"lev3\"><a href=\"#Associate-Professor-to-Full-Professor\"><span class=\"toc-item-num\">1.4.2 - </span>Associate Professor to Full Professor</a></div><div class=\"lev3\"><a href=\"#Mixed-Model-Including-Assistant-to-Associate-Professor-and-Associate-to-Full-Professor\"><span class=\"toc-item-num\">1.4.3 - </span>Mixed Model Including Assistant to Associate Professor and Associate to Full Professor</a></div><div class=\"lev2\"><a href=\"#Parameter-Sweep---Promotion-Rates\"><span class=\"toc-item-num\">1.5 - </span>Parameter Sweep - Promotion Rates</a></div><div class=\"lev3\"><a href=\"#Assistant-Professor-to-Associate-Professor\"><span class=\"toc-item-num\">1.5.1 - </span>Assistant Professor to Associate Professor</a></div><div class=\"lev3\"><a href=\"#Associate-Professor-to-Full-Professor\"><span class=\"toc-item-num\">1.5.2 - </span>Associate Professor to Full Professor</a></div><div class=\"lev3\"><a href=\"#Mixed-Model-Including-Assistant-to-Associate-Professor-and-Associate-to-Full-Professor\"><span class=\"toc-item-num\">1.5.3 - </span>Mixed Model Including Assistant to Associate Professor and Associate to Full Professor</a></div><div class=\"lev2\"><a href=\"#Parameter-Sweep---Attrition-Rates\"><span class=\"toc-item-num\">1.6 - </span>Parameter Sweep - Attrition Rates</a></div><div class=\"lev3\"><a href=\"#Assistant-Professor-to-Associate-Professor\"><span class=\"toc-item-num\">1.6.1 - </span>Assistant Professor to Associate Professor</a></div><div class=\"lev3\"><a href=\"#Associate-Professor-to-Full-Professor\"><span class=\"toc-item-num\">1.6.2 - </span>Associate Professor to Full Professor</a></div><div class=\"lev3\"><a href=\"#Mixed-Model-Including-Assistant-to-Associate-Professor-and-Associate-to-Full-Professor\"><span class=\"toc-item-num\">1.6.3 - </span>Mixed Model Including Assistant to Associate Professor and Associate to Full Professor</a></div><div class=\"lev2\"><a href=\"#Initialization-Cells\"><span class=\"toc-item-num\">1.7 - </span>Initialization Cells</a></div>\n",
    " \n",
    "  \n",
    " TO DO:\n",
    " 1.  Correct Model 3 information.  Right now, the text is just a copy of Model 2.  I couldn't remember what we did   for Model 3.  (Krishna)\n",
    " 2.  Add probabilities.  (Krishna)\n",
    " 3.  I was unclear when I said I wanted counts.  I only need the total Faculty N (average, range) for each figure.  The y axis should still be proportions, i.e. 0.xx, 0.yz etc. (Krishna) \n",
    " 4.  Add decision rule we ended up with for faculty size used for Models 2 & 3.  (Krishna)\n",
    " 5.  When I ask Jupyter to make a .pdf copy, FILE>DOWNLOAD AS>PDF FILE VIA LATEX, the progam doesn't recognize any end-of-page information.  For instance, the text stops just before the first paragraph of Model 2, paragraph 1.  This is obviously not good.  (Krishna)\n",
    " 6.  Fix Figure 1.  It now has an error in it and doesn't show up.  I don't remember changing anything(?)  (Krishna)\n",
    " 7.  Check all the baseline rates in tables.  I think some of them are wrong.  (Barbara)\n",
    " 8.  Add an explanation of error distributions (shaded areas).\n",
    " 9.  Re: Models 2 and 3.  Add decision rule for increasing or decreasing faculty size to text.  There will be two explanations, one for the replication model, which I believe conserves faculty numbers overall, and one for models 2 and 3, which allows a range of size.  I vaguely recall but don't remember the specifics. ADD DECISION RULE TO TEXT.  (Krishna)\n",
    " 10.  Add horizontal lines to plots that show the goal for proportion women.  (Krishna)\n",
    " 11.  Probability results should be included with each set of results.  In other words, the probability of achieving the results should appear with 1.3.2, and then separately for 1.3.3 and 1.34.  I don't know what these are going to look like yet, so we'll have to figure out how they will fit in after we can see what they look like.  (Krishna)\n",
    " 12.  Fix ToC so it matches the outline below.  (Krishna)  I didn't do this because I don't know enough html to edit it.\n",
    " 13.  Figure out how to add an empty line.\n",
    " 14.  Figure out how to add two spaces or use tabs.\n",
    " \n",
    " QUESTIONS:\n",
    " 1.  Is there a simple way to change the color and size of text?\n",
    " 2.  The results suggest several patterns... [**HOW MANY**]  It seems as if it's only one, i.e. the effect of approaching 0 faculty in any level.  Number two might be effects of the overall promotion probabilities relative to the overall hiring probabilities over time(?)  Right now this doesn't provide those overall probabilities.\n",
    " 3.  From what I understand now, we can't really test a promotion probability sweep with the replication model because a. it specifies that hiring comes before promotions, thus promotion probabilities are what's left over rather than a sweep, and b. total faculty N is conserved.  Is that correct?  [WE TALKED ABOUT THIS BUT I COULDN'T WRITE IT, WHICH MEANS I MUST NOT HAVE UNDERSTOOD THE ANSWERS.]\n",
    " 6.  \"This analysis provides a vanilla outlook on all 3 models with the data maintained intact.\" [Does this mean there are no changes in the original hiring and attrition rates for Model 1 and no changes in original hiring, promotion and attrition rates for Models 2 & 3? Is this correct?  In addition it means that the number of faculty is not conserved in any of the three models?  \n",
    " 7.  I assume that once the tables get translated into LaTex, I'll be able to format them better (i.e. merging cells, etc.)  Is that right?\n",
    " 8.  How many times is the simulation being run?  Where can I change the number of years?  Where do I find that info?  I assume at the end somewhere?  [NEED TO SPECIFY LOCATION IN CODE BETTER]\n",
    " 9.  DONE.  Wouldn't it be more accurate to give the promotion rate for the level below, i.e. the promotion rate for female assistants = 0.0555, instead of the promotion rate for female associates = 0.0555?\n",
    " 10.  Which model, i.e. replication, promote-hire, hire-promote, do the sweeps use?\n",
    " 11.  Under Management Department:  How do I get it to move to the next line without adding another space between each?"
   ]
  },
  {
   "cell_type": "markdown",
   "metadata": {},
   "source": [
    "#1.0  Management Department  (4.14.16)\n",
    "\n",
    "This chapter uses data from the Management Department and includes simulations for three models:  replication, hire-promote and promote-hire.\n",
    "\n",
    "1)  The replication model is a stochastic version of the original mathematical model. \n",
    "\n",
    "2)  The hire-promote model adds attrition rates and specifies that, during each transition, hires are selected before promotions are allocated. \n",
    "\n",
    "3)  The promote-hire model adds attrition rates and specifices that, during each transition, promotions are allocated before hires are selected.\n",
    "\n",
    "[NOTE:  HOW DO I GET IT TO LIST THE THREE MODELS WITHOUT THE SPACE BETWEEN EACH?]"
   ]
  },
  {
   "cell_type": "markdown",
   "metadata": {},
   "source": [
    "## 1.1  Data\n",
    "\n",
    "The data for these analyses come from the faculty personnel office of a university in the Western United States.  Eight years of faculty data were obtained, 2004-05 through 2012-13.  The data follow the hiring, promotion and attrition of each full-time ladder faculty member.  Hiring includes all faculty hired externally for assistant, associate and full professor positions.  Attrition includes all faculty who leave for any reason.  Promotions include faculty who move from assistant to associate professor and from associate to full professor.\n",
    "\n",
    "Table 1 shows the actual hiring, promotion and attrition rates calculated from the eight years of faculty data.  For reference, this table is repeated at the beginning of each analysis segment.\n",
    "\n",
    "                                  ASSISTANT PROF  ASSOCIATE PROF   FULL PROF \n",
    "                   \n",
    "| BASELINE RATES      | women   |  men        | women   |  men        | women  |  men  \n",
    "| --------------      | -----   | ------      | -----   |------       | ------ |------- \n",
    "| hiring              | 0.1724  | 0.8276      | 0.0400  | 0.0600      | 0.1667 | 0.8333  \n",
    "| promotion           | 0.0555  | 0.0611      | 0.1905  | 0.1149      | NA     | NA \n",
    "| attrition           | 0.0556  | 0.0687      | 0.0000  | 0.0574      | 0.0741 | 0.0399\n",
    "\n"
   ]
  },
  {
   "cell_type": "markdown",
   "metadata": {},
   "source": [
    "## 1.2   Model Specifications\n",
    "The analysis shows three simulation models.  All use the department's actual hiring, promotion and attrition rates.  Each requires that the number of faculty is an integer value rather than a fractional one.  Replacements in all models are selected using a cascade that begins with full professor.  The models differ in how they incorporate promotion rates.\n",
    "\n",
    "Decision rule when rates produce fractional faculty.  The department's hiring, attrition and promotion rates result in many fractional faculty at the end of each year.  For instance, if the hiring rate for female assistant professors is 0.25, then if there are five hires, 1.25 of them should be women.  However, because of the integer requirement, the model needs to decide whether to hire one or two women.  The decision rule is 1) round the fraction down to the nearest integer, 2) randomly select a number from a uniform distribution and 3) hire two women if the random numbers falls below the hiring rate for that year and hire one if the random number falls above. This decision rule is used every time a fractional faculty member results.  This means it is applied separately to women and to men at each career level and for each of the three rates (hiring, attrition and promotion).\n",
    "\n",
    "**Model 1:  Replication.** This model is a stochastic version of the original model.  It is a replication in that it uses the original model's hiring and attrition rates as well as its' assumptions about how replacements are filled.  Similar to the original model, actual promotion rates are not incorporated and change each year.  They are set using the percentage of female assistant and associate faculty the year before the promotion.  Different from the original model, the replication counts faculty using integers rather than fractions.  The decision rule for promotions maintains roughly the same number of faculty at each career level throughout the simulation.\n",
    "\n",
    "1.  Full Professor replacements (Level 3).  After full professors leave, replacements are selected first by outside hires at the department's full professor hiring rates.  Remaining vacancies are filled by associate professor promotions.  The decision rule for fractional faculty is applied to all replacements.\n",
    "\n",
    "2.  Associate Professor replacements (Level 2).  All associate professors who leave or are promoted are replaced first by outside hires at the department's associate professor hiring rates.  Remaining vacancies are filled by assistant professor promotions.  The decision rkule for fractional faculty is applied to all replacements.\n",
    "\n",
    "3.  Assistant Professor replacements (Level 1).  All assistant professors who leave or are promoted are replaced by outside hires.\n",
    "\n",
    "[**KRISHNA:  WOULD YOU CORRECT MODEL 3?  RIGHT NOW, MODEL 3 IS A COPY OF MODEL 2.  I COULDN'T REMEMBER THE MODEL 3 DETAILS.**]\n",
    "\n",
    "**MODEL 2:  Hire-Promote.**  This is a stochastic model using actual hiring, attrition and promotion rates.  Similar to Model 1, replacements are selected using a cascade that beings with full professors, with replacements for women selected before replacements for men.  This model differs from Model 1 in several ways.  First, faculty are promoted using actual promotion rates, which means these rates are fixed rather than variable throughout the simulation.   Second, the number of faculty at each level is not conserved.  It may increase or decrease.  The decision rule for increasing or decreasing faculty size is: [XXXXXX WHAT DECISION RULE DID WE END UP USING?]\n",
    "\n",
    "1.   Full Professor replacements (Level 3). Full professors leave at the department's full professor attrition rate. Next, full professors are hired using the full professor hiring rate. Finally, associate professors are promoted using the associate professor promotion rate.\n",
    "\n",
    "2.  Assocate professor replacements (Level 2).  Associate professors leave at the department's associate professor attrition rate. Next, associate professors are hired using the associate professor hiring rate. Finally, assistant professors are promoted using the assistant professor promotion rate. \n",
    "\n",
    "3. Assistant Professor replacements (Level l). Assistant professors leave at the department's assistant level attrition rate. Next, assistant professors are hired using the assistant professor hiring rate. Finally, assistant professors are promoted to associate using the assistant professor promotion rate.\n",
    "\n",
    "\n",
    "**MODEL 3:  Promote-Hire.**  REVISE EVERYTHING BELOW FOR PROMOTE-HIRE MODEL.  This is a stochastic model using actual hiring, attrition and promotion rates.  Similar to Model 1, replacements are selected using a cascade that beings with full professors, with replacements for women selected before replacements for men.  This model differs from Model 1 in several ways.  First, faculty are promoted using actual promotion rates, which means these rates are fixed rather than variable throughout the simulation.   Second, the number of faculty at each level is not conserved.  It may increase or decrease.  The decision rule for increasing or decreasing faculty size is: XXXX\n",
    "\n",
    "1.   Full Professor replacements (Level 3). Full professors leave at the department's full professor attrition rate. Next, full professors are hired using the full professor hiring rate. Finally, associate professors are promoted using the associate professor promotion rate.\n",
    "\n",
    "2.  Assocate professor replacements (Level 2).  Associate professors leave at the department's associate professor attrition rate. Next, associate professors are hired using the associate professor hiring rate. Finally, assistant professors are promoted using the assistant professor promotion rate. \n",
    "\n",
    "3. Assistant Professor replacements (Level l). Assistant professors leave at the department's assistant level attrition rate. Next, assistant professors are hired using the assistant professor hiring rate. Finally, assistant professors are promoted to associate using the assistant professor promotion rate."
   ]
  },
  {
   "cell_type": "markdown",
   "metadata": {},
   "source": [
    "## 1.3  Baseline Results\n",
    "This section shows the results for each of the three models: replication, hire-promote and promote-hire.  Each model includes the department's change in the: 1) proportion of women, 2) proportion of women by level 3) number of women by level and 4) probability of achieving  designated goal in N years.\n",
    "\n",
    "The tables below actual show hiring, promotion and attrition rates for women and men at each level.  \n",
    "\n",
    "                   ASSISTANT PROF (LEV 1)   ASSOCIATE PROF (LEV 2)\tFULL PROF (LEV 3) \n",
    "                   \n",
    "| BASELINE RATES      | women   |  men        | women   |  men        | women  |  men  \n",
    "| --------------      | -----   | ------      | -----   |------       | ------ |------- \n",
    "| hiring              | 0.1724  | 0.8276      | 0.0400  | 0.0600      | 0.1667 | 0.8333  \n",
    "| promotion           | 0.0555  | 0.0611      | 0.1905  | 0.1149      | NA     | NA \n",
    "| attrition           | 0.0556  | 0.0687      | 0.0000  | 0.0574      | 0.0741 | 0.0399\n",
    "\n",
    "\n",
    "###  1.3.1  Change in Proportion of Women\n",
    "Figure 1 shows the change in the proportion of women over time using the three models:  replication, hire-promote and promote-hire.  The proportion increases 4-6% depending on the model. Figure 2 shows the probability of achieving a designated goal within N years.\n",
    "\n",
    "The replication model reproduces the values of the mathematical model to four decimal places (filename).  The promote-hire models outperform the hire-promote models because the probability of adding a female full is higher for promoting an associate (0.1905) than from hiring a full (0.0250).  Similarly, the probability of adding a female associate is higher for promoting an assistant (0.0555) than for hiring an associate  (.0400). All assistants are hired so there is no differential promotion effect.  This would be possible if a fourth level were added to include the availability of doctoral students.  These data are unavailable.\n",
    "\n"
   ]
  },
  {
   "cell_type": "markdown",
   "metadata": {},
   "source": [
    "### 1.3.2  Change in Proportion Women by Level\n",
    "Figure 3 shows the change in the proportion of women over time using the three models:  replication, hire-promote and promote-hire.  The proportion increases 4-6% depending on the model. Figure 4 shows the probability of achieving a designated goal within N years.\n",
    "\n",
    "[**This  set of analyses should show changes in proportions rather than changes in counts.  The average N and range for each level should go in a heading or footer.  The count simulations can be used to provide an example of what happens to flows**]  "
   ]
  },
  {
   "cell_type": "markdown",
   "metadata": {},
   "source": [
    "### 1.3.3  Change in *Number* of Women by Level\n",
    "Figure 5 shows the change in the number of women over time using the three models:  replication, hire-promote and promote-hire.  The proportion increases 4-6% depending on the model. Figure 6 shows the probability of achieving a designated goal within N years.\n",
    "\n",
    "[**This next set of analyses should show changes in counts of women by level.  The average N and range for each level should go in a heading or footer.  These show what happens to flows across levels**]"
   ]
  },
  {
   "cell_type": "markdown",
   "metadata": {},
   "source": [
    "### 1.3.4 Discussion  [ALL OF THIS WILL NEED TO BE REWRITTEN]\n",
    "\n",
    "\n",
    "The behavior of the promote-hire and hire-promote models is very similar except for male associate professor. At level 1, both models have to hire men/women because there is no promotion into level 1. \n",
    "\n",
    "#### Replication model\n",
    "\n",
    "The replication model, which is a promote-hire model that doesn't include actual promotion rates, shows a decline in the number of male assistants as they are promoted to associate. We don't see a lot of growth in assistants for either men or women because in this model all vacancies arise at the top and trickle down. Hence there are likely only a few vacancies if any offered to assistants, and even then there is almost a certainty of hiring men given a probability of 83%. Since there is very little likelihood for women to enter at this level [WHICH ONE?], the number of female assistants dwindles over time. \n",
    "\n",
    "The behavior at level 2 is especially interesting. Because the probability of promotion from level 1 to 2 is lower than the probability of promotion from level 2 to 3, any woman entering level 2 is likely to be promoted after a few years. However, as women are promoted into level 3, not enough women are promoted out of level 1 to take their place. Hence over time the number of level 2 women shrinks towards zero. When the number of females at level 2 hits zero, then women who leave level 3 due to attrition cannot be replaced by other women--since there are none. The dearth of women at level 2 leads to more men being promoted from 2 to 3--thus leading to a shrinkage of men at level 2.  \n",
    "\n",
    "**One challenge with this model is that the promotion rate is variable, based on the proportion of women at each level. As the number of female associates falls, this makes the promotion rate [OR NUMBER OF?] of female associates smaller and smaller. An appropriate alternative would be to use the same promotion rate for men/women as the hire-promote model.**\n",
    "\n",
    "\n",
    "#### Promote-hire model\n",
    "\n",
    "The Promote-hire fp model essentially follows the same pattern as the Replication model.\n",
    "\n",
    "#### Hire-promote model\n",
    "\n",
    "The hire-promote model seems to work well for men, especially at level 2. The chances of a man being hired are always better for hiring versus promotion--as per the tables above. Hence the hire first model allows more men to be hired, especially at level 2. Women have a better chance of being promoted to level 3 from level 2, so this allows some accumulation of men at level 2. Once the number of women at level 2 falls to zero, the accumulation of men flattens as only men can now be promoted from level 2 to 3. "
   ]
  },
  {
   "cell_type": "markdown",
   "metadata": {},
   "source": [
    "### 1.4  Parameter Sweep - Hiring Rates\n",
    "This section shows the effects of increasing or decreasing hiring rates for each level separately and for mixed level changes across levels.  The tables below show actual hiring, promotion and attrition rates for women and men at each level.  \n",
    "\n",
    "                   ASSISTANT PROF (LEV 1)   ASSOCIATE PROF (LEV 2)\tFULL PROF (LEV 3) \n",
    "                   \n",
    "| BASELINE RATES      | women   |  men        | women   |  men        | women  |  men  \n",
    "| --------------      | -----   | ------      | -----   |------       | ------ |------- \n",
    "| hiring              | 0.1724  | 0.8276      | 0.0400  | 0.0600      | 0.1667 | 0.8333  \n",
    "| promotion           | 0.0555  | 0.0611      | 0.1905  | 0.1149      | NA     | NA \n",
    "| attrition           | 0.0556  | 0.0687      | 0.0000  | 0.0574      | 0.0741 | 0.0399\n"
   ]
  },
  {
   "cell_type": "markdown",
   "metadata": {},
   "source": [
    "### 1.4.1  Assistant Professor (Hiring Rates)\n",
    "Figure X shows the effects of increasing or decreasing hiring rates for assistant professors on the proportion women in the transition from assistant to associate professor."
   ]
  },
  {
   "cell_type": "markdown",
   "metadata": {},
   "source": [
    "### 1.4.2  Associate to Full Professor (Hiring Rates)\n",
    "Figure X shows the effects of increasing or decreasing hiring rates for associate professors on the proportion women in the transition from associate to full professor."
   ]
  },
  {
   "cell_type": "markdown",
   "metadata": {},
   "source": [
    "### 1.4.3  Scenarios Including Optimistic and Pessimistic Changes for All Transitions  (Hiring Rates)\n",
    "Figures X through X show the effects of increasing and decreasing hiring rates on the proportion women for optimistic, very optimistic and pessimistic scenarios."
   ]
  },
  {
   "cell_type": "markdown",
   "metadata": {},
   "source": [
    "### 1.4.4  Discussion of Scenario Models  (Hiring Rates)\n",
    "Discussion of model results given optimistic, very optimistic and pessimistic hiring scenarios."
   ]
  },
  {
   "cell_type": "markdown",
   "metadata": {},
   "source": [
    "## 1.5  Parameter Sweep - Promotion Rates\n",
    "This section shows the effects of increasing or decreasing promotions rates for each transition.\n",
    "\n",
    "The tables below show actual hiring, promotion and attrition rates for women and men at each level.  \n",
    "\n",
    "                   ASSISTANT PROF (LEV 1)   ASSOCIATE PROF (LEV 2)\tFULL PROF (LEV 3) \n",
    "                   \n",
    "| BASELINE RATES      | women   |  men        | women   |  men        | women  |  men  \n",
    "| --------------      | -----   | ------      | -----   |------       | ------ |------- \n",
    "| hiring              | 0.1724  | 0.8276      | 0.0400  | 0.0600      | 0.1667 | 0.8333  \n",
    "| promotion           | 0.0555  | 0.0611      | 0.1905  | 0.1149      | NA     | NA \n",
    "| attrition           | 0.0556  | 0.0687      | 0.0000  | 0.0574      | 0.0741 | 0.0399\n"
   ]
  },
  {
   "cell_type": "markdown",
   "metadata": {},
   "source": [
    "### 1.5.1 Assistant to Associate Professor (Promotion Rates)\n",
    "Figure X shows the effects of increasing or decreasing promotion rates for assistant professors on the proportion women in the transition from assistant to associate professor."
   ]
  },
  {
   "cell_type": "markdown",
   "metadata": {},
   "source": [
    "### 1.5.2  Associate to Full Professor (Promotion Rates)\n",
    "Figure X shows the effects of increasing or decreasing hiring rates for associate professors on the proportion women in the transition from associate to full professor."
   ]
  },
  {
   "cell_type": "markdown",
   "metadata": {},
   "source": [
    "### 1.5.3  Scenarios Including Optimistic and Pessimistic Changes for All Transitions  (Promotion Rates)\n",
    "Figures X through X show the effects of increasing and decreasing hiring rates on the proportion women for optimistic, very optimistic and pessimistic scenarios."
   ]
  },
  {
   "cell_type": "markdown",
   "metadata": {},
   "source": [
    "### 1.5.4  Discussion of Scenario Models  (Promotion Rates)\n",
    "Discussion of model results given optimistic, very optimistic and pessimistic promotion scenarios."
   ]
  },
  {
   "cell_type": "markdown",
   "metadata": {},
   "source": [
    "## 1.6  Parameter Sweep - Attrition Rates\n",
    "This section shows the effects of increasing or decreasing promotions rates for each transition.\n",
    "\n",
    "The tables below show actual hiring, promotion and attrition rates for women and men at each level.  \n",
    "\n",
    "                   ASSISTANT PROF (LEV 1)   ASSOCIATE PROF (LEV 2)\tFULL PROF (LEV 3) \n",
    "                   \n",
    "| BASELINE RATES      | women   |  men        | women   |  men        | women  |  men  \n",
    "| --------------      | -----   | ------      | -----   |------       | ------ |------- \n",
    "| hiring              | 0.1724  | 0.8276      | 0.0400  | 0.0600      | 0.1667 | 0.8333  \n",
    "| promotion           | 0.0555  | 0.0611      | 0.1905  | 0.1149      | NA     | NA \n",
    "| attrition           | 0.0556  | 0.0687      | 0.0000  | 0.0574      | 0.0741 | 0.0399\n"
   ]
  },
  {
   "cell_type": "markdown",
   "metadata": {},
   "source": [
    "### 1.6.1 Assistant Professor (Attrition Rates)\n",
    "Figure X shows the effects of increasing or decreasing attrition rates for assistant professors on the proportion women in the transition from assistant to associate professor."
   ]
  },
  {
   "cell_type": "markdown",
   "metadata": {},
   "source": [
    "### 1.6.2  Associate to Full Professor (Attrition Rates)\n",
    "Figure X shows the effects of increasing or decreasing attrition rates for associate professors on the proportion women in the transition from associate to full professor."
   ]
  },
  {
   "cell_type": "markdown",
   "metadata": {},
   "source": [
    "### 1.6.3  Scenarios Including Optimistic, Very Optimistic and Pessimistic Changes  (Attrition Rates)\n",
    "Figures X through X show the effects of increasing and decreasing attrition rates on the proportion women for optimistic, very optimistic and pessimistic scenarios."
   ]
  },
  {
   "cell_type": "markdown",
   "metadata": {},
   "source": [
    "### 1.6.4  Discussion of Scenario Models  (Attrition Rates)\n",
    "Discussion of model results given optimistic, very optimistic and pessimistic attrition scenarios."
   ]
  },
  {
   "cell_type": "markdown",
   "metadata": {},
   "source": [
    "## 1.7  Scenarios including Optimistic, Very Optimistic and Pessimistic Assumptions (Hiring, Promotion & Attrition) \n",
    "The following models examine the effects of optimistic, very optimistic and pessimistic assumptions about changes in all three rates:  hiring, promotion and attrition.  The tables below show actual hiring, promotion and attrition rates for women and men at each level.  \n",
    "\n",
    "                   ASSISTANT PROF (LEV 1)   ASSOCIATE PROF (LEV 2)\tFULL PROF (LEV 3) \n",
    "                   \n",
    "| BASELINE RATES      | women   |  men        | women   |  men        | women  |  men  \n",
    "| --------------      | -----   | ------      | -----   |------       | ------ |------- \n",
    "| hiring              | 0.1724  | 0.8276      | 0.0400  | 0.0600      | 0.1667 | 0.8333  \n",
    "| promotion           | 0.0555  | 0.0611      | 0.1905  | 0.1149      | NA     | NA \n",
    "| attrition           | 0.0556  | 0.0687      | 0.0000  | 0.0574      | 0.0741 | 0.0399\n"
   ]
  },
  {
   "cell_type": "markdown",
   "metadata": {},
   "source": [
    "## 1.7.1  Optimistic Scenario  \n",
    "The following models examine the effects of optimistic assumptions about change.\n",
    "\n",
    "**Model 1.  The effect of optimistic assumptions on proportion of women\n",
    "\n",
    "**Model 2.  The effect of optimistic assumptions on proportion of women by level\n",
    "\n",
    "**Model 3.  Probabilities of achieving results of optimistic scenario for overall proportion of women and proportion of women by level.\n"
   ]
  },
  {
   "cell_type": "markdown",
   "metadata": {},
   "source": [
    "## 1.7.2  Very Optimistic Scenario  \n",
    "The following models examine the effects of very optimistic assumptions about change.\n",
    "\n",
    "**Model 1.  The effect of very optimistic assumptions on proportion of women\n",
    "\n",
    "**Model 2.  The effect of very optimistic assumptions on proportion of women by level\n",
    "\n",
    "**Model 3.  Probabilities of achieving results of very optimistic scenario for overall proportion of women and proportion of women by level.\n"
   ]
  },
  {
   "cell_type": "markdown",
   "metadata": {},
   "source": [
    "## 1.7.3  Pessimistic Scenario  \n",
    "The following models examine the effects of pessimistic assumptions about change.\n",
    "\n",
    "**Model 1.  The effect of pessimistic scenario on proportion of women\n",
    "\n",
    "**Model 2.  The effect of pessimistic scenario on proportion of women by level\n",
    "\n",
    "**Model 3.  Probabilities of achieving results of pessimistic scenario for overall proportion of women and proportion of women by level.\n"
   ]
  },
  {
   "cell_type": "markdown",
   "metadata": {},
   "source": [
    "## 1.7.4 Discussion of Scenario Results"
   ]
  },
  {
   "cell_type": "markdown",
   "metadata": {},
   "source": [
    "## Initialization Cells\n"
   ]
  },
  {
   "cell_type": "code",
   "execution_count": 1,
   "metadata": {
    "collapsed": false,
    "init_cell": true
   },
   "outputs": [
    {
     "name": "stdout",
     "output_type": "stream",
     "text": [
      "Populating the interactive namespace from numpy and matplotlib\n"
     ]
    }
   ],
   "source": [
    "%pylab inline\n",
    "pylab.rcParams['figure.figsize'] = (13, 13)\n",
    "matplotlib.rcParams.update({'font.size': 14})\n",
    "import matplotlib.pyplot as plt\n",
    "import builtins\n",
    "import os, sys\n",
    "from IPython.lib import deepreload\n",
    "builtins.reload = deepreload.reload\n",
    "%load_ext autoreload"
   ]
  },
  {
   "cell_type": "code",
   "execution_count": 2,
   "metadata": {
    "collapsed": false,
    "init_cell": true
   },
   "outputs": [
    {
     "data": {
      "text/html": [
       "<link href='https://fonts.googleapis.com/css?family=Montserrat' rel='stylesheet' type='text/css'>\n",
       "<link href='https://fonts.googleapis.com/css?family=Lato' rel='stylesheet' type='text/css'>\n",
       "<link href='http://fonts.googleapis.com/css?family=Fenix' rel='stylesheet' type='text/css'>\n",
       "<link href='http://fonts.googleapis.com/css?family=Alegreya+Sans:100,300,400,500,700,800,900,100italic,300italic,400italic,500italic,700italic,800italic,900italic' rel='stylesheet' type='text/css'>\n",
       "<link href='http://fonts.googleapis.com/css?family=Source+Code+Pro:300,400' rel='stylesheet' type='text/css'>\n",
       "<style>\n",
       "    @font-face {\n",
       "        font-family: 'Montserrat', sans-serif;\n",
       "        src: url('http://mirrors.ctan.org/fonts/cm-unicode/fonts/otf/cmunss.otf');\n",
       "    }\n",
       "    div.cell{\n",
       "        width:800px;\n",
       "        margin-left:16% !important;\n",
       "        margin-right:auto;\n",
       "    }\n",
       "    h1 {\n",
       "        font-family: 'Alegreya Sans', sans-serif;\n",
       "    }\n",
       "    h2 {\n",
       "        font-family: 'Montserrat', serif;\n",
       "    }\n",
       "    h3{\n",
       "\t\tfont-family: 'Montserrat', serif;\n",
       "        margin-top:12px;\n",
       "        margin-bottom: 3px;\n",
       "       }\n",
       "\th4{\n",
       "\t\tfont-family: 'Montserrat', serif;\n",
       "       }\n",
       "    h5 {\n",
       "        font-family: 'Montserrat', sans-serif;\n",
       "    }\t   \n",
       "    div.text_cell_render{\n",
       "        font-family: 'Alegreya Sans',Computer Modern, \"Helvetica Neue\", Arial, Helvetica, Geneva, sans-serif;\n",
       "        line-height: 135%;\n",
       "        font-size: 120%;\n",
       "        width:600px;\n",
       "        margin-left:auto;\n",
       "        margin-right:auto;\n",
       "    }\n",
       "    .CodeMirror{\n",
       "            font-family: \"Source Code Pro\";\n",
       "\t\t\tfont-size: 90%;\n",
       "    }\n",
       "/*    .prompt{\n",
       "        display: None;\n",
       "    }*/\n",
       "    .text_cell_render h1 {\n",
       "        font-weight: 200;\n",
       "        font-size: 50pt;\n",
       "\t\tline-height: 100%;\n",
       "        color:#CD2305;\n",
       "        margin-bottom: 0.5em;\n",
       "        margin-top: 0.5em;\n",
       "        display: block;\n",
       "    }\t\n",
       "\n",
       "    \n",
       "    .warning{\n",
       "        color: rgb( 240, 20, 20 )\n",
       "        }  \n",
       "</style>\n",
       "<script>\n",
       "    MathJax.Hub.Config({\n",
       "                        TeX: {\n",
       "                           extensions: [\"AMSmath.js\"]\n",
       "                           },\n",
       "                tex2jax: {\n",
       "                    inlineMath: [ ['$','$'], [\"\\\\(\",\"\\\\)\"] ],\n",
       "                    displayMath: [ ['$$','$$'], [\"\\\\[\",\"\\\\]\"] ]\n",
       "                },\n",
       "                displayAlign: 'center', // Change this to 'center' to center equations.\n",
       "                \"HTML-CSS\": {\n",
       "                    styles: {'.MathJax_Display': {\"margin\": 4}}\n",
       "                }\n",
       "        });\n",
       "</script>\n"
      ],
      "text/plain": [
       "<IPython.core.display.HTML object>"
      ]
     },
     "execution_count": 2,
     "metadata": {},
     "output_type": "execute_result"
    }
   ],
   "source": [
    "from IPython.core.display import HTML\n",
    "\n",
    "def css_styling():\n",
    "    styles = open(\"styles/custom_lb.css\", \"r\").read()\n",
    "    return HTML(styles)\n",
    "css_styling()"
   ]
  },
  {
   "cell_type": "code",
   "execution_count": 3,
   "metadata": {
    "collapsed": true,
    "init_cell": true
   },
   "outputs": [],
   "source": [
    "number_of_females_1 = 3\n",
    "number_of_females_2 = 3\n",
    "number_of_females_3 = 2\n",
    "number_of_males_1 = 11\n",
    "number_of_males_2 = 12\n",
    "number_of_males_3 = 43\n",
    "number_of_initial_vacancies_1 = 5.303 \n",
    "number_of_initial_vacancies_2 = 5.9\n",
    "number_of_initial_vacancies_3 = 8.31\n",
    "hiring_rate_women_1 = 0.172\n",
    "hiring_rate_women_2 = 0.4\n",
    "hiring_rate_women_3 = 0.167\n",
    "attrition_rate_women_1 = 0.056\n",
    "attrition_rate_women_2 = 0.00\n",
    "attrition_rate_women_3 = 0.074\n",
    "attrition_rate_men_1 = 0.069\n",
    "attrition_rate_men_2 = 0.057\n",
    "attrition_rate_men_3 = 0.040\n",
    "probablity_of_outside_hire_1 = 1\n",
    "probability_of_outside_hire_2 = 0.125\n",
    "probability_of_outside_hire_3 = 0.150\n",
    "female_promotion_probability_1 = 0.0555\n",
    "female_promotion_probability_2 = 0.1905\n",
    "male_promotion_probability_1 = 0.0635\n",
    "male_promotion_probability_2 = 0.1149\n",
    "duration = 40\n",
    "\n",
    "data_mgmt = {'number_of_females_1': number_of_females_1,\n",
    "              'number_of_females_2': number_of_females_2,\n",
    "              'number_of_females_3': number_of_females_3,\n",
    "              'number_of_males_1': number_of_males_1,\n",
    "              'number_of_males_2': number_of_males_2,\n",
    "              'number_of_males_3': number_of_males_3,\n",
    "              'number_of_initial_vacancies_1': number_of_initial_vacancies_1, \n",
    "              'number_of_initial_vacancies_2': number_of_initial_vacancies_2,\n",
    "              'number_of_initial_vacancies_3': number_of_initial_vacancies_3,\n",
    "              'hiring_rate_women_1':hiring_rate_women_1,\n",
    "              'hiring_rate_women_2':hiring_rate_women_2,\n",
    "              'hiring_rate_women_3':hiring_rate_women_3,\n",
    "              'attrition_rate_women_1':attrition_rate_women_1,\n",
    "              'attrition_rate_women_2':attrition_rate_women_2,\n",
    "              'attrition_rate_women_3':attrition_rate_women_3,\n",
    "              'attrition_rate_men_1':attrition_rate_men_1,\n",
    "              'attrition_rate_men_2':attrition_rate_men_2,\n",
    "              'attrition_rate_men_3':attrition_rate_men_3,\n",
    "              'probablity_of_outside_hire_1':probablity_of_outside_hire_1,\n",
    "              'probability_of_outside_hire_2': probability_of_outside_hire_2,\n",
    "              'probability_of_outside_hire_3':probability_of_outside_hire_3,\n",
    "              'female_promotion_probability_1': female_promotion_probability_1,\n",
    "              'female_promotion_probability_2': female_promotion_probability_2,\n",
    "              'male_promotion_probability_1' : male_promotion_probability_1,\n",
    "              'male_promotion_probability_2' : male_promotion_probability_2,\n",
    "              'duration':duration}"
   ]
  },
  {
   "cell_type": "code",
   "execution_count": 4,
   "metadata": {
    "collapsed": false,
    "init_cell": true
   },
   "outputs": [
    {
     "ename": "NameError",
     "evalue": "name 'Replication_model' is not defined",
     "output_type": "error",
     "traceback": [
      "\u001b[1;31m---------------------------------------------------------------------------\u001b[0m",
      "\u001b[1;31mNameError\u001b[0m                                 Traceback (most recent call last)",
      "\u001b[1;32m<ipython-input-4-5a1e72dd0dd1>\u001b[0m in \u001b[0;36m<module>\u001b[1;34m()\u001b[0m\n\u001b[1;32m----> 1\u001b[1;33m modlist = list([Replication_model(**data_mgmt), \n\u001b[0m\u001b[0;32m      2\u001b[0m                 \u001b[0mBasic_stochastic_model\u001b[0m\u001b[1;33m(\u001b[0m\u001b[1;33m**\u001b[0m\u001b[0mdata_mgmt\u001b[0m\u001b[1;33m)\u001b[0m\u001b[1;33m,\u001b[0m\u001b[1;33m\u001b[0m\u001b[0m\n\u001b[0;32m      3\u001b[0m                 Stochastic_model_with_promotion_and_first_hiring(**data_mgmt)])\n\u001b[0;32m      4\u001b[0m \u001b[1;33m\u001b[0m\u001b[0m\n\u001b[0;32m      5\u001b[0m modlist2 = list([Replication_model(**data_mgmt), \n",
      "\u001b[1;31mNameError\u001b[0m: name 'Replication_model' is not defined"
     ]
    }
   ],
   "source": [
    "modlist = list([Replication_model(**data_mgmt), \n",
    "                Basic_stochastic_model(**data_mgmt), \n",
    "                Stochastic_model_with_promotion_and_first_hiring(**data_mgmt)])\n",
    "\n",
    "modlist2 = list([Replication_model(**data_mgmt), \n",
    "                Basic_stochastic_model_fixed_promotion(**data_mgmt), \n",
    "                Stochastic_model_with_promotion_and_first_hiring(**data_mgmt)])\n",
    "\n",
    "modlist_all = list([ \n",
    "                Basic_stochastic_model(**data_mgmt),\n",
    "                Basic_stochastic_model_fixed_promotion(**data_mgmt), \n",
    "                Stochastic_model_with_promotion_and_first_hiring(**data_mgmt)])\n",
    "\n",
    "c = Comparison(modlist)\n",
    "d = Comparison(modlist2)\n",
    "e = Comparison(modlist_all)"
   ]
  }
 ],
 "metadata": {
  "kernelspec": {
   "display_name": "Python 2",
   "language": "python",
   "name": "python2"
  },
  "language_info": {
   "codemirror_mode": {
    "name": "ipython",
    "version": 2
   },
   "file_extension": ".py",
   "mimetype": "text/x-python",
   "name": "python",
   "nbconvert_exporter": "python",
   "pygments_lexer": "ipython2",
   "version": "2.7.3"
  },
  "toc": {
   "toc_cell": true,
   "toc_number_sections": true,
   "toc_section_display": "none",
   "toc_threshold": 4,
   "toc_window_display": false
  }
 },
 "nbformat": 4,
 "nbformat_minor": 0
}
