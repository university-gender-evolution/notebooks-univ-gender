{
 "cells": [
  {
   "cell_type": "markdown",
   "metadata": {
    "toc": "true"
   },
   "source": [
    "# Table of Contents\n",
    " <p><div class=\"lev1\"><a href=\"#Chapter-2:-Management-Department-–-Three-Models-Replication,-Hire-Promote-and-Promote-Hire-Simulations-(4.2.16)\"><span class=\"toc-item-num\">1 - </span>Chapter 2: Management Department – Three Models Replication, Hire-Promote and Promote-Hire Simulations (4.2.16)</a></div><div class=\"lev2\"><a href=\"#Data\"><span class=\"toc-item-num\">1.1 - </span>Data</a></div><div class=\"lev2\"><a href=\"#Model-Specifications\"><span class=\"toc-item-num\">1.2 - </span>Model Specifications</a></div><div class=\"lev2\"><a href=\"#Baseline-Results\"><span class=\"toc-item-num\">1.3 - </span>Baseline Results</a></div><div class=\"lev3\"><a href=\"#Change-in-Proportion-Women-Over-Time\"><span class=\"toc-item-num\">1.3.1 - </span>Change in Proportion Women Over Time</a></div><div class=\"lev3\"><a href=\"#Change-in-Proportion-Women-Over-Time-by-Level\"><span class=\"toc-item-num\">1.3.2 - </span>Change in Proportion Women Over Time by Level</a></div><div class=\"lev3\"><a href=\"#Change-in-Number-of-Women-Over-Time-by-Level\"><span class=\"toc-item-num\">1.3.3 - </span>Change in Number of Women Over Time by Level</a></div><div class=\"lev2\"><a href=\"#Parameter-Sweep---Hiring-Rates\"><span class=\"toc-item-num\">1.4 - </span>Parameter Sweep - Hiring Rates</a></div><div class=\"lev3\"><a href=\"#Assistant-Professor-to-Associate-Professor\"><span class=\"toc-item-num\">1.4.1 - </span>Assistant Professor to Associate Professor</a></div><div class=\"lev3\"><a href=\"#Associate-Professor-to-Full-Professor\"><span class=\"toc-item-num\">1.4.2 - </span>Associate Professor to Full Professor</a></div><div class=\"lev3\"><a href=\"#Mixed-Model-Including-Assistant-to-Associate-Professor-and-Associate-to-Full-Professor\"><span class=\"toc-item-num\">1.4.3 - </span>Mixed Model Including Assistant to Associate Professor and Associate to Full Professor</a></div><div class=\"lev2\"><a href=\"#Parameter-Sweep---Promotion-Rates\"><span class=\"toc-item-num\">1.5 - </span>Parameter Sweep - Promotion Rates</a></div><div class=\"lev3\"><a href=\"#Assistant-Professor-to-Associate-Professor\"><span class=\"toc-item-num\">1.5.1 - </span>Assistant Professor to Associate Professor</a></div><div class=\"lev3\"><a href=\"#Associate-Professor-to-Full-Professor\"><span class=\"toc-item-num\">1.5.2 - </span>Associate Professor to Full Professor</a></div><div class=\"lev3\"><a href=\"#Mixed-Model-Including-Assistant-to-Associate-Professor-and-Associate-to-Full-Professor\"><span class=\"toc-item-num\">1.5.3 - </span>Mixed Model Including Assistant to Associate Professor and Associate to Full Professor</a></div><div class=\"lev2\"><a href=\"#Parameter-Sweep---Attrition-Rates\"><span class=\"toc-item-num\">1.6 - </span>Parameter Sweep - Attrition Rates</a></div><div class=\"lev3\"><a href=\"#Assistant-Professor-to-Associate-Professor\"><span class=\"toc-item-num\">1.6.1 - </span>Assistant Professor to Associate Professor</a></div><div class=\"lev3\"><a href=\"#Associate-Professor-to-Full-Professor\"><span class=\"toc-item-num\">1.6.2 - </span>Associate Professor to Full Professor</a></div><div class=\"lev3\"><a href=\"#Mixed-Model-Including-Assistant-to-Associate-Professor-and-Associate-to-Full-Professor\"><span class=\"toc-item-num\">1.6.3 - </span>Mixed Model Including Assistant to Associate Professor and Associate to Full Professor</a></div><div class=\"lev2\"><a href=\"#Initialization-Cells\"><span class=\"toc-item-num\">1.7 - </span>Initialization Cells</a></div>"
   ]
  },
  {
   "cell_type": "markdown",
   "metadata": {},
   "source": [
    "## Chapter 2: Management Department – Three Models Replication, Hire-Promote and Promote-Hire Simulations (4.2.16)\n",
    "\n",
    "\n",
    "\n"
   ]
  },
  {
   "cell_type": "markdown",
   "metadata": {},
   "source": [
    "## Data"
   ]
  },
  {
   "cell_type": "markdown",
   "metadata": {},
   "source": [
    "## Model Specifications"
   ]
  },
  {
   "cell_type": "markdown",
   "metadata": {},
   "source": [
    "## Baseline Results"
   ]
  },
  {
   "cell_type": "markdown",
   "metadata": {},
   "source": [
    "### Change in Proportion Women Over Time"
   ]
  },
  {
   "cell_type": "markdown",
   "metadata": {},
   "source": [
    "### Change in Proportion Women Over Time by Level"
   ]
  },
  {
   "cell_type": "markdown",
   "metadata": {},
   "source": [
    "### Change in Number of Women Over Time by Level"
   ]
  },
  {
   "cell_type": "markdown",
   "metadata": {},
   "source": [
    "## Parameter Sweep - Hiring Rates"
   ]
  },
  {
   "cell_type": "markdown",
   "metadata": {},
   "source": [
    "### Assistant Professor to Associate Professor"
   ]
  },
  {
   "cell_type": "markdown",
   "metadata": {},
   "source": [
    "### Associate Professor to Full Professor"
   ]
  },
  {
   "cell_type": "markdown",
   "metadata": {},
   "source": [
    "### Mixed Model Including Assistant to Associate Professor and Associate to Full Professor"
   ]
  },
  {
   "cell_type": "markdown",
   "metadata": {},
   "source": [
    "## Parameter Sweep - Promotion Rates"
   ]
  },
  {
   "cell_type": "markdown",
   "metadata": {},
   "source": [
    "### Assistant Professor to Associate Professor"
   ]
  },
  {
   "cell_type": "markdown",
   "metadata": {},
   "source": [
    "### Associate Professor to Full Professor"
   ]
  },
  {
   "cell_type": "markdown",
   "metadata": {},
   "source": [
    "### Mixed Model Including Assistant to Associate Professor and Associate to Full Professor"
   ]
  },
  {
   "cell_type": "markdown",
   "metadata": {},
   "source": [
    "## Parameter Sweep - Attrition Rates"
   ]
  },
  {
   "cell_type": "markdown",
   "metadata": {},
   "source": [
    "### Assistant Professor to Associate Professor"
   ]
  },
  {
   "cell_type": "markdown",
   "metadata": {},
   "source": [
    "### Associate Professor to Full Professor"
   ]
  },
  {
   "cell_type": "markdown",
   "metadata": {},
   "source": [
    "### Mixed Model Including Assistant to Associate Professor and Associate to Full Professor"
   ]
  },
  {
   "cell_type": "markdown",
   "metadata": {},
   "source": [
    "## Scenarios"
   ]
  },
  {
   "cell_type": "markdown",
   "metadata": {},
   "source": [
    "## Initialization Cells\n"
   ]
  },
  {
   "cell_type": "code",
   "execution_count": 1,
   "metadata": {
    "collapsed": false,
    "init_cell": true
   },
   "outputs": [
    {
     "name": "stdout",
     "output_type": "stream",
     "text": [
      "Populating the interactive namespace from numpy and matplotlib\n"
     ]
    }
   ],
   "source": [
    "%pylab inline\n",
    "pylab.rcParams['figure.figsize'] = (13, 13)\n",
    "matplotlib.rcParams.update({'font.size': 14})\n",
    "import matplotlib.pyplot as plt\n",
    "import builtins\n",
    "import os, sys\n",
    "from IPython.lib import deepreload\n",
    "builtins.reload = deepreload.reload\n",
    "%load_ext autoreload"
   ]
  },
  {
   "cell_type": "code",
   "execution_count": 2,
   "metadata": {
    "collapsed": false,
    "init_cell": true
   },
   "outputs": [
    {
     "data": {
      "text/html": [
       "<link href='https://fonts.googleapis.com/css?family=Montserrat' rel='stylesheet' type='text/css'>\n",
       "<link href='https://fonts.googleapis.com/css?family=Lato' rel='stylesheet' type='text/css'>\n",
       "<link href='http://fonts.googleapis.com/css?family=Fenix' rel='stylesheet' type='text/css'>\n",
       "<link href='http://fonts.googleapis.com/css?family=Alegreya+Sans:100,300,400,500,700,800,900,100italic,300italic,400italic,500italic,700italic,800italic,900italic' rel='stylesheet' type='text/css'>\n",
       "<link href='http://fonts.googleapis.com/css?family=Source+Code+Pro:300,400' rel='stylesheet' type='text/css'>\n",
       "<style>\n",
       "    @font-face {\n",
       "        font-family: 'Montserrat', sans-serif;\n",
       "        src: url('http://mirrors.ctan.org/fonts/cm-unicode/fonts/otf/cmunss.otf');\n",
       "    }\n",
       "    div.cell{\n",
       "        width:800px;\n",
       "        margin-left:16% !important;\n",
       "        margin-right:auto;\n",
       "    }\n",
       "    h1 {\n",
       "        font-family: 'Alegreya Sans', sans-serif;\n",
       "    }\n",
       "    h2 {\n",
       "        font-family: 'Montserrat', serif;\n",
       "    }\n",
       "    h3{\n",
       "\t\tfont-family: 'Montserrat', serif;\n",
       "        margin-top:12px;\n",
       "        margin-bottom: 3px;\n",
       "       }\n",
       "\th4{\n",
       "\t\tfont-family: 'Montserrat', serif;\n",
       "       }\n",
       "    h5 {\n",
       "        font-family: 'Montserrat', sans-serif;\n",
       "    }\t   \n",
       "    div.text_cell_render{\n",
       "        font-family: 'Alegreya Sans',Computer Modern, \"Helvetica Neue\", Arial, Helvetica, Geneva, sans-serif;\n",
       "        line-height: 135%;\n",
       "        font-size: 120%;\n",
       "        width:600px;\n",
       "        margin-left:auto;\n",
       "        margin-right:auto;\n",
       "    }\n",
       "    .CodeMirror{\n",
       "            font-family: \"Source Code Pro\";\n",
       "\t\t\tfont-size: 90%;\n",
       "    }\n",
       "/*    .prompt{\n",
       "        display: None;\n",
       "    }*/\n",
       "    .text_cell_render h1 {\n",
       "        font-weight: 200;\n",
       "        font-size: 50pt;\n",
       "\t\tline-height: 100%;\n",
       "        color:#CD2305;\n",
       "        margin-bottom: 0.5em;\n",
       "        margin-top: 0.5em;\n",
       "        display: block;\n",
       "    }\t\n",
       "\n",
       "    \n",
       "    .warning{\n",
       "        color: rgb( 240, 20, 20 )\n",
       "        }  \n",
       "</style>\n",
       "<script>\n",
       "    MathJax.Hub.Config({\n",
       "                        TeX: {\n",
       "                           extensions: [\"AMSmath.js\"]\n",
       "                           },\n",
       "                tex2jax: {\n",
       "                    inlineMath: [ ['$','$'], [\"\\\\(\",\"\\\\)\"] ],\n",
       "                    displayMath: [ ['$$','$$'], [\"\\\\[\",\"\\\\]\"] ]\n",
       "                },\n",
       "                displayAlign: 'center', // Change this to 'center' to center equations.\n",
       "                \"HTML-CSS\": {\n",
       "                    styles: {'.MathJax_Display': {\"margin\": 4}}\n",
       "                }\n",
       "        });\n",
       "</script>\n"
      ],
      "text/plain": [
       "<IPython.core.display.HTML object>"
      ]
     },
     "execution_count": 2,
     "metadata": {},
     "output_type": "execute_result"
    }
   ],
   "source": [
    "from IPython.core.display import HTML\n",
    "\n",
    "def css_styling():\n",
    "    styles = open(\"styles/custom_lb.css\", \"r\").read()\n",
    "    return HTML(styles)\n",
    "css_styling()"
   ]
  },
  {
   "cell_type": "code",
   "execution_count": 3,
   "metadata": {
    "collapsed": true,
    "init_cell": true
   },
   "outputs": [],
   "source": [
    "number_of_females_1 = 3\n",
    "number_of_females_2 = 3\n",
    "number_of_females_3 = 2\n",
    "number_of_males_1 = 11\n",
    "number_of_males_2 = 12\n",
    "number_of_males_3 = 43\n",
    "number_of_initial_vacancies_1 = 5.303 \n",
    "number_of_initial_vacancies_2 = 5.9\n",
    "number_of_initial_vacancies_3 = 8.31\n",
    "hiring_rate_women_1 = 0.172\n",
    "hiring_rate_women_2 = 0.4\n",
    "hiring_rate_women_3 = 0.167\n",
    "attrition_rate_women_1 = 0.056\n",
    "attrition_rate_women_2 = 0.00\n",
    "attrition_rate_women_3 = 0.074\n",
    "attrition_rate_men_1 = 0.069\n",
    "attrition_rate_men_2 = 0.057\n",
    "attrition_rate_men_3 = 0.040\n",
    "probablity_of_outside_hire_1 = 1\n",
    "probability_of_outside_hire_2 = 0.125\n",
    "probability_of_outside_hire_3 = 0.150\n",
    "female_promotion_probability_1 = 0.0555\n",
    "female_promotion_probability_2 = 0.1905\n",
    "male_promotion_probability_1 = 0.0635\n",
    "male_promotion_probability_2 = 0.1149\n",
    "duration = 40\n",
    "\n",
    "data_mgmt = {'number_of_females_1': number_of_females_1,\n",
    "              'number_of_females_2': number_of_females_2,\n",
    "              'number_of_females_3': number_of_females_3,\n",
    "              'number_of_males_1': number_of_males_1,\n",
    "              'number_of_males_2': number_of_males_2,\n",
    "              'number_of_males_3': number_of_males_3,\n",
    "              'number_of_initial_vacancies_1': number_of_initial_vacancies_1, \n",
    "              'number_of_initial_vacancies_2': number_of_initial_vacancies_2,\n",
    "              'number_of_initial_vacancies_3': number_of_initial_vacancies_3,\n",
    "              'hiring_rate_women_1':hiring_rate_women_1,\n",
    "              'hiring_rate_women_2':hiring_rate_women_2,\n",
    "              'hiring_rate_women_3':hiring_rate_women_3,\n",
    "              'attrition_rate_women_1':attrition_rate_women_1,\n",
    "              'attrition_rate_women_2':attrition_rate_women_2,\n",
    "              'attrition_rate_women_3':attrition_rate_women_3,\n",
    "              'attrition_rate_men_1':attrition_rate_men_1,\n",
    "              'attrition_rate_men_2':attrition_rate_men_2,\n",
    "              'attrition_rate_men_3':attrition_rate_men_3,\n",
    "              'probablity_of_outside_hire_1':probablity_of_outside_hire_1,\n",
    "              'probability_of_outside_hire_2': probability_of_outside_hire_2,\n",
    "              'probability_of_outside_hire_3':probability_of_outside_hire_3,\n",
    "              'female_promotion_probability_1': female_promotion_probability_1,\n",
    "              'female_promotion_probability_2': female_promotion_probability_2,\n",
    "              'male_promotion_probability_1' : male_promotion_probability_1,\n",
    "              'male_promotion_probability_2' : male_promotion_probability_2,\n",
    "              'duration':duration}"
   ]
  },
  {
   "cell_type": "code",
   "execution_count": 4,
   "metadata": {
    "collapsed": false,
    "init_cell": true
   },
   "outputs": [
    {
     "ename": "NameError",
     "evalue": "name 'Replication_model' is not defined",
     "output_type": "error",
     "traceback": [
      "\u001b[1;31m---------------------------------------------------------------------------\u001b[0m",
      "\u001b[1;31mNameError\u001b[0m                                 Traceback (most recent call last)",
      "\u001b[1;32m<ipython-input-4-5a1e72dd0dd1>\u001b[0m in \u001b[0;36m<module>\u001b[1;34m()\u001b[0m\n\u001b[1;32m----> 1\u001b[1;33m modlist = list([Replication_model(**data_mgmt), \n\u001b[0m\u001b[0;32m      2\u001b[0m                 \u001b[0mBasic_stochastic_model\u001b[0m\u001b[1;33m(\u001b[0m\u001b[1;33m**\u001b[0m\u001b[0mdata_mgmt\u001b[0m\u001b[1;33m)\u001b[0m\u001b[1;33m,\u001b[0m\u001b[1;33m\u001b[0m\u001b[0m\n\u001b[0;32m      3\u001b[0m                 Stochastic_model_with_promotion_and_first_hiring(**data_mgmt)])\n\u001b[0;32m      4\u001b[0m \u001b[1;33m\u001b[0m\u001b[0m\n\u001b[0;32m      5\u001b[0m modlist2 = list([Replication_model(**data_mgmt), \n",
      "\u001b[1;31mNameError\u001b[0m: name 'Replication_model' is not defined"
     ]
    }
   ],
   "source": [
    "modlist = list([Replication_model(**data_mgmt), \n",
    "                Basic_stochastic_model(**data_mgmt), \n",
    "                Stochastic_model_with_promotion_and_first_hiring(**data_mgmt)])\n",
    "\n",
    "modlist2 = list([Replication_model(**data_mgmt), \n",
    "                Basic_stochastic_model_fixed_promotion(**data_mgmt), \n",
    "                Stochastic_model_with_promotion_and_first_hiring(**data_mgmt)])\n",
    "\n",
    "modlist_all = list([ \n",
    "                Basic_stochastic_model(**data_mgmt),\n",
    "                Basic_stochastic_model_fixed_promotion(**data_mgmt), \n",
    "                Stochastic_model_with_promotion_and_first_hiring(**data_mgmt)])\n",
    "\n",
    "c = Comparison(modlist)\n",
    "d = Comparison(modlist2)\n",
    "e = Comparison(modlist_all)"
   ]
  }
 ],
 "metadata": {
  "kernelspec": {
   "display_name": "Python 3",
   "language": "python",
   "name": "python3"
  },
  "language_info": {
   "codemirror_mode": {
    "name": "ipython",
    "version": 3
   },
   "file_extension": ".py",
   "mimetype": "text/x-python",
   "name": "python",
   "nbconvert_exporter": "python",
   "pygments_lexer": "ipython3",
   "version": "3.5.0"
  },
  "toc": {
   "toc_cell": true,
   "toc_number_sections": true,
   "toc_section_display": "none",
   "toc_threshold": 4,
   "toc_window_display": false
  }
 },
 "nbformat": 4,
 "nbformat_minor": 0
}
