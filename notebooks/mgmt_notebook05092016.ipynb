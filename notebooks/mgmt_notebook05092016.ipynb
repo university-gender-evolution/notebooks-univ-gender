{
 "cells": [
  {
   "cell_type": "markdown",
   "metadata": {
    "toc": "true"
   },
   "source": [
    "# Table of Contents\n",
    " <p><div class=\"lev1\"><a href=\"#Description-of-Study\"><span class=\"toc-item-num\">1 - </span>Description of Study</a></div><div class=\"lev1\"><a href=\"#Data\"><span class=\"toc-item-num\">2 - </span>Data</a></div><div class=\"lev1\"><a href=\"#Model-Specifications\"><span class=\"toc-item-num\">3 - </span>Model Specifications</a></div><div class=\"lev2\"><a href=\"#Model-1:--Hire-Promote\"><span class=\"toc-item-num\">3.1 - </span>Model 1:  Hire-Promote</a></div><div class=\"lev2\"><a href=\"#Model-2:--Promote-Hire\"><span class=\"toc-item-num\">3.2 - </span>Model 2:  Promote-Hire</a></div><div class=\"lev1\"><a href=\"#Baseline-Results\"><span class=\"toc-item-num\">4 - </span>Baseline Results</a></div><div class=\"lev2\"><a href=\"#Change-in-Proportion-of-Women-Overall\"><span class=\"toc-item-num\">4.1 - </span>Change in <em>Proportion</em> of Women Overall</a></div><div class=\"lev3\"><a href=\"#Model-1:--Hire-Promote-Overall\"><span class=\"toc-item-num\">4.1.1 - </span>Model 1:  Hire-Promote Overall</a></div><div class=\"lev3\"><a href=\"#Model-2:--Promote-Hire-Overall\"><span class=\"toc-item-num\">4.1.2 - </span>Model 2:  Promote-Hire Overall</a></div><div class=\"lev3\"><a href=\"#Compare-Models-1-and-2-Overall\"><span class=\"toc-item-num\">4.1.3 - </span>Compare Models 1 and 2 Overall</a></div><div class=\"lev3\"><a href=\"#Notes-on-Models-1-and-2-Overall\"><span class=\"toc-item-num\">4.1.4 - </span>Notes on Models 1 and 2 Overall</a></div><div class=\"lev2\"><a href=\"#Change-in-Proportion-of-Women-by-Level\"><span class=\"toc-item-num\">4.2 - </span>Change in <em>Proportion</em> of Women by Level</a></div><div class=\"lev3\"><a href=\"#Model-1:-Hire-Promote-by-Level\"><span class=\"toc-item-num\">4.2.1 - </span>Model 1: Hire-Promote by Level</a></div><div class=\"lev3\"><a href=\"#Model-2:-Promote-Hire-by-Level\"><span class=\"toc-item-num\">4.2.2 - </span>Model 2: Promote-Hire by Level</a></div><div class=\"lev3\"><a href=\"#Compare-Models-1-and-2-by-Level\"><span class=\"toc-item-num\">4.2.3 - </span>Compare Models 1 and 2 by Level</a></div><div class=\"lev3\"><a href=\"#Notes-on-Models-1-and-2-by-Level\"><span class=\"toc-item-num\">4.2.4 - </span>Notes on Models 1 and 2 by Level</a></div><div class=\"lev2\"><a href=\"#Change-in-Number-of-Women-Overall-(N)\"><span class=\"toc-item-num\">4.3 - </span>Change in <em>Number</em> of Women Overall (N)</a></div><div class=\"lev3\"><a href=\"#Model-1:-Hire-Promote-Overall-(N)\"><span class=\"toc-item-num\">4.3.1 - </span>Model 1: Hire-Promote Overall (N)</a></div><div class=\"lev3\"><a href=\"#Model-2:-Promote-Hire-Overall-(N)\"><span class=\"toc-item-num\">4.3.2 - </span>Model 2: Promote-Hire Overall (N)</a></div><div class=\"lev3\"><a href=\"#Compare-Models-1-and-2-Overall-(N)\"><span class=\"toc-item-num\">4.3.3 - </span>Compare Models 1 and 2 Overall (N)</a></div><div class=\"lev3\"><a href=\"#Notes-on-Models-1-and-2-Overall-(N)\"><span class=\"toc-item-num\">4.3.4 - </span>Notes on Models 1 and 2 Overall (N)</a></div><div class=\"lev2\"><a href=\"#Change-in-Number-of-Women-by-Level-(N)\"><span class=\"toc-item-num\">4.4 - </span>Change in <em>Number</em> of Women by Level (N)</a></div><div class=\"lev3\"><a href=\"#Model-1---Change-in-Number-of-Women-by-Level\"><span class=\"toc-item-num\">4.4.1 - </span>Model 1 - Change in <em>Number</em> of Women by Level</a></div><div class=\"lev3\"><a href=\"#Model-2---Change-in-Number-of-Women-by-Level-(N)\"><span class=\"toc-item-num\">4.4.2 - </span>Model 2 - Change in <em>Number</em> of Women by Level (N)</a></div><div class=\"lev3\"><a href=\"#Models-1-and-2---Compare-Change-in-Number-of-Women-by-Level-(N)\"><span class=\"toc-item-num\">4.4.3 - </span>Models 1 and 2 - Compare Change in <em>Number</em> of Women by Level (N)</a></div><div class=\"lev3\"><a href=\"#Notes-on-Models-1-and-2-by-Level\"><span class=\"toc-item-num\">4.4.4 - </span>Notes on Models 1 and 2 by Level</a></div><div class=\"lev1\"><a href=\"#Scenario-Analyses-(Attrition,-Hiring-and-Promotion)\"><span class=\"toc-item-num\">5 - </span>Scenario Analyses (Attrition, Hiring and Promotion)</a></div><div class=\"lev2\"><a href=\"#Optimistic-Scenario\"><span class=\"toc-item-num\">5.1 - </span>Optimistic Scenario</a></div><div class=\"lev3\"><a href=\"#Optimistic-Scenario---Change-in-Proportion-Women-Overall\"><span class=\"toc-item-num\">5.1.1 - </span>Optimistic Scenario - Change in <em>Proportion</em> Women Overall</a></div><div class=\"lev3\"><a href=\"#The-Effect-of-Optimistic-Assumptions-on-Proportion-Women-By-Level\"><span class=\"toc-item-num\">5.1.2 - </span>The Effect of Optimistic Assumptions on <em>Proportion</em> Women By Level</a></div><div class=\"lev3\"><a href=\"#Optimistic-Scenario-Notes\"><span class=\"toc-item-num\">5.1.3 - </span>Optimistic Scenario Notes</a></div><div class=\"lev2\"><a href=\"#Very-Optimistic-Scenario\"><span class=\"toc-item-num\">5.2 - </span>Very Optimistic Scenario</a></div><div class=\"lev3\"><a href=\"#Very-Optimistic-Scenario:-Change-in-Proportion-Women-Overall\"><span class=\"toc-item-num\">5.2.1 - </span>Very Optimistic Scenario: Change in <em>Proportion</em> Women Overall</a></div><div class=\"lev3\"><a href=\"#Very-Optimistic-Scenario:-Change-in-Proportion-Women-by-Level\"><span class=\"toc-item-num\">5.2.2 - </span>Very Optimistic Scenario: Change in <em>Proportion</em> Women by Level</a></div><div class=\"lev3\"><a href=\"#Very-Optimistic-Scenario-Notes\"><span class=\"toc-item-num\">5.2.3 - </span>Very Optimistic Scenario Notes</a></div><div class=\"lev2\"><a href=\"#Pessimistic-Scenario\"><span class=\"toc-item-num\">5.3 - </span>Pessimistic Scenario</a></div><div class=\"lev3\"><a href=\"#Pessimistic-Scenario:-Change-in-Proportion-Women-Overall\"><span class=\"toc-item-num\">5.3.1 - </span>Pessimistic Scenario: Change in <em>Proportion</em> Women Overall</a></div><div class=\"lev3\"><a href=\"#Pessimistic-Scenario---Change-in-Proportion-Women-By-Level\"><span class=\"toc-item-num\">5.3.2 - </span>Pessimistic Scenario - Change in <em>Proportion</em> Women By Level</a></div><div class=\"lev3\"><a href=\"#Pessimistic-Scenario-Notes\"><span class=\"toc-item-num\">5.3.3 - </span>Pessimistic Scenario Notes</a></div><div class=\"lev2\"><a href=\"#Scenario-Comparison-Models\"><span class=\"toc-item-num\">5.4 - </span>Scenario Comparison Models</a></div><div class=\"lev3\"><a href=\"#Compare-Three-Scenarios-Overall\"><span class=\"toc-item-num\">5.4.1 - </span>Compare Three Scenarios Overall</a></div><div class=\"lev3\"><a href=\"#Compare-Three-Scenarios-by-Level\"><span class=\"toc-item-num\">5.4.2 - </span>Compare Three Scenarios by Level</a></div><div class=\"lev3\"><a href=\"#Scenario-Comparison-Notes\"><span class=\"toc-item-num\">5.4.3 - </span>Scenario Comparison Notes</a></div><div class=\"lev1\"><a href=\"#Ancillary-Analyses\"><span class=\"toc-item-num\">6 - </span>Ancillary Analyses</a></div><div class=\"lev2\"><a href=\"#Attrition-Rate-Sweep\"><span class=\"toc-item-num\">6.1 - </span>Attrition Rate Sweep</a></div><div class=\"lev2\"><a href=\"#Hiring-Rate-Sweep\"><span class=\"toc-item-num\">6.2 - </span>Hiring Rate Sweep</a></div><div class=\"lev2\"><a href=\"#Promotion-Rate-Sweep\"><span class=\"toc-item-num\">6.3 - </span>Promotion Rate Sweep</a></div><div class=\"lev2\"><a href=\"#Notes-on-Sweeps\"><span class=\"toc-item-num\">6.4 - </span>Notes on Sweeps</a></div><div class=\"lev1\"><a href=\"#Setting-Parameters\"><span class=\"toc-item-num\">7 - </span>Setting Parameters</a></div><div class=\"lev1\"><a href=\"#APPENDIX-A:-REPLICATION-AND-EXTENSION-MODELS\"><span class=\"toc-item-num\">8 - </span>APPENDIX A: REPLICATION AND EXTENSION MODELS</a></div><div class=\"lev2\"><a href=\"#Replication-of-Mathematical-Model.\"><span class=\"toc-item-num\">8.1 - </span>Replication of Mathematical Model.</a></div><div class=\"lev2\"><a href=\"#First-Step-Towards-Stochastic-Model.\"><span class=\"toc-item-num\">8.2 - </span>First Step Towards Stochastic Model.</a></div><div class=\"lev1\"><a href=\"#APPENDIX-B:-DECISION-RULES\"><span class=\"toc-item-num\">9 - </span>APPENDIX B: DECISION RULES</a></div><div class=\"lev2\"><a href=\"#Fractional-faculty-vacancies-filled-with-integer-level-faculty-(department-size-varies-within-a-range).\"><span class=\"toc-item-num\">9.1 - </span>Fractional faculty vacancies filled with integer-level faculty (department size varies within a range).</a></div><div class=\"lev2\"><a href=\"#Fractional-faculty-vacancies-filled-with-fractional-faculty-(department-size-remains-stable).\"><span class=\"toc-item-num\">9.2 - </span>Fractional faculty vacancies filled with fractional faculty (department size remains stable).</a></div><div class=\"lev2\"><a href=\"#Fractional-faculty-vacancies-filled-with-integer-level-faculty-(department-size-shrinks).\"><span class=\"toc-item-num\">9.3 - </span>Fractional faculty vacancies filled with integer-level faculty (department size shrinks).</a></div><div class=\"lev1\"><a href=\"#Initialization-Cells\"><span class=\"toc-item-num\">10 - </span>Initialization Cells</a></div>"
   ]
  },
  {
   "cell_type": "code",
   "execution_count": null,
   "metadata": {
    "collapsed": true
   },
   "outputs": [],
   "source": []
  },
  {
   "cell_type": "code",
   "execution_count": null,
   "metadata": {
    "collapsed": true
   },
   "outputs": [],
   "source": []
  },
  {
   "cell_type": "markdown",
   "metadata": {},
   "source": [
    "#   Description of Study\n",
    "\n",
    "This chapter uses historical data on attrition, hiring and promotion.  It includes four stochastic simulations:  two Hire-Promote models, in which hiring is done before promotions, and two Promote-Hire models, in which promotions are done before hiring.  Appendix A includes two replication models.  The first replicates the original mathematical model and the second presents a first step towards the stochastic simulations.\n",
    "\n",
    "**Excel Table Goes Here**"
   ]
  },
  {
   "cell_type": "markdown",
   "metadata": {},
   "source": [
    "#    Data\n",
    "\n",
    "The data for these analyses come from the faculty personnel office of a university in the Western United States.  Eight years of faculty data were obtained, 2004-05 through 2012-13.  The data follow the attrition, hiring and promotion of each full-time ladder faculty member.  Attrition includes all faculty who leave for any reason.  Hiring includes faculty hired externally for assistant, associate and full professor positions.  Promotions include faculty who move from Assistant to Associate Professor or from Associate to Full professor. \n",
    "\n",
    "Attrition, hiring and promotion rates are averages of the yearly changes in the proportion of women and men by level.  For each year, this represents one transition, the instantaneous time between the end of one year and the beginning of the next.  If there are four years of data, for instance, there are three transitions: one between years 1 and 2, one between years 2 and 3 and one between years 3 and 4.  The average of these three transitions is the rate.  Thus, if 10 of 50 male Full Professors leave after year one (.20), 8 of 40 male Full Professors leave after year two (.16) and no male Full Professors leave at the end of year three (.00), the average attrition rate for male Full Professors is: (0.20+0.16+0.00)/3 = 0.12. The actual rates reported below represent the average change in transition rates by gender by level calculated at the end of each year.  CHECK RE: RATES & TRANSITIONS.\n",
    "\n",
    "Table 1 shows historical attrition, hiring and promotion rates calculated from the seven transitions across eight years of faculty data.  For reference, this table is repeated at the beginning of each analysis segment.\n",
    "\n",
    "\n",
    "                          ASSISTANT PROF         ASSOCIATE PROF          FULL PROF \n",
    "| BASELINE RATES      | women   |  men        | women   |  men        | women  |  men  \n",
    "| --------------      | -----   | ------      | -----   |------       | ------ |------- \n",
    "| attrition           | 0.0556  | 0.0687      | 0.0000  | 0.0574      | 0.0741 | 0.0399\n",
    "| hiring              | 0.1724  | 0.8276      | 0.0400  | 0.0600      | 0.1667 | 0.8333  \n",
    "| promotion           | 0.0555  | 0.0611      | 0.1905  | 0.1149      | NA     | NA\n",
    "\n"
   ]
  },
  {
   "cell_type": "markdown",
   "metadata": {},
   "source": [
    "#  Model Specifications\n",
    "\n",
    "The analysis includes two stochastic simulation models.  Both use the department's historical attrition, hiring and promotion rates.  The main difference is the order in which hiring decisions are made and promotions awarded.  In Model 1 hiring occurs before promotions, and in Model 2 promotions occur before hiring.  Otherwise, the models are the same:  \n",
    "\n",
    "- Each requires that the number of faculty is an integer rather than a fraction.   \n",
    "- Replacements occur at the end of each year and are applied to changes at the beginning of the following year.\n",
    "- Replacements in all models are selected using a cascade that begins with Full Professor and ends with Assistant Professor.  \n",
    "- Attrition always occurs first.  \n",
    "- Change for women occurs before change for men.  \n",
    "- Parameters can be modified (where?)"
   ]
  },
  {
   "cell_type": "markdown",
   "metadata": {},
   "source": [
    "##  Model 1:  Hire-Promote\n",
    "\n",
    "In Model 1, faculty hires are made before promotions are awarded.  Department size varies within a user-selected range.  Demographic change occurs at the end of each timestep and in a cascade starting with Full Professors and ending with Assistant Professors.  Attrition is considered first, then hiring and then promotion.  At the end of each timestep, fractional faculty, the remaining vacancies after attrition, hiring and promotion rates are applied, are assigned using Decision Rule 1 (See Appendix B). \n",
    "\n",
    "1.\tFull Professor replacements (Level 3). Full Professors leave at the department's Full Professor attrition rate.  Next, Full Professors are hired using the Full Professor hiring rate.  Finally, Associate Professors are promoted using the Associate Professor promotion rate.  Remaining fractional vacancies in Model 1, in which department size stays within a range specified by the user, are filled using Decision Rule 1 (See Appendix B). \n",
    "\n",
    "2.\tAssociate Professor replacements (Level 2).  Associate professors leave at the department's associate professor attrition rate. Next, associate professors are hired using the associate professor hiring rate. Finally, assistant professors are promoted using the assistant professor promotion rate.  Remaining fractional vacancies are filled using Decision Rule 1 (See Appendix B).\n",
    "\n",
    "3.\tAssistant Professor replacements (Level l).  Assistant Professors leave at the department's assistant professor attrition rate. Next, assistant professors are hired using the assistant professor hiring rate. The only way to enter the assistant professor level is through hiring.  Remaining fractional vacancies are filled by hiring using Decision Rule 1 (See Appendix B)."
   ]
  },
  {
   "cell_type": "markdown",
   "metadata": {},
   "source": [
    "##  Model 2:  Promote-Hire\n",
    "\n",
    "In Model 2, promotions are allocated before hires are selected.  Because some vacancies remain unfilled at each level and at the end of each year, department size varies within a range specified by the user (See Appendix B, Decision-Rule 1).  Demographic change occurs at the end of each timestep and in a cascade starting with Full Professors and ending with Assistant Professors. \n",
    "\n",
    "1.   Full Professor replacements (Level 3). Full Professors leave at the department's full professor attrition rate. Next, Associate Professors are promoted to Full Professor using the associate professor promotion rate.  Finally, Full Professors are hired using the Full Professor hiring rate.  Remaining fractional full professor vacancies are filled using Decision Rule 1 (See Appendix B).  \n",
    "\n",
    "2.  Associate Professor replacements (Level 2).  Associate professors leave at the department's associate professor attrition rate. Next, Assistant Professors are promoted using the Assistant Professor promotion rate. Finally, Associate Professors are hired using the associate professor hiring rate.  Remaining associate professor vacancies in Model 2 are filled using Decision Rule 1 (See Appendix B).\n",
    "\n",
    "3. Assistant Professor replacements (Level l). Assistant professors leave at the department's assistant level attrition rate. Next, assistant professors are hired using the assistant professor hiring rate as the only way to enter the assistant professor level is through hiring.  Remaining assistant professor vacancies in Model 2 are filled using Decision Rule 1 (See Appendix B)."
   ]
  },
  {
   "cell_type": "markdown",
   "metadata": {},
   "source": [
    "#  Baseline Results\n",
    "\n",
    "This section shows baseline results for each simulation: the hire-promote and promote-hire models.  The results are “baselines” because they describe the likely future proportion of women if attrition, hiring and promotion rates do not change.  Each model shows projections for the: 1) proportion of women overall, 2) proportion of women by level ,3) number of women by level and 4) probability of achieving a user-specified goal for the proportion of women in N years.\n",
    "\n",
    "For reference, the table below shows historical hiring, promotion and attrition rates for women and men at each level.  \n",
    "\n",
    "                          ASSISTANT PROF         ASSOCIATE PROF          FULL PROF \n",
    "| BASELINE RATES      | women   |  men        | women   |  men        | women  |  men  \n",
    "| --------------      | -----   | ------      | -----   |------       | ------ |------- \n",
    "| attrition           | 0.0556  | 0.0687      | 0.0000  | 0.0574      | 0.0741 | 0.0399\n",
    "| hiring              | 0.1724  | 0.8276      | 0.0400  | 0.0600      | 0.1667 | 0.8333  \n",
    "| promotion           | 0.0555  | 0.0611      | 0.1905  | 0.1149      | NA     | NA\n"
   ]
  },
  {
   "cell_type": "markdown",
   "metadata": {},
   "source": [
    "##  Change in *Proportion* of Women Overall \n",
    "\n",
    "- 4.1.1  Model 1: Hire-Promote Overall\n",
    "       Figure 4.1.1a:  Model 1 - Change in *Proportion* Women Overall\n",
    "       Figure 4.1.1b:  Model 1 - Probability of Achieving Goal Overall\n",
    "- 4.1.2  Model 2: Promote-Hire Overall\n",
    "       Figure 4.1.2a:  Model 2 - Change in *Proportion* Women Overall\n",
    "       Figure 4.1.2b:  Model 2 - Probability of Achieving Goal Overall\n",
    "- 4.1.3  Compare Models 1 and 2 Overall\n",
    "       Figure 4.1.3a: Models 1 and 2 - Compare Change in *Proportion* Women Overall \n",
    "       Figure 4.3.3b:  Models 1 and 2 - Compare Probability of Achieving Goal Overall\n",
    "- 4.1.4  Notes on Models 1 and 2 Overall\n",
    "\n",
    "\\begin{enumerate}\n",
    "  \\item The labels consists of sequential numbers.\n",
    "  \\item The numbers starts at 1 with every call to the enumerate environment.\n",
    "\\end{enumerate}"
   ]
  },
  {
   "cell_type": "markdown",
   "metadata": {},
   "source": [
    "### Model 1:  Hire-Promote Overall\n",
    "\n",
    "Figure 4.1.1a: Model 1 - Change in *Proportion* Women Overall"
   ]
  },
  {
   "cell_type": "code",
   "execution_count": null,
   "metadata": {
    "collapsed": false
   },
   "outputs": [],
   "source": [
    "xlabel = 'Years' # x-axis label\n",
    "ylabel = 'Proportion Women Overall' # y-axis label \n",
    "title = 'Figure 4.1.1a:  Model 1 - Change in *Proportion* Women Overall' # graph title\n",
    "caption = 'The red line shows a goal of .25 women' # caption text\n",
    "target_percentage = 0.25 # target percentage of women in the department\n",
    "number_of_runs = 100 # number simulations to average over\n",
    "\n",
    "t.plot_multiple_runs_gender_prop(title, xlabel, ylabel, target_percentage, caption, number_of_runs)"
   ]
  },
  {
   "cell_type": "markdown",
   "metadata": {
    "collapsed": true
   },
   "source": [
    "Figure 4.1.1b: Model 1 - Probability of Achieving Goal Overall"
   ]
  },
  {
   "cell_type": "code",
   "execution_count": null,
   "metadata": {
    "collapsed": false
   },
   "outputs": [],
   "source": [
    "xlabel = 'Years' # x-axis label\n",
    "ylabel = 'Probability of Achieving Goal Overall' # y-axis label \n",
    "title = 'Figure 4.1.1b: Model 1 - Probability of Achieving Goal Overall' # graph title\n",
    "caption = '' # caption text\n",
    "target_percentage = 0.25 # target percentage of women in the department\n",
    "number_of_runs = 100 # number simulations to average over\n",
    "\n",
    "t.plot_empirical_probability_gender_proportion(number_of_runs, target_percentage,title ,xlabel, ylabel, caption)"
   ]
  },
  {
   "cell_type": "markdown",
   "metadata": {
    "collapsed": true
   },
   "source": [
    "\n",
    "### Model 2:  Promote-Hire Overall\n",
    "\n",
    "Figure 4.1.2a: Model 2 - Change in *Proportion* Women Overall\n"
   ]
  },
  {
   "cell_type": "code",
   "execution_count": null,
   "metadata": {
    "collapsed": false
   },
   "outputs": [],
   "source": [
    "xlabel = 'Years' # x-axis label\n",
    "ylabel = 'Proportion Women Overall' # y-axis label \n",
    "title = 'Figure 4.1.2a: Model 2 - Change in *Proportion* Women Overall' # graph title\n",
    "caption = 'The red line shows a goal of .25 women.  If there is no red line, the goal is above all points on the y-axis' # caption text\n",
    "target_percentage = 0.25  # target percentage of women in the department\n",
    "number_of_runs = 100  # number simulations to average over\n",
    "\n",
    "s.plot_multiple_runs_gender_prop(title, xlabel, ylabel, target_percentage, caption, number_of_runs)"
   ]
  },
  {
   "cell_type": "markdown",
   "metadata": {},
   "source": [
    "Figure 4.1.2b:  Model 2 - Probability of Achieving Goal Overall"
   ]
  },
  {
   "cell_type": "code",
   "execution_count": null,
   "metadata": {
    "collapsed": false
   },
   "outputs": [],
   "source": [
    "xlabel = 'Years' # x-axis label\n",
    "ylabel = 'Probability of Achieving Goal Overall' # y-axis label \n",
    "title = 'Figure 4.1.2b:  Model 2 - Probability of Achieving Goal Overall' # graph title\n",
    "caption = '' # caption text\n",
    "target_percentage = 0.25 # target percentage of women in the department\n",
    "number_of_runs = 100 # number simulations to average over\n",
    "\n",
    "s.plot_empirical_probability_gender_proportion(number_of_runs, target_percentage,title ,xlabel, ylabel, caption)\n",
    "\n"
   ]
  },
  {
   "cell_type": "markdown",
   "metadata": {
    "collapsed": true
   },
   "source": [
    "### Compare Models 1 and 2 Overall\n",
    "\n",
    "Figure 4.1.3a: Models 1 and 2 - Compare Change in *Proportion* Women Overall\n"
   ]
  },
  {
   "cell_type": "code",
   "execution_count": null,
   "metadata": {
    "collapsed": false
   },
   "outputs": [],
   "source": [
    "xlabel = 'Years' # x-axis label\n",
    "ylabel = 'Proportion Women Overall' # y-axis label\n",
    "title = 'Figure 4.1.3a:  Models 1 and 2 - Compare Change in *Proportion* Women Overall' # chart title\n",
    "target_percentage = 0.25  # target proportion of women in the department\n",
    "caption = 'The red line shows a goal of .25 women.  If there is no red line, the goal is above all points on the y-axis' # caption text\n",
    "number_of_runs = 100\n",
    "u.plot_comparison_gender_proportion(xlabel, ylabel, title, '', target_percentage, number_of_runs)"
   ]
  },
  {
   "cell_type": "markdown",
   "metadata": {},
   "source": [
    "Figure 4.1.3b:  Models 1 and 2 - Compare Probability of Achieving Goal Overall"
   ]
  },
  {
   "cell_type": "code",
   "execution_count": null,
   "metadata": {
    "collapsed": false
   },
   "outputs": [],
   "source": [
    "xlabel = 'Years' # x-axis label\n",
    "ylabel = 'Probability of Achieving Goal Overall' # y-axis label\n",
    "title = 'Figure 4.1.3b:  Models 1 and 2 - Compare Probability of Achieving Goal Overall' # plot title\n",
    "caption = 'text for caption' # caption text\n",
    "target_percentage = 0.25 # target percentage of women \n",
    "number_of_runs = 100 # number of simulation runs.\n",
    "\n",
    "u.plot_comparison_empirical_probability_gender_proportion(xlabel, ylabel, title, '', target_percentage, number_of_runs)"
   ]
  },
  {
   "cell_type": "markdown",
   "metadata": {
    "collapsed": true
   },
   "source": [
    "### Notes on Models 1 and 2 Overall\n",
    "The promote-hire models outperform the hire-promote models because the probability \n",
    "of adding a female full is higher for promoting an associate (0.1905) than from hiring \n",
    "a full (0.0250).  Similarly, the probability of adding a female associate is higher \n",
    "for promoting an assistant (0.0555) than for hiring an associate (.0400). All \n",
    "assistants are hired so there is no differential promotion effect.  This would \n",
    "be possible if a fourth level were added to include the availability of doctoral \n",
    "students.  These data are unavailable.\n",
    "\n",
    "The hire-promote model seems to work well for men, especially at level 2. \n",
    "The chances of a man being hired are always better for hiring versus promotion--as \n",
    "per the tables above. Hence the hire first model allows more men to be hired, \n",
    "especially at level 2. Women have a better chance of being promoted to level 3 from \n",
    "level 2, so this allows some accumulation of men at level 2. Once the number of women \n",
    "at level 2 falls to zero, the accumulation of men flattens as only men can now \n",
    "be promoted from level 2 to 3. "
   ]
  },
  {
   "cell_type": "markdown",
   "metadata": {
    "collapsed": true
   },
   "source": [
    "## Change in *Proportion* of Women by Level \n",
    "\n",
    "### Model 1: Hire-Promote by Level\n",
    "\n",
    "Figure 4.2.1a:  Model 1 - Change in *Proportion* Women by Level"
   ]
  },
  {
   "cell_type": "code",
   "execution_count": null,
   "metadata": {
    "collapsed": false,
    "scrolled": false
   },
   "outputs": [],
   "source": [
    "title = 'Figure 4.2.1a:  Model 1 - Change in *Proportion* Women by Level' # plot title\n",
    "caption = 'The red line shows a goal of .25 women.  If there is no red line, the goal is above all points on the y-axis' # caption text\n",
    "target_percentage = 0.25 # target percentage of women at each level\n",
    "number_of_runs = 100 # number of simulation runs\n",
    "t.plot_multiple_runs_detail_percentage(number_of_runs, title, target_percentage, '')"
   ]
  },
  {
   "cell_type": "markdown",
   "metadata": {},
   "source": [
    "Figure 4.2.1b:  Model 1 - Probability of Achieving Goal by Level"
   ]
  },
  {
   "cell_type": "code",
   "execution_count": null,
   "metadata": {
    "collapsed": false
   },
   "outputs": [],
   "source": [
    "\n",
    "\n",
    "group_title = 'Figure 4.2.1b:  Model 1 - Probability of Achieving Goal by Level' # plot title\n",
    "target_percentage = 0.25  # set target percentage\n",
    "number_of_runs = 100 # number simulations to average over\n",
    "caption = '' # caption text\n",
    "\n",
    "\n",
    "# subplot titles\n",
    "kwargs = {\n",
    "'titlef1':'',\n",
    "'titlef2':'',\n",
    "'titlef3':'',\n",
    "'titlem1':'',\n",
    "'titlem2':'',\n",
    "'titlem3':'',\n",
    "\n",
    "# x axis labels\n",
    "'xlabelf1':'',\n",
    "'xlabelf2':'',\n",
    "'xlabelf3':'',\n",
    "'xlabelm1':'',\n",
    "'xlabelm2':'',\n",
    "'xlabelm3':'',\n",
    "\n",
    "#y axis labels\n",
    "'ylabelf1':'',\n",
    "'ylabelf2':'',\n",
    "'ylabelf3':'',\n",
    "'ylabelm1':'',\n",
    "'ylabelm2':'',\n",
    "'ylabelm3':'',\n",
    "}\n",
    "\n",
    "\n",
    "\n",
    "\n",
    "t.plot_empirical_probability_analysis_by_level(target_percentage, \n",
    "                                               number_of_runs, \n",
    "                                               caption,\n",
    "                                               **kwargs)"
   ]
  },
  {
   "cell_type": "markdown",
   "metadata": {},
   "source": [
    "### Model 2: Promote-Hire by Level\n",
    "Figure 4.2.2a:  Model 2 - Change in *Proportion* Women by Level"
   ]
  },
  {
   "cell_type": "code",
   "execution_count": null,
   "metadata": {
    "collapsed": false,
    "scrolled": false
   },
   "outputs": [],
   "source": [
    "title = 'Figure 4.2.2a:  Model 2 - Change in *Proportion* Women by Level' # plot title\n",
    "xlabel = 'Years' # x-axis label\n",
    "ylabel = 'Proportion Women' # y-axis label \n",
    "caption = 'The red line shows a goal of .25 women.  If there is no red line, the goal is above all points on the y-axis' # caption text\n",
    "target_percentage = 0.25 # target percentage of females at each level\n",
    "number_of_runs = 100 # number of simulation runs\n",
    "\n",
    "s.plot_multiple_runs_detail_percentage(number_of_runs, title, target_percentage,'')"
   ]
  },
  {
   "cell_type": "markdown",
   "metadata": {},
   "source": [
    "Figure 4.2.2b:  Model 2 - Probability of Achieving Goal by Level"
   ]
  },
  {
   "cell_type": "code",
   "execution_count": null,
   "metadata": {
    "collapsed": false
   },
   "outputs": [],
   "source": [
    "\n",
    "group_title = 'Figure 4.2.2b:  Model 2 - Probability of Achieving Goal by Level' # plot title\n",
    "target_percentage = 0.25  # set target percentage\n",
    "number_of_runs = 100 # number simulations to average over\n",
    "caption = '' # caption text\n",
    "\n",
    "\n",
    "# subplot titles\n",
    "kwargs = {\n",
    "'titlef1':'',\n",
    "'titlef2':'',\n",
    "'titlef3':'',\n",
    "'titlem1':'',\n",
    "'titlem2':'',\n",
    "'titlem3':'',\n",
    "\n",
    "# x axis labels\n",
    "'xlabelf1':'',\n",
    "'xlabelf2':'',\n",
    "'xlabelf3':'',\n",
    "'xlabelm1':'',\n",
    "'xlabelm2':'',\n",
    "'xlabelm3':'',\n",
    "\n",
    "#y axis labels\n",
    "'ylabelf1':'',\n",
    "'ylabelf2':'',\n",
    "'ylabelf3':'',\n",
    "'ylabelm1':'',\n",
    "'ylabelm2':'',\n",
    "'ylabelm3':'',\n",
    "}\n",
    "\n",
    "s.plot_empirical_probability_analysis_by_level(target_percentage, \n",
    "                                               number_of_runs, \n",
    "                                               caption,\n",
    "                                               **kwargs)"
   ]
  },
  {
   "cell_type": "markdown",
   "metadata": {},
   "source": [
    "### Compare Models 1 and 2 by Level\n",
    "Figure 4.2.3a: Models 1 and 2 - Compare Change in *Proportion* Women by Level"
   ]
  },
  {
   "cell_type": "code",
   "execution_count": null,
   "metadata": {
    "collapsed": false
   },
   "outputs": [],
   "source": [
    "group_title = 'Figure 4.1.3b:  Models 1 and 2 - Compare Probability of Achieving Goal Overall' # plot title\n",
    "target_percentage = 0.25  # set target percentage\n",
    "number_of_runs = 100 # number simulations to average over\n",
    "caption = '' # caption text\n",
    "\n",
    "\n",
    "# subplot titles\n",
    "kwargs = {\n",
    "'titlef1':'',\n",
    "'titlef2':'',\n",
    "'titlef3':'',\n",
    "'titlem1':'',\n",
    "'titlem2':'',\n",
    "'titlem3':'',\n",
    "\n",
    "# x axis labels\n",
    "'xlabelf1':'',\n",
    "'xlabelf2':'',\n",
    "'xlabelf3':'',\n",
    "'xlabelm1':'',\n",
    "'xlabelm2':'',\n",
    "'xlabelm3':'',\n",
    "\n",
    "#y axis labels\n",
    "'ylabelf1':'',\n",
    "'ylabelf2':'',\n",
    "'ylabelf3':'',\n",
    "'ylabelm1':'',\n",
    "'ylabelm2':'',\n",
    "'ylabelm3':'',\n",
    "}\n",
    "\n",
    "kwargs['group_title'] = group_title\n",
    "\n",
    "u.plot_comparison_percentage_women_by_level(target_percentage, \n",
    "                                               number_of_runs, \n",
    "                                               caption,\n",
    "                                               **kwargs)\n",
    "\n",
    "\n"
   ]
  },
  {
   "cell_type": "markdown",
   "metadata": {},
   "source": [
    "Figure 4.2.3b:  Models 1 and 2 - Compare Probability of Achieving Goal by Level"
   ]
  },
  {
   "cell_type": "code",
   "execution_count": null,
   "metadata": {
    "collapsed": false
   },
   "outputs": [],
   "source": [
    "group_title = 'Figure 4.2.3b:  Models 1 and 2 - Compare Probability of Achieving Goal by Level' # plot title\n",
    "target_percentage = 0.25  # set target percentage\n",
    "number_of_runs = 100 # number simulations to average over\n",
    "caption = '' # caption text\n",
    "\n",
    "\n",
    "# subplot titles\n",
    "kwargs = {\n",
    "'titlef1':'',\n",
    "'titlef2':'',\n",
    "'titlef3':'',\n",
    "'titlem1':'',\n",
    "'titlem2':'',\n",
    "'titlem3':'',\n",
    "\n",
    "# x axis labels\n",
    "'xlabelf1':'',\n",
    "'xlabelf2':'',\n",
    "'xlabelf3':'',\n",
    "'xlabelm1':'',\n",
    "'xlabelm2':'',\n",
    "'xlabelm3':'',\n",
    "\n",
    "#y axis labels\n",
    "'ylabelf1':'',\n",
    "'ylabelf2':'',\n",
    "'ylabelf3':'',\n",
    "'ylabelm1':'',\n",
    "'ylabelm2':'',\n",
    "'ylabelm3':'',\n",
    "}\n",
    "\n",
    "kwargs['group_title'] = group_title\n",
    "\n",
    "u.plot_comparison_empirical_probability_proportion_by_level(target_percentage, \n",
    "                                               number_of_runs, \n",
    "                                               caption,\n",
    "                                               **kwargs)\n"
   ]
  },
  {
   "cell_type": "markdown",
   "metadata": {
    "collapsed": true
   },
   "source": [
    "### Notes on Models 1 and 2 by Level"
   ]
  },
  {
   "cell_type": "markdown",
   "metadata": {},
   "source": [
    "## Change in *Number* of Women Overall (N)\n"
   ]
  },
  {
   "cell_type": "markdown",
   "metadata": {},
   "source": [
    "### Model 1: Hire-Promote Overall (N)"
   ]
  },
  {
   "cell_type": "markdown",
   "metadata": {},
   "source": [
    "Figure 4.3.1a:  Model 1 - Change in *Number* of Women Overall (N)\n"
   ]
  },
  {
   "cell_type": "code",
   "execution_count": null,
   "metadata": {
    "collapsed": false,
    "init_cell": false
   },
   "outputs": [],
   "source": [
    "xlabel = 'Years' # x-axis label\n",
    "ylabel = 'Number of Faculty' # y-axis label \n",
    "title = 'Figure 4.3.1a:  Model 1 - Change in *Number* of Women Overall (N)' # graph title\n",
    "caption = 'The red line shows a goal of .25 women.  If there is no red line, the goal is above all points on the y-axis' # caption text\n",
    "target = 0.25  # target percentage of women in the department\n",
    "number_of_runs = 100  # number simulations to average over\n",
    "\n",
    "t.plot_male_female_total_numbers(xlabel, ylabel, title,'',\n",
    "                                     target, number_of_runs)\n"
   ]
  },
  {
   "cell_type": "markdown",
   "metadata": {},
   "source": [
    "Figure 4.3.1b:  Model 1 - Probability of Achieving Goal Overall (N)\n",
    "\n"
   ]
  },
  {
   "cell_type": "code",
   "execution_count": null,
   "metadata": {
    "collapsed": false
   },
   "outputs": [],
   "source": [
    "xlabel = 'Years' # x-axis label\n",
    "ylabel = 'Probability of Achieving Goal Overall' # y-axis label \n",
    "title = 'Figure 4.3.1b:  Model 1 - Probability of Achieving Goal Overall (N)' # graph title\n",
    "caption = 'Text for caption' # caption text\n",
    "target_percentage = 0.25 # target percentage of women in the department\n",
    "number_of_runs = 100 # number simulations to average over\n",
    "\n",
    "t.plot_empirical_probability_gender_proportion(number_of_runs, target_percentage,title ,xlabel, ylabel, '')"
   ]
  },
  {
   "cell_type": "markdown",
   "metadata": {},
   "source": [
    "### Model 2: Promote-Hire Overall (N)"
   ]
  },
  {
   "cell_type": "markdown",
   "metadata": {},
   "source": [
    "Figure 4.3.2a:  Model 2 - Change in *Number* of Women Overall (N)"
   ]
  },
  {
   "cell_type": "code",
   "execution_count": null,
   "metadata": {
    "collapsed": false,
    "init_cell": false
   },
   "outputs": [],
   "source": [
    "xlabel = 'Years' # x-axis label\n",
    "ylabel = 'Number of Faculty' # y-axis label \n",
    "title = 'Figure 4.3.2a:  Model 2 - Change in *Number* of Women Overall (N)' # graph title\n",
    "caption = 'Text for caption' # caption text\n",
    "target = 0.25  # target percentage of women in the department\n",
    "number_of_runs = 100  # number simulations to average over\n",
    "\n",
    "s.plot_male_female_total_numbers(xlabel, ylabel, title, '',\n",
    "                                     target, number_of_runs)"
   ]
  },
  {
   "cell_type": "markdown",
   "metadata": {},
   "source": [
    "Figure 4.3.2b:  Model 2 – Probability of Achieving Goal Overall (N)"
   ]
  },
  {
   "cell_type": "code",
   "execution_count": null,
   "metadata": {
    "collapsed": false,
    "init_cell": false
   },
   "outputs": [],
   "source": [
    "xlabel = 'Years' # x-axis label\n",
    "ylabel = 'Probability of Achieving Goal Overall' # y-axis label \n",
    "title = 'Figure 4.3.2b:  Model 2 - Probability of Achieving Goal Overall' # graph title\n",
    "caption = 'Text for caption' # caption text\n",
    "target_percentage = 0.25 # target percentage of women in the department\n",
    "number_of_runs = 100 # number simulations to average over\n",
    "\n",
    "s.plot_empirical_probability_gender_proportion(number_of_runs, target_percentage,title ,xlabel, ylabel, '')"
   ]
  },
  {
   "cell_type": "markdown",
   "metadata": {},
   "source": [
    "### Compare Models 1 and 2 Overall (N)"
   ]
  },
  {
   "cell_type": "markdown",
   "metadata": {},
   "source": [
    "Figure 4.3.3a:  Models 1 and 2 – Compare Change in *Number* of Women Overall (N)"
   ]
  },
  {
   "cell_type": "code",
   "execution_count": null,
   "metadata": {
    "collapsed": false
   },
   "outputs": [],
   "source": [
    "xlabel = 'Years' # x-axis label\n",
    "ylabel = 'Number of Faculty' # y-axis label \n",
    "title = 'Figure 4.3.3a:  Models 1 and 2 – Compare Change in *Number* of Women Overall (N)' # graph title\n",
    "caption = 'Text for caption' # caption text\n",
    "target_percentage = 0.25 # target percentage of women in the department\n",
    "number_of_runs = 100 # number simulations to average over\n",
    "\n",
    "u.plot_comparison_female_male_numbers(xlabel, ylabel, title, '', target, number_of_runs)"
   ]
  },
  {
   "cell_type": "markdown",
   "metadata": {},
   "source": [
    "Figure 4.3.3b:  Models 1 and 2 - Compare Probability of Achieving Goal Overall (N)"
   ]
  },
  {
   "cell_type": "code",
   "execution_count": null,
   "metadata": {
    "collapsed": false
   },
   "outputs": [],
   "source": [
    "xlabel = 'Years' # x-axis label\n",
    "ylabel = 'Probability of Achieving Goal Overall (N)' # y-axis label\n",
    "title = 'Figure 4.3.3b:  Models 1 and 2 - Compare Probability of Achieving Goal Overall (N)' # plot title\n",
    "caption = 'text for caption' # caption text\n",
    "target = 0.25 # target percentage of women \n",
    "number_of_runs = 100 # number of simulation runs.\n",
    "\n",
    "u.plot_comparison_empirical_probability_gender_proportion(xlabel, ylabel, title, '', target, number_of_runs)"
   ]
  },
  {
   "cell_type": "markdown",
   "metadata": {},
   "source": [
    "### Notes on Models 1 and 2 Overall (N)"
   ]
  },
  {
   "cell_type": "markdown",
   "metadata": {},
   "source": [
    "## Change in *Number* of Women by Level (N)\n",
    "\n",
    "Figure X shows the change in the number of women over time using the two hire-promote and two promote-hire models.  Figure X shows the probability of achieving a designated goal within N years. "
   ]
  },
  {
   "cell_type": "markdown",
   "metadata": {},
   "source": [
    "### Model 1 - Change in *Number* of Women by Level\n",
    "Figure 4.4.1a:  Model 1 - Change in *Number* of Women by Level (N)\n"
   ]
  },
  {
   "cell_type": "code",
   "execution_count": null,
   "metadata": {
    "collapsed": false,
    "scrolled": false
   },
   "outputs": [],
   "source": [
    "target = 0 # Target number of women at this level. Not a very meaningful number, so can be set to 0 unless otherwise desired.\n",
    "plot_title = 'Figure 4.4.1a:  Model 1 - Change in *Number* of Women by Level (N)' # title of the plot\n",
    "t.plot_multiple_runs_detail(100, plot_title, 10)"
   ]
  },
  {
   "cell_type": "markdown",
   "metadata": {},
   "source": [
    "Figure 4.4.1b:  Model 1 - Probability of Achieving Goal by Level (N)"
   ]
  },
  {
   "cell_type": "code",
   "execution_count": null,
   "metadata": {
    "collapsed": false
   },
   "outputs": [],
   "source": [
    "title = 'Figure 4.4.1b:  Model 1 - Probability of Achieving Goal by Level (N)' # plot title\n",
    "caption = 'text for caption' # caption text\n",
    "target_percentage = 0.25 # target percentage of women at each level\n",
    "number_of_runs = 100 # number of simulation runs\n",
    "t.plot_multiple_runs_detail_percentage(number_of_runs, title, target_percentage, '')"
   ]
  },
  {
   "cell_type": "markdown",
   "metadata": {},
   "source": [
    "### Model 2 - Change in *Number* of Women by Level (N)\n",
    "Figure 4.4.2a:  Model 2 - Change in *Number* of Women by Level (N) \n"
   ]
  },
  {
   "cell_type": "code",
   "execution_count": null,
   "metadata": {
    "collapsed": false
   },
   "outputs": [],
   "source": [
    "target = 0 # Target number of women at this level. Not a very meaningful number, so can be set to 0 unless otherwise desired.\n",
    "plot_title = 'Figure 4.4.2a:  Model 2 - Change in *Number* of Women by Level (N)' # title of the plot\n",
    "s.plot_multiple_runs_detail(100, plot_title, target)"
   ]
  },
  {
   "cell_type": "markdown",
   "metadata": {},
   "source": [
    "Figure 4.4.2b:  Model 2 - Probability of Achieving Goal by Level (N)"
   ]
  },
  {
   "cell_type": "code",
   "execution_count": null,
   "metadata": {
    "collapsed": false
   },
   "outputs": [],
   "source": [
    "group_title = 'Figure 4.4.2b:  Model 2 - Probability of Achieving Goal by Level (N)' # plot title\n",
    "target_percentage = 0.25 # target percentage of females at each level\n",
    "number_of_runs = 100 # number of simulation runs\n",
    "caption = ''\n",
    "\n",
    "kwargs = {\n",
    "'titlef1':'enter value',\n",
    "'titlef2':'',\n",
    "'titlef3':'',\n",
    "'titlem1':'',\n",
    "'titlem2':'',\n",
    "'titlem3':'',\n",
    "\n",
    "# x axis labels\n",
    "'xlabelf1':'',\n",
    "'xlabelf2':'',\n",
    "'xlabelf3':'',\n",
    "'xlabelm1':'',\n",
    "'xlabelm2':'',\n",
    "'xlabelm3':'',\n",
    "\n",
    "#y axis labels\n",
    "'ylabelf1':'',\n",
    "'ylabelf2':'',\n",
    "'ylabelf3':'',\n",
    "'ylabelm1':'',\n",
    "'ylabelm2':'',\n",
    "'ylabelm3':'',\n",
    "}\n",
    "\n",
    "kwargs['group_title'] = group_title\n",
    "\n",
    "\n",
    "s.plot_multiple_runs_detail_percentage(target_percentage, number_of_runs, **kwargs)\n",
    "\n",
    "\n"
   ]
  },
  {
   "cell_type": "markdown",
   "metadata": {},
   "source": [
    "### Models 1 and 2 - Compare Change in *Number* of Women by Level (N)\n",
    "\n",
    "Figure 4.4.3a: Models 1 and 2 – Compare Change in *Number* of Women by Level (N)\n",
    "\n"
   ]
  },
  {
   "cell_type": "code",
   "execution_count": null,
   "metadata": {
    "collapsed": false
   },
   "outputs": [],
   "source": [
    "group_title = 'Figure 4.4.3a: Models 1 and 2 – Compare Change in *Number* of Women by Level (N)' # plot title\n",
    "number_of_runs = 100\n",
    "caption = ''\n",
    "\n",
    "kwargs = {\n",
    "'titlef1':'enter value',\n",
    "'titlef2':'',\n",
    "'titlef3':'',\n",
    "'titlem1':'',\n",
    "'titlem2':'',\n",
    "'titlem3':'',\n",
    "\n",
    "# x axis labels\n",
    "'xlabelf1':'',\n",
    "'xlabelf2':'',\n",
    "'xlabelf3':'',\n",
    "'xlabelm1':'',\n",
    "'xlabelm2':'',\n",
    "'xlabelm3':'',\n",
    "\n",
    "#y axis labels\n",
    "'ylabelf1':'',\n",
    "'ylabelf2':'',\n",
    "'ylabelf3':'',\n",
    "'ylabelm1':'',\n",
    "'ylabelm2':'',\n",
    "'ylabelm3':'',\n",
    "}\n",
    "\n",
    "kwargs['group_title'] = group_title\n",
    "u.plot_comparison_detail(number_of_runs,\n",
    "                         **kwargs)"
   ]
  },
  {
   "cell_type": "markdown",
   "metadata": {},
   "source": [
    "Figure 4.4.3b: Models 1 and 2 - Probability of Achieving Goal by Level (N)"
   ]
  },
  {
   "cell_type": "code",
   "execution_count": null,
   "metadata": {
    "collapsed": true
   },
   "outputs": [],
   "source": [
    "group_title = 'Figure 4.4.3b: Models 1 and 2 - Probability of Achieving Goal by Level (N)' # plot title\n",
    "target_percentage = 0.25  # set target percentage\n",
    "number_of_runs = 100 # number simulations to average over\n",
    "caption = '' # caption text\n",
    "\n",
    "\n",
    "# subplot titles\n",
    "kwargs = {\n",
    "'titlef1':'',\n",
    "'titlef2':'',\n",
    "'titlef3':'',\n",
    "'titlem1':'',\n",
    "'titlem2':'',\n",
    "'titlem3':'',\n",
    "\n",
    "# x axis labels\n",
    "'xlabelf1':'',\n",
    "'xlabelf2':'',\n",
    "'xlabelf3':'',\n",
    "'xlabelm1':'',\n",
    "'xlabelm2':'',\n",
    "'xlabelm3':'',\n",
    "\n",
    "#y axis labels\n",
    "'ylabelf1':'',\n",
    "'ylabelf2':'',\n",
    "'ylabelf3':'',\n",
    "'ylabelm1':'',\n",
    "'ylabelm2':'',\n",
    "'ylabelm3':'',\n",
    "}\n",
    "\n",
    "kwargs['group_title'] = group_title\n",
    "\n",
    "u.plot_comparison_empirical_probability_proportion_by_level(target_percentage, \n",
    "                                               number_of_runs, \n",
    "                                               caption,\n",
    "                                               **kwargs)"
   ]
  },
  {
   "cell_type": "markdown",
   "metadata": {},
   "source": [
    "### Notes on Models 1 and 2 by Level ###\n",
    "The promote-hire models outperform the hire-promote models because the probability of adding a female full is higher for promoting an associate (0.1905) than from hiring a full (0.0250).  Similarly, the probability of adding a female associate is higher for promoting an assistant (0.0555) than for hiring an associate (.0400). All assistants are hired so there is no differential promotion effect.  This would be possible if a fourth level were added to include the availability of doctoral students.  These data are unavailable."
   ]
  },
  {
   "cell_type": "markdown",
   "metadata": {},
   "source": [
    "# Scenario Analyses (Attrition, Hiring and Promotion)\n",
    "\n",
    "The following models examine the effects of optimistic, very optimistic and pessimistic changes in all three rates on the proportion of women overall and across the three levels.  [WHERE ARE THE INITIALIZATION CELLS FOR EACH SCENARIO?]\n",
    "\n",
    "For reference, the tables below show actual hiring, promotion and attrition rates for women and men at each level.  \n",
    "\n",
    "                          ASSISTANT PROF         ASSOCIATE PROF          FULL PROF \n",
    "| BASELINE RATES      | women   |  men        | women   |  men        | women  |  men  \n",
    "| --------------      | -----   | ------      | -----   |------       | ------ |------- \n",
    "| attrition           | 0.0556  | 0.0687      | 0.0000  | 0.0574      | 0.0741 | 0.0399\n",
    "| hiring              | 0.1724  | 0.8276      | 0.0400  | 0.0600      | 0.1667 | 0.8333  \n",
    "| promotion           | 0.0555  | 0.0611      | 0.1905  | 0.1149      | NA     | NA "
   ]
  },
  {
   "cell_type": "markdown",
   "metadata": {},
   "source": [
    "## Optimistic Scenario \n",
    "\n",
    "The following models examine the effects of optimistic assumptions about change.  The specifications are:\n",
    "\n",
    "EVENTUALLY WE NEED TO ADD A SIMILAR TABLE TO ABOVE THAT SHOWS THE OPTIMISTIC RATES FOR ATTRITION, HIRING & PROMOTION.  THESE SHOULD BE HARD WIRED TO THE RELEVANT SIMS BELOW SO PEOPLE DON'T WRITE ONE SET OF RATES HERE, THEN USE ANOTHER SET IN THE SIMULATION (THOSE ARE IN THE INITIALIZATION CELLS?  I HAVEN'T CHECKED)"
   ]
  },
  {
   "cell_type": "markdown",
   "metadata": {},
   "source": [
    "### Optimistic Scenario - Change in *Proportion* Women Overall\n",
    "Figure 5.1.1a:  Optimistic Scenario - Change in *Proportion* Women Overall"
   ]
  },
  {
   "cell_type": "code",
   "execution_count": null,
   "metadata": {
    "collapsed": false
   },
   "outputs": [],
   "source": [
    "xlabel = 'Years' # x-axis label\n",
    "ylabel = 'Proportion Women Overall' # y-axis label \n",
    "title = 'Figure 5.1.1a:  Optimistic Scenario - Change in *Proportion* Women Overall' # graph title\n",
    "caption = '' # caption text\n",
    "target = 0.25 # target percentage of women in the department\n",
    "number_of_runs = 100 # number simulations to average over\n",
    "c.plot_comparison_gender_proportion(xlabel, ylabel, title, caption, target, number_of_runs)\n"
   ]
  },
  {
   "cell_type": "markdown",
   "metadata": {
    "collapsed": false
   },
   "source": [
    "Figure 5.1.1b:  Optimistic Scenario - Change in *Number* of Women Overall (N)"
   ]
  },
  {
   "cell_type": "code",
   "execution_count": null,
   "metadata": {
    "collapsed": false
   },
   "outputs": [],
   "source": [
    "xlabel = 'Years' # x-axis label\n",
    "ylabel = 'Number of Faculty' # y-axis label \n",
    "title = 'Figure 5.1.1b:  Optimistic Scenario - Change in *Number* of Women Overall (N)' # graph title\n",
    "caption = 'Text for caption' # caption text\n",
    "target_percentage = 0.25 # target percentage of women in the department\n",
    "number_of_runs = 100 # number simulations to average over\n",
    "\n",
    "c.plot_comparison_female_male_numbers(xlabel, ylabel, title, '', target, number_of_runs)"
   ]
  },
  {
   "cell_type": "markdown",
   "metadata": {},
   "source": [
    "Figure 5.1.1c:  Optimistic Scenario - Probability of Achieving Goal Overall\n"
   ]
  },
  {
   "cell_type": "code",
   "execution_count": null,
   "metadata": {
    "collapsed": false
   },
   "outputs": [],
   "source": [
    "xlabel = 'Years' # x-axis label\n",
    "ylabel = 'Probability of Achieving Goal Overall' # y-axis label \n",
    "title = 'Figure 5.1.1c:  Optimistic Scenario - Probability of Achieving Goal Overall' # graph title\n",
    "caption = 'Text for caption' # caption text\n",
    "target = 0.25 # target percentage of women in the department\n",
    "number_of_runs = 100 # number simulations to average over\n",
    "c.plot_comparison_empirical_probability_gender_proportion(xlabel, ylabel, title, '', target, number_of_runs)"
   ]
  },
  {
   "cell_type": "markdown",
   "metadata": {},
   "source": [
    "### The Effect of Optimistic Assumptions on *Proportion* Women By Level \n",
    "Figure 5.1.2a:  Optimistic Scenario - Change in *Proportion* Women by Level"
   ]
  },
  {
   "cell_type": "code",
   "execution_count": null,
   "metadata": {
    "collapsed": false
   },
   "outputs": [],
   "source": [
    "\n",
    "title = 'Figure 5.1.2a:  Optimistic Scenario - Change in *Proportion* Women by Level' # graph title\n",
    "caption = 'Text for caption' # caption text\n",
    "target = 0.25 # target percentage of women in the department\n",
    "number_of_runs = 100 # number simulations to average over\n",
    "a.plot_multiple_runs_detail_percentage(number_of_runs, title, target,'')"
   ]
  },
  {
   "cell_type": "markdown",
   "metadata": {},
   "source": [
    "Figure 5.1.2b:  Optimistic Scenario - Change in *Number* of Women by Level (N)"
   ]
  },
  {
   "cell_type": "code",
   "execution_count": null,
   "metadata": {
    "collapsed": false
   },
   "outputs": [],
   "source": [
    "title = 'Figure 5.1.2b:  Optimistic Scenario - Change in *Number* of Women by Level (N)' # graph title\n",
    "caption = 'Text for caption' # caption text\n",
    "target = 0.25 # target percentage of women in the department\n",
    "number_of_runs = 100 # number simulations to average over\n",
    "b.plot_multiple_runs_detail(number_of_runs, title, target)"
   ]
  },
  {
   "cell_type": "markdown",
   "metadata": {},
   "source": [
    "Figure 5.1.2c:  Optimistic Scenario - Probability of Achieving Goal by Level\n",
    "\n"
   ]
  },
  {
   "cell_type": "code",
   "execution_count": null,
   "metadata": {
    "collapsed": false
   },
   "outputs": [],
   "source": [
    "\n",
    "group_title = 'Figure 5.1.2c:  Optimistic Scenario - Probability of Achieving Goal by Level (Hire-Promote)' # plot title\n",
    "target_percentage = 0.25  # set target percentage\n",
    "number_of_runs = 100 # number simulations to average over\n",
    "caption = '' # caption text\n",
    "\n",
    "\n",
    "# subplot titles\n",
    "kwargs = {\n",
    "'titlef1':'',\n",
    "'titlef2':'',\n",
    "'titlef3':'',\n",
    "'titlem1':'',\n",
    "'titlem2':'',\n",
    "'titlem3':'',\n",
    "\n",
    "# x axis labels\n",
    "'xlabelf1':'',\n",
    "'xlabelf2':'',\n",
    "'xlabelf3':'',\n",
    "'xlabelm1':'',\n",
    "'xlabelm2':'',\n",
    "'xlabelm3':'',\n",
    "\n",
    "#y axis labels\n",
    "'ylabelf1':'',\n",
    "'ylabelf2':'',\n",
    "'ylabelf3':'',\n",
    "'ylabelm1':'',\n",
    "'ylabelm2':'',\n",
    "'ylabelm3':'',\n",
    "}\n",
    "\n",
    "kwargs['group_title'] = group_title\n",
    "a.plot_empirical_probability_analysis_by_level(target_percentage, \n",
    "                                               number_of_runs, \n",
    "                                               caption,\n",
    "                                               **kwargs)"
   ]
  },
  {
   "cell_type": "code",
   "execution_count": null,
   "metadata": {
    "collapsed": false
   },
   "outputs": [],
   "source": [
    "group_title = 'Figure 5.1.2c:  Optimistic Scenario - Probability of Achieving Goal by Level(Promote-Hire)' # plot title\n",
    "target_percentage = 0.25  # set target percentage\n",
    "number_of_runs = 100 # number simulations to average over\n",
    "caption = '' # caption text\n",
    "\n",
    "\n",
    "# subplot titles\n",
    "kwargs = {\n",
    "'titlef1':'',\n",
    "'titlef2':'',\n",
    "'titlef3':'',\n",
    "'titlem1':'',\n",
    "'titlem2':'',\n",
    "'titlem3':'',\n",
    "\n",
    "# x axis labels\n",
    "'xlabelf1':'',\n",
    "'xlabelf2':'',\n",
    "'xlabelf3':'',\n",
    "'xlabelm1':'',\n",
    "'xlabelm2':'',\n",
    "'xlabelm3':'',\n",
    "\n",
    "#y axis labels\n",
    "'ylabelf1':'',\n",
    "'ylabelf2':'',\n",
    "'ylabelf3':'',\n",
    "'ylabelm1':'',\n",
    "'ylabelm2':'',\n",
    "'ylabelm3':'',\n",
    "}\n",
    "kwargs['group_title'] = group_title\n",
    "\n",
    "\n",
    "b.plot_empirical_probability_analysis_by_level(target_percentage, \n",
    "                                               number_of_runs, \n",
    "                                               caption,\n",
    "                                               **kwargs)"
   ]
  },
  {
   "cell_type": "markdown",
   "metadata": {
    "collapsed": true
   },
   "source": [
    "### Optimistic Scenario Notes"
   ]
  },
  {
   "cell_type": "markdown",
   "metadata": {},
   "source": [
    "## Very Optimistic Scenario\n",
    "The following models examine the effects of very optimistic assumptions about change. The following models examine the effects of optimistic, very optimistic and pessimistic changes in all three rates on the proportion of women overall and across the three levels.\n",
    "\n",
    "For reference, the tables below show actual hiring, promotion and attrition rates for women and men at each level.  \n",
    "\n",
    "                          ASSISTANT PROF         ASSOCIATE PROF          FULL PROF \n",
    "| BASELINE RATES      | women   |  men        | women   |  men        | women  |  men  \n",
    "| --------------      | -----   | ------      | -----   |------       | ------ |------- \n",
    "| attrition           | 0.0556  | 0.0687      | 0.0000  | 0.0574      | 0.0741 | 0.0399\n",
    "| hiring              | 0.1724  | 0.8276      | 0.0400  | 0.0600      | 0.1667 | 0.8333  \n",
    "| promotion           | 0.0555  | 0.0611      | 0.1905  | 0.1149      | NA     | NA \n",
    "\n",
    "EVENTUALLY WE NEED TO ADD A SIMILAR TABLE THAT SHOWS THE OPTIMISTIC RATES FOR ATTRITION, HIRING & PROMOTION.  THESE SHOULD BE HARD WIRED TO THE RELEVANT SIMS BELOW SO PEOPLE DON'T WRITE ONE SET OF RATES HERE, THEN USE ANOTHER SET IN THE SIMULATION (THOSE ARE IN THE INITIALIZATION CELLS?  I HAVEN'T CHECKED)"
   ]
  },
  {
   "cell_type": "markdown",
   "metadata": {},
   "source": [
    "### Very Optimistic Scenario: Change in *Proportion* Women Overall\n",
    "Figure 5.2.1a:  Very Optimistic Scenario - Change in *Proportion* Women Overall\n"
   ]
  },
  {
   "cell_type": "code",
   "execution_count": null,
   "metadata": {
    "collapsed": false
   },
   "outputs": [],
   "source": [
    "xlabel = 'Years' # x-axis label\n",
    "ylabel = 'Proportion Women' # y-axis label \n",
    "title = 'Figure 5.2.1a:  Very Optimistic Scenario - Change in *Proportion* Women Overall' # graph title\n",
    "caption = 'Text for caption' # caption text\n",
    "target = 0.25 # target percentage of women in the department\n",
    "number_of_runs = 100 # number simulations tomodlist = list([t, s])\n",
    "f.plot_comparison_gender_proportion(xlabel, ylabel, title, '', target, number_of_runs)"
   ]
  },
  {
   "cell_type": "markdown",
   "metadata": {
    "collapsed": true
   },
   "source": [
    "Figure 5.2.1b:  Very Optimistic Scenario - Change in *Number* of Women Overall (N)"
   ]
  },
  {
   "cell_type": "code",
   "execution_count": null,
   "metadata": {
    "collapsed": false
   },
   "outputs": [],
   "source": [
    "xlabel = 'Years' # x-axis label\n",
    "ylabel = 'Number of Faculty' # y-axis label \n",
    "title = 'Figure 5.2.1b:  Very Optimistic Scenario - Change in *Number* of Women Overall (N)' # graph title\n",
    "caption = '' # caption text\n",
    "target_percentage = 0.25 # target percentage of women in the department\n",
    "number_of_runs = 100 # number simulations to average over\n",
    "\n",
    "f.plot_comparison_female_male_numbers(xlabel, ylabel, title, caption, target_percentage, number_of_runs)"
   ]
  },
  {
   "cell_type": "markdown",
   "metadata": {},
   "source": [
    "Figure 5.2.1c:  Very Optimistic Scenario – Probability of Achieving Goal by Level"
   ]
  },
  {
   "cell_type": "code",
   "execution_count": null,
   "metadata": {
    "collapsed": false,
    "scrolled": false
   },
   "outputs": [],
   "source": [
    "\n",
    "xlabel = 'Years' # x-axis label\n",
    "ylabel = 'Probability of Achieving Goal Overall' # y-axis label \n",
    "title = 'Figure 5.2.1c:  Very Optimistic Scenario – Probability of Achieving Goal Overall' # graph title\n",
    "caption = 'Text for caption' # caption text\n",
    "target = 0.25 # target percentage of women in the department\n",
    "number_of_runs = 100 # number simulations to average over\n",
    "f.plot_comparison_empirical_probability_gender_proportion(xlabel, ylabel, title, '', target, number_of_runs)"
   ]
  },
  {
   "cell_type": "markdown",
   "metadata": {},
   "source": [
    "### Very Optimistic Scenario: Change in *Proportion* Women by Level\n",
    "Figure 5.2.2a - Very Optimistic Scenario: Change in *Proportion* Women by Level "
   ]
  },
  {
   "cell_type": "code",
   "execution_count": null,
   "metadata": {
    "collapsed": false,
    "scrolled": false
   },
   "outputs": [],
   "source": [
    "\n",
    "title = 'Figure 5.2.2a:  Very Optimistic Scenario - Change in *Proportion* Women by Level' # graph title\n",
    "caption = 'Text for caption' # caption text\n",
    "target = 0.25 # target percentage of women in the department\n",
    "number_of_runs = 100 # number simulations to average over\n",
    "d.plot_multiple_runs_detail_percentage(number_of_runs, title, target,'')"
   ]
  },
  {
   "cell_type": "markdown",
   "metadata": {},
   "source": [
    "Figure 5.2.2b - Very Optimistic Scenario: Change in *Number* of Women by Level"
   ]
  },
  {
   "cell_type": "code",
   "execution_count": null,
   "metadata": {
    "collapsed": false,
    "scrolled": false
   },
   "outputs": [],
   "source": [
    "title = 'Figure 5.2.2b - Very Optimistic Scenario: Change in *Number* of Women by Level (N)' # graph title\n",
    "caption = 'Text for caption' # caption text\n",
    "target = 0.25 # target percentage of women in the department\n",
    "number_of_runs = 100 # number simulations to average over\n",
    "d.plot_multiple_runs_detail(number_of_runs, title, target)"
   ]
  },
  {
   "cell_type": "markdown",
   "metadata": {},
   "source": [
    "Figure 5.2.2c:  Very Optimistic Scenario – Probability of Achieving Goal by Level"
   ]
  },
  {
   "cell_type": "code",
   "execution_count": null,
   "metadata": {
    "collapsed": false
   },
   "outputs": [],
   "source": [
    "group_title = 'Figure 5.2.2c:  Very Optimistic Scenario – Probability of Achieving Goal by Level' # plot title\n",
    "target_percentage = 0.25  # set target percentage\n",
    "number_of_runs = 100 # number simulations to average over\n",
    "caption = '' # caption text\n",
    "\n",
    "\n",
    "# subplot titles\n",
    "kwargs = {\n",
    "'titlef1':'',\n",
    "'titlef2':'',\n",
    "'titlef3':'',\n",
    "'titlem1':'',\n",
    "'titlem2':'',\n",
    "'titlem3':'',\n",
    "\n",
    "# x axis labels\n",
    "'xlabelf1':'',\n",
    "'xlabelf2':'',\n",
    "'xlabelf3':'',\n",
    "'xlabelm1':'',\n",
    "'xlabelm2':'',\n",
    "'xlabelm3':'',\n",
    "\n",
    "#y axis labels\n",
    "'ylabelf1':'',\n",
    "'ylabelf2':'',\n",
    "'ylabelf3':'',\n",
    "'ylabelm1':'',\n",
    "'ylabelm2':'',\n",
    "'ylabelm3':'',\n",
    "}\n",
    "kwargs['group_title'] = group_title\n",
    "\n",
    "\n",
    "f.plot_comparison_empirical_probability_proportion_by_level(target_percentage, number_of_runs, caption, **kwargs)"
   ]
  },
  {
   "cell_type": "markdown",
   "metadata": {},
   "source": [
    "### Very Optimistic Scenario Notes"
   ]
  },
  {
   "cell_type": "markdown",
   "metadata": {},
   "source": [
    "##  Pessimistic Scenario"
   ]
  },
  {
   "cell_type": "markdown",
   "metadata": {},
   "source": [
    "### Pessimistic Scenario: Change in *Proportion* Women Overall\n",
    "Figure 5.3.1a - Pessimistic Scenario: Change in *Proportion* Women Overall"
   ]
  },
  {
   "cell_type": "code",
   "execution_count": null,
   "metadata": {
    "collapsed": false
   },
   "outputs": [],
   "source": [
    "xlabel = 'Years' # x-axis label\n",
    "ylabel = 'Proportion Women' # y-axis label \n",
    "title = 'Figure 5.3.1a - Pessimistic Scenario: Change in *Proportion* Women Overall' # graph title\n",
    "caption = 'Text for caption' # caption text\n",
    "target = 0.25 # target percentage of women in the department\n",
    "number_of_runs = 100 # number simulations to average over\n",
    "j.plot_comparison_gender_proportion(xlabel, ylabel, title, '', target, number_of_runs)"
   ]
  },
  {
   "cell_type": "markdown",
   "metadata": {
    "collapsed": false
   },
   "source": [
    "Figure 5.3.1b:  Pessimistic Scenario - Change in Number of Women Overall (N)"
   ]
  },
  {
   "cell_type": "code",
   "execution_count": null,
   "metadata": {
    "collapsed": false
   },
   "outputs": [],
   "source": [
    "xlabel = 'Years' # x-axis label\n",
    "ylabel = 'Number of Faculty' # y-axis label \n",
    "title = 'Figure 5.3.1b:  Pessimistic Scenario - Change in Number of Women Overall (N)' # graph title\n",
    "caption = 'Text for caption' # caption text\n",
    "target_percentage = 0.25 # target percentage of women in the department\n",
    "number_of_runs = 100 # number simulations to average over\n",
    "\n",
    "j.plot_comparison_female_male_numbers(xlabel, ylabel, title, '', target, number_of_runs)"
   ]
  },
  {
   "cell_type": "markdown",
   "metadata": {
    "collapsed": true
   },
   "source": [
    "Figure 5.3.1c:  Pessimistic Scenario – Probability of Achieving Goal Overall"
   ]
  },
  {
   "cell_type": "code",
   "execution_count": null,
   "metadata": {
    "collapsed": false,
    "scrolled": false
   },
   "outputs": [],
   "source": [
    "xlabel = 'Years' # x-axis label\n",
    "ylabel = 'Probability of Achieving Goal Overall' # y-axis label \n",
    "title = 'Figure 5.3.1c:  Pessimistic Scenario – Probability of Achieving Goal Overall' # graph title\n",
    "caption = 'Text for caption' # caption text\n",
    "target = 0.25 # target percentage of women in the department\n",
    "number_of_runs = 100 # number simulations to average over\n",
    "j.plot_comparison_empirical_probability_gender_proportion(xlabel, ylabel, title, '', target, number_of_runs)"
   ]
  },
  {
   "cell_type": "markdown",
   "metadata": {},
   "source": [
    "### Pessimistic Scenario - Change in *Proportion* Women By Level\n",
    "Figure 5.3.2a Pessimistic Scenario: Change in *Proportion* Women by Level"
   ]
  },
  {
   "cell_type": "code",
   "execution_count": null,
   "metadata": {
    "collapsed": false
   },
   "outputs": [],
   "source": [
    "title = 'Figure 5.3.2a: Pessimistic Scenario - Change in *Proportion* Women by Level' # graph title\n",
    "caption = 'Text for caption' # caption text\n",
    "target = 0.25 # target percentage of women in the department\n",
    "number_of_runs = 100 # number simulations to average over\n",
    "g.plot_multiple_runs_detail_percentage(number_of_runs, title, target,'')"
   ]
  },
  {
   "cell_type": "markdown",
   "metadata": {},
   "source": [
    "Figure 5.3.2b:  Pessimistic Scenario - Change in *Number* of Women by Level (N)"
   ]
  },
  {
   "cell_type": "code",
   "execution_count": null,
   "metadata": {
    "collapsed": false
   },
   "outputs": [],
   "source": [
    "title = 'Figure 5.3.2b:  Pessimistic Scenario - Change in *Number* of Women by Level (N)' # graph title\n",
    "caption = 'Text for caption' # caption text\n",
    "target = 0.25 # target percentage of women in the department\n",
    "number_of_runs = 100 # number simulations to average over\n",
    "h.plot_multiple_runs_detail(number_of_runs, title, target)\n"
   ]
  },
  {
   "cell_type": "markdown",
   "metadata": {},
   "source": [
    "Figure 5.3.2c:  Pessimistic Scenario – Probability of Achieving Goal by Level\n"
   ]
  },
  {
   "cell_type": "code",
   "execution_count": null,
   "metadata": {
    "collapsed": true
   },
   "outputs": [],
   "source": [
    "group_title = 'Figure 5.3.2c:  Pessimistic Scenario – Probability of Achieving Goal by Level' # plot title\n",
    "target_percentage = 0.25  # set target percentage\n",
    "number_of_runs = 100 # number simulations to average over\n",
    "caption = '' # caption text\n",
    "\n",
    "\n",
    "# subplot titles\n",
    "kwargs = {\n",
    "'titlef1':'',\n",
    "'titlef2':'',\n",
    "'titlef3':'',\n",
    "'titlem1':'',\n",
    "'titlem2':'',\n",
    "'titlem3':'',\n",
    "\n",
    "# x axis labels\n",
    "'xlabelf1':'',\n",
    "'xlabelf2':'',\n",
    "'xlabelf3':'',\n",
    "'xlabelm1':'',\n",
    "'xlabelm2':'',\n",
    "'xlabelm3':'',\n",
    "\n",
    "#y axis labels\n",
    "'ylabelf1':'',\n",
    "'ylabelf2':'',\n",
    "'ylabelf3':'',\n",
    "'ylabelm1':'',\n",
    "'ylabelm2':'',\n",
    "'ylabelm3':'',\n",
    "}\n",
    "kwargs['group_title'] = group_title\n",
    "\n",
    "\n",
    "j.plot_comparison_empirical_probability_proportion_by_level(target_percentage, number_of_runs, caption, **kwargs)"
   ]
  },
  {
   "cell_type": "markdown",
   "metadata": {},
   "source": [
    "### Pessimistic Scenario Notes"
   ]
  },
  {
   "cell_type": "markdown",
   "metadata": {},
   "source": [
    "## Scenario Comparison Models"
   ]
  },
  {
   "cell_type": "markdown",
   "metadata": {},
   "source": [
    "### Compare Three Scenarios Overall "
   ]
  },
  {
   "cell_type": "markdown",
   "metadata": {
    "collapsed": true
   },
   "source": [
    "Figure 5.4.1a:  Compare Scenarios for *Proportion* Women Overall"
   ]
  },
  {
   "cell_type": "code",
   "execution_count": null,
   "metadata": {
    "collapsed": false
   },
   "outputs": [],
   "source": [
    "xlabel = 'Years' # x-axis label\n",
    "ylabel = 'Proportion Women' # y-axis label \n",
    "title = 'Figure 5.4.1a:  Compare Scenarios for *Proportion* Women Overall' # graph title\n",
    "caption = 'Text for caption' # caption text\n",
    "target = 0.25 # target percentage of women in the department\n",
    "number_of_runs = 100 # number simulations to average over\n",
    "\n",
    "tu.plot_comparison_gender_proportion(xlabel, ylabel, title, '',\n",
    "                                          target,\n",
    "                                          number_of_runs=10)"
   ]
  },
  {
   "cell_type": "markdown",
   "metadata": {
    "collapsed": true
   },
   "source": [
    "Figure 5.4.1b:  Compare Probability That Scenarios Achieve Goal Overall"
   ]
  },
  {
   "cell_type": "code",
   "execution_count": null,
   "metadata": {
    "collapsed": false
   },
   "outputs": [],
   "source": [
    "xlabel = 'Years' # x-axis label\n",
    "ylabel = 'Probability of Achieving Goal' # y-axis label \n",
    "title = 'Figure 5.4.1b:  Compare Probability That Scenarios Achieve Goal Overall' # graph title\n",
    "caption = 'Text for caption' # caption text\n",
    "target = 0.25 # target percentage of women in the department\n",
    "number_of_runs = 100 # number simulations to average over\n",
    "\n",
    "\n",
    "tu.plot_comparison_empirical_probability_gender_proportion(xlabel,\n",
    "                                                        ylabel,\n",
    "                                                        title,\n",
    "                                                        '',\n",
    "                                                        target,\n",
    "                                                        number_of_runs)"
   ]
  },
  {
   "cell_type": "markdown",
   "metadata": {},
   "source": [
    "### Compare Three Scenarios by Level\n",
    "(We may have to run separate figures for the comparison of the three scenarios, one for Assistants, one for Associates and one for Full Professors.  Can you think of a way of putting the comparison of the three scenarios by level on one figure?)"
   ]
  },
  {
   "cell_type": "markdown",
   "metadata": {
    "collapsed": true
   },
   "source": [
    "Figure 5.4.2a:  Compare Scenarios by Level"
   ]
  },
  {
   "cell_type": "code",
   "execution_count": null,
   "metadata": {
    "collapsed": true
   },
   "outputs": [],
   "source": [
    "\n",
    "\n",
    "\n",
    "\n"
   ]
  },
  {
   "cell_type": "markdown",
   "metadata": {
    "collapsed": true
   },
   "source": [
    "Figure 5.4.2b:  Compare Probability that Scenarios Achieve Goal by Level"
   ]
  },
  {
   "cell_type": "code",
   "execution_count": null,
   "metadata": {
    "collapsed": true
   },
   "outputs": [],
   "source": [
    "\n",
    "\n",
    "\n",
    "\n"
   ]
  },
  {
   "cell_type": "markdown",
   "metadata": {},
   "source": [
    "### Scenario Comparison Notes"
   ]
  },
  {
   "cell_type": "markdown",
   "metadata": {},
   "source": [
    "# Ancillary Analyses \n",
    "The following section produces sweeps of attrition, hiring and promotions.  It shows the results for a range of rates for each.  For reference, the table below shows actual hiring, promotion and attrition rates for women and men at each level.  \n",
    "\n",
    "                          ASSISTANT PROF         ASSOCIATE PROF          FULL PROF \n",
    "| BASELINE RATES      | women   |  men        | women   |  men        | women  |  men  \n",
    "| --------------      | -----   | ------      | -----   |------       | ------ |------- \n",
    "| attrition           | 0.0556  | 0.0687      | 0.0000  | 0.0574      | 0.0741 | 0.0399\n",
    "| hiring              | 0.1724  | 0.8276      | 0.0400  | 0.0600      | 0.1667 | 0.8333  \n",
    "| promotion           | 0.0555  | 0.0611      | 0.1905  | 0.1149      | NA     | NA"
   ]
  },
  {
   "cell_type": "markdown",
   "metadata": {},
   "source": [
    "## Attrition Rate Sweep \n",
    "This section shows the effects of increasing or decreasing attrition rates for 1) each level independently and 2) all levels concurrently.  \n",
    "- FIGURE 6.1a – Assistant Professors (Attrition) \n",
    "- FIGURE 6.1b – Associate Professors (Attrition) \n",
    "- FIGURE 6.1c – Full Professors (Attrition)"
   ]
  },
  {
   "cell_type": "markdown",
   "metadata": {},
   "source": [
    "## Hiring Rate Sweep \n",
    "Figures 6.2a through 6.2c show the effect of increasing or decreasing hiring rates for assistant professors on the proportion women in the transition from assistant to associate professor. \n",
    "- FIGURE 6.2a – Assistant Professors (Hiring) \n",
    "- FIGURE 6.2b – Associate Professors (Hiring) \n",
    "- FIGURE 6.2c – Full Professors (Hiring)"
   ]
  },
  {
   "cell_type": "markdown",
   "metadata": {},
   "source": [
    "## Promotion Rate Sweep \n",
    "Figures 6.3a through 6.3c show the effects of increasing or decreasing promotion rates for associate professors on the proportion women. \n",
    "- FIGURE 6.3a – Assistant Professors (Promotion) \n",
    "- FIGURE 6.3b – Associate Professors (Promotion) \n",
    "- FIGURE 6.3c – Full Professors (Promotion)"
   ]
  },
  {
   "cell_type": "markdown",
   "metadata": {},
   "source": [
    "## Notes on Sweeps"
   ]
  },
  {
   "cell_type": "markdown",
   "metadata": {},
   "source": [
    "# Setting Parameters "
   ]
  },
  {
   "cell_type": "markdown",
   "metadata": {},
   "source": [
    "# APPENDIX A: REPLICATION AND EXTENSION MODELS\n",
    "\n",
    "There are two models presented in this appendix.  Model 3 is a stochastic version of the original replication model.  Model 4 was a first step we calculated between the replication model and the two stochastic models presented in this notebook.  In this model, Full Professor vacancies are filled with Associate Professor promotions; Associate Professor vacancies are filled with Assistant Professor promotions.  Assistant Professor vacancies are filled with new hires.  If fractional vacancies occurs, a the position remains unfilled.\n",
    "\n",
    "--- ADD EXCEL TABLE WITH REPLICATION AND EXTENSION MODELS HERE ----\n"
   ]
  },
  {
   "cell_type": "markdown",
   "metadata": {},
   "source": [
    "## Replication of Mathematical Model.\n",
    "This model reproduces the original mathematical model (Lawrence & Chen, 2015) to four decimal places (filename).  .  It uses the original model's hiring and attrition rates as well as its' assumptions about how replacements are filled.  The order of change is attrition, hiring and promotion for women, then for men.  Similar to the original model, actual promotion rates are not incorporated.  They change each year to accommodate vacancies that result from attrition and hiring.  Faculty are treated as fractional numbers.  As a result, department size and number of faculty by level do not change.\n",
    "\n",
    "**  Decision rule when fractional vacancies are replaced by fractional faculty.**  The department's attrition, hiring and promotion rates often result in fractional faculty at the end of each year.  For example, if the hiring rate for female Assistant Professors is 0.25 and five Assistant Professors are hired, 1.25 of them are women.  All fractional vacancies are filled.\n",
    "\n",
    "**Results for the replication model.**  Figure 1 shows the results for Model 1, which is a hire-promote model that doesn't incorporate actual promotion rates.  a for R in the number of male assistants as they are promoted to associate.  We don't see a lot of growth in assistants for either men or women because in this model all vacancies arise at the top and trickle down. Hence there are likely only a few vacancies if any offered to assistants, and even then there is almost a certainty of hiring men given a probability of 83%. Since there is very little likelihood for women to enter at this level [WHICH ONE?], the number of female assistants dwindles over time.\n",
    "\n",
    "---- FIGURE A1 ABOUT HERE ----\n",
    "\n",
    "The behavior at level 2 is especially interesting.  Because the probability of promotion from level 1 to 2 is lower than the probability of promotion from level 2 to 3, any woman entering level 2 is likely to be promoted after a few years.  However, as women are promoted into level 3, not enough women are promoted out of level 1 to take their place. Hence over time the number of level 2 women shrinks towards zero.  When the number of women at Level 2 hits zero, women who leave level 3 cannot be replaced by other women--since there are none. The dearth of women at level 2 leads to more men being promoted from 2 to 3--thus leading to a shrinkage of men at level 2.  \n",
    "\n",
    "One challenge with this model is that the promotion rate is variable, based on the proportion of women at each level. As the number of female associates falls, this makes the promotion rate [OR NUMBER OF?] of female associates smaller and smaller. An appropriate alternative would be to use the same promotion rate for men/women as the hire-promote model.\n",
    "\n"
   ]
  },
  {
   "cell_type": "markdown",
   "metadata": {},
   "source": [
    "## First Step Towards Stochastic Model. \n",
    "This model represents a first step between the Replication Model (Model 1a) and the Hire-Promote (Models 2a, 2b) and Promote-Hire Models (Models 3a,3b).  Similar to Model 1a, the order of change is attrition, hiring and promotion for women, then for men. Different from Model 1a, faculty are treated as integers and promotion rates for women are set using the percentage of women by level the year before promotion.  Thus, the promotion rate for female Assistant Professors at the end of a year is the proportion of female Assistant Professors the year before the promotion.  Rates for female Associate Professors are set similarly.  Promotion rates for men equal 1-promotion rates for women.  Because faculty are treated as integers, fractional vacancies remain unfilled.  These are replaced by hiring one or two women using the decision rule below.  As a result, department size and the number of faculty by level never increases but may decrease.  \n",
    "\n",
    "**Decision rule when fractional vacancies are replaced by integer-level faculty.**  When promotion rates result in fractional vacancies, the model will hire either one or two women.  [BUT NEVER ONE OR TWO MEN(?) THIS ALTERS THE HIRING RATE FOR WOMEN(?)]  The decision rule is: 1) round the fraction down to the nearest integer, 2) randomly select a number from a uniform distribution and 3) hire two women if the random number falls below the hiring rate and one if the random number falls above. This decision rule is applied to the results for women and men at each career level and for each of the three rates (hiring, promotion and attrition) [CONFIRM THAT THIS IS DONE FOR EACH CAREER LEVEL AT THE END OF EACH YEAR, I.E.BEFORE EACH TRANSITION.] at the end of each transition. \n",
    "\n",
    "**Cascade of Demographic Change**\n",
    "1.  Full Professor replacements (Level 3).  After Full Professors leave at the end of each year, replacements are selected by outside hires at the department's Full Professor hiring rate, first for women then for men.  Remaining vacancies are filled by Associate Professor promotions.  The decision rule for fractional faculty is applied to all vacancies in Model 1a.  The decision rule for integer-level faculty is applied to all vacancies in Model 1b.\n",
    "\n",
    "2.  Associate Professor replacements (Level 2).  All Associate Professors who leave or are promoted at the end of each year are replaced by outside hires at the department's Associate Professor hiring rate, first for women then for men.  Remaining vacancies are filled by Assistant Professor promotions.  The decision rule for fractional (Model 1a) and integer-level faculty (Model 1b) are applied to all replacements.\n",
    "\n",
    "3.  Assistant Professor replacements (Level 1).  All Assistant Professors who leave or are promoted are replaced by outside hires using the decision rule for fractional (Model 1a) or integer-level faculty (Model 1b) ."
   ]
  },
  {
   "cell_type": "markdown",
   "metadata": {},
   "source": [
    "# APPENDIX B: DECISION RULES"
   ]
  },
  {
   "cell_type": "markdown",
   "metadata": {},
   "source": [
    "## Fractional faculty vacancies filled with integer-level faculty (department size varies within a range).\n",
    "\n",
    "REWRITE RULE AFTER KRISHNA FIGURES OUT WHAT HE DID TO MAKE THIS WORK.  This rule applies to Models 1 and 2.  We compensate for this type of situation by allowing the department size to vary within a range.  In some years department size may shrink because of unfilled vacancies, in others the size may grow because of added FTE or department size may remain the same.  \n",
    "\n",
    "The number of FTE and the lower and upper boundaries at stake are user-specified parameters.  They are always left- or right-censored by the specified boundaries  For instance, If the number of faculty this year is 74 and a range of 74 to 78 is specified, the change in department size must be between 0 and +4 FTE, with the lowest number of 74 and the highest of 78.  A (0/1) Bernoulli variable determines if each FTE is activated, and another Bernoulli variable determines the sign of the change (+/-).  After the N +/- changes are selected, their sum determines the additional change in department size.  [IN THIS EXAMPLE DOES THIS MEAN THAT FOR EACH OF THE FOUR FTE, YOU SELECT 3 +/-BERNOULLI VARIABLES AND THEN SUM THEM TO DECIDE WHETHER THE CHANGE FOR THAT FTE WILL INCREASE OR DECREASE DEPARTMENT SIZE?]  The model then checks that the new department size is within the defined boundaries. If the size is within the range then the new size is accepted. If the size is outside of the range, the new size is rejected and the process for generating department size runs again.\n",
    "\n",
    "## Fractional faculty vacancies filled with fractional faculty (department size remains stable).  \n",
    "\n",
    "This rule applies to Model 3, the mathematical model in Appendix A, which is a stochastic replication of the original model.  It uses the original model's actual average attrition and hiring rates as well as its' assumptions about how vacancies are filled.  Similar to the original model, actual promotion rates are not incorporated.  Promotion rates change each year to accommodate Full Professor and Associate Professor vacancies that result from attrition and hiring.  Assistant Professor vacancies are filled by hiring.  There are no unfilled vacancies at the end of each year.  \n",
    "\n",
    "## Fractional faculty vacancies filled with integer-level faculty (department size shrinks).\n",
    "This rule applies to Model 4, the first step towards the stochastic simulations used in Models 1 and 2.  Actual average attrition and hiring rates are used.  Demographic change for women precedes that for men.  Change occurs in a cascade beginning with Full Professor and ending with Assistant Professor.  Attrition rates are applied first and then hiring rates.  Promotions are awarded last.  Actual average promotion rates are not used. The promotion rate for women is based on the proportion of women in that level the previous year.  Thus, if 20% of Assistant Professors are women at the beginning of the year, then 20% of any Associate Professor vacancies remaining after attrition and hiring are filled with promotions.  The promotion rate for men is 1-promotion rate for women.  Assistant professor vacancies are filled by hires.\n",
    "\n",
    "Using the department's actual average rates often results in fractional faculty at the end of each year. For example, if the hiring rate for female Assistant Professors is 0.25 and five Assistant Professors are hired, 1.25 of them are women.  Because the model requires integers, it will hire either one or two women. The decision rule is: 1) round the fraction down to the nearest integer, 2) randomly select a number from a uniform distribution and 3) hire two women if the random number falls below the hiring rate and one if the random number falls above.  Vacancies may remain unfilled.\n",
    "\n",
    "This decision rule results in a department that shrinks over time because attrition, hiring and promotion rates are all below .50.  The chance to fill a vacancy is probabilistic.  Thus, if a vacancy is not filled by hiring or promotion, it disappears at the end of the year. \n"
   ]
  },
  {
   "cell_type": "markdown",
   "metadata": {},
   "source": [
    "# Initialization Cells"
   ]
  },
  {
   "cell_type": "code",
   "execution_count": null,
   "metadata": {
    "collapsed": false,
    "init_cell": true
   },
   "outputs": [],
   "source": [
    "%pylab inline\n",
    "pylab.rcParams['figure.figsize'] = (13, 13)\n",
    "matplotlib.rcParams.update({'font.size': 14})\n",
    "import matplotlib.pyplot as plt\n",
    "import builtins\n",
    "import os, sys\n",
    "import pyugend\n",
    "from IPython.lib import deepreload\n",
    "builtins.reload = deepreload.reload\n",
    "from ipywidgets import widgets\n",
    "from IPython.display import display\n",
    "\n",
    "%reload_ext autoreload"
   ]
  },
  {
   "cell_type": "code",
   "execution_count": null,
   "metadata": {
    "collapsed": true,
    "init_cell": true
   },
   "outputs": [],
   "source": [
    "from IPython.core.display import HTML\n",
    "\n",
    "def css_styling():\n",
    "    styles = open(\"styles/custom_lb.css\", \"r\").read()\n",
    "    return HTML(styles)\n",
    "css_styling()\n",
    "\n",
    "from IPython.core.display import display, HTML"
   ]
  },
  {
   "cell_type": "code",
   "execution_count": null,
   "metadata": {
    "collapsed": true,
    "init_cell": true
   },
   "outputs": [],
   "source": [
    "number_of_females_1 = 3\n",
    "number_of_females_2 = 3\n",
    "number_of_females_3 = 2\n",
    "number_of_males_1 = 11\n",
    "number_of_males_2 = 12\n",
    "number_of_males_3 = 43\n",
    "number_of_initial_vacancies_1 = 5.303 \n",
    "number_of_initial_vacancies_2 = 5.9\n",
    "number_of_initial_vacancies_3 = 8.31\n",
    "hiring_rate_women_1 = 0.172\n",
    "hiring_rate_women_2 = 0.4\n",
    "hiring_rate_women_3 = 0.167\n",
    "attrition_rate_women_1 = 0.056\n",
    "attrition_rate_women_2 = 0.00\n",
    "attrition_rate_women_3 = 0.074\n",
    "attrition_rate_men_1 = 0.069\n",
    "attrition_rate_men_2 = 0.057\n",
    "attrition_rate_men_3 = 0.040\n",
    "probablity_of_outside_hire_1 = 1\n",
    "probability_of_outside_hire_2 = 0.125\n",
    "probability_of_outside_hire_3 = 0.150\n",
    "female_promotion_probability_1 = 0.0555\n",
    "female_promotion_probability_2 = 0.1905\n",
    "male_promotion_probability_1 = 0.0635\n",
    "male_promotion_probability_2 = 0.1149\n",
    "duration = 40\n",
    "upperbound = 84\n",
    "lowerbound = 64\n",
    "variation_range = 3\n",
    "\n",
    "data_mgmt = {'number_of_females_1': number_of_females_1,\n",
    "              'number_of_females_2': number_of_females_2,\n",
    "              'number_of_females_3': number_of_females_3,\n",
    "              'number_of_males_1': number_of_males_1,\n",
    "              'number_of_males_2': number_of_males_2,\n",
    "              'number_of_males_3': number_of_males_3,\n",
    "              'number_of_initial_vacancies_1': number_of_initial_vacancies_1, \n",
    "              'number_of_initial_vacancies_2': number_of_initial_vacancies_2,\n",
    "              'number_of_initial_vacancies_3': number_of_initial_vacancies_3,\n",
    "              'hiring_rate_women_1':hiring_rate_women_1,\n",
    "              'hiring_rate_women_2':hiring_rate_women_2,\n",
    "              'hiring_rate_women_3':hiring_rate_women_3,\n",
    "              'attrition_rate_women_1':attrition_rate_women_1,\n",
    "              'attrition_rate_women_2':attrition_rate_women_2,\n",
    "              'attrition_rate_women_3':attrition_rate_women_3,\n",
    "              'attrition_rate_men_1':attrition_rate_men_1,\n",
    "              'attrition_rate_men_2':attrition_rate_men_2,\n",
    "              'attrition_rate_men_3':attrition_rate_men_3,\n",
    "              'probablity_of_outside_hire_1':probablity_of_outside_hire_1,\n",
    "              'probability_of_outside_hire_2': probability_of_outside_hire_2,\n",
    "              'probability_of_outside_hire_3':probability_of_outside_hire_3,\n",
    "              'female_promotion_probability_1': female_promotion_probability_1,\n",
    "              'female_promotion_probability_2': female_promotion_probability_2,\n",
    "              'male_promotion_probability_1' : male_promotion_probability_1,\n",
    "              'male_promotion_probability_2' : male_promotion_probability_2,\n",
    "              'duration':duration,\n",
    "              'upperbound': upperbound,\n",
    "              'lowerbound': lowerbound,\n",
    "              'variation_range': variation_range}"
   ]
  },
  {
   "cell_type": "code",
   "execution_count": null,
   "metadata": {
    "collapsed": false,
    "init_cell": true
   },
   "outputs": [],
   "source": [
    "t = pyugend.Mod_Stoch_FBHP(**data_mgmt)\n",
    "s = pyugend.Mod_Stoch_FBPH(**data_mgmt)\n",
    "modlist = list([pyugend.Mod_Stoch_FBHP(**data_mgmt), \n",
    "                pyugend.Mod_Stoch_FBPH(**data_mgmt)])\n",
    "u = pyugend.Comparison(modlist)\n"
   ]
  },
  {
   "cell_type": "code",
   "execution_count": null,
   "metadata": {
    "collapsed": true,
    "init_cell": true
   },
   "outputs": [],
   "source": [
    "# Data for optimistic scenario\n",
    "\n",
    "a = pyugend.Mod_Stoch_FBHP(**data_mgmt)\n",
    "b = pyugend.Mod_Stoch_FBPH(**data_mgmt)\n",
    "a.load_optimistic_data_mgmt()\n",
    "b.load_optimistic_data_mgmt()\n",
    "modlist1 = list([a,b])\n",
    "c = pyugend.Comparison(modlist1)\n",
    "\n",
    "# Data for very optimistic scenario\n",
    "\n",
    "\n",
    "d = pyugend.Mod_Stoch_FBHP(**data_mgmt)\n",
    "e = pyugend.Mod_Stoch_FBPH(**data_mgmt)\n",
    "d.load_optimistic_data_mgmt()\n",
    "e.load_optimistic_data_mgmt()\n",
    "modlist2 = list([d,e])\n",
    "f = pyugend.Comparison(modlist2)\n",
    "\n",
    "# Data for pessimistic scenario\n",
    "\n",
    "g = pyugend.Mod_Stoch_FBHP(**data_mgmt)\n",
    "h = pyugend.Mod_Stoch_FBPH(**data_mgmt)\n",
    "g.load_optimistic_data_mgmt()\n",
    "h.load_optimistic_data_mgmt()\n",
    "modlist3 = list([g,h])\n",
    "j = pyugend.Comparison(modlist3)\n",
    "\n",
    "# Data for scenario comparison\n",
    "to = pyugend.Mod_Stoch_FBHP(**data_mgmt)\n",
    "tv = pyugend.Mod_Stoch_FBHP(**data_mgmt)\n",
    "tp = pyugend.Mod_Stoch_FBHP(**data_mgmt)\n",
    "\n",
    "to.label = 'Optimistic (Hire-Promote)'\n",
    "tv.label = 'Very Optimistic (Hire-Promote)'\n",
    "tp.label = 'Pessimistic (Hire-Promote)'\n",
    "\n",
    "\n",
    "to.load_optimistic_data_mgmt()\n",
    "tv.load_most_optimistic_data_mgmt()\n",
    "tp.load_pessimistic_data_mgmt()\n",
    "\n",
    "modlist4 = list([to, tv, tp])\n",
    "tu = pyugend.Comparison(modlist4)"
   ]
  },
  {
   "cell_type": "code",
   "execution_count": 77,
   "metadata": {
    "collapsed": false,
    "scrolled": false
   },
   "outputs": [
    {
     "name": "stdout",
     "output_type": "stream",
     "text": [
      "button clicked\n",
      "generating data\n",
      "[ (0, 3.0, 3.0, 2.0, 11.0, 12.0, 43.0, 8.3100004196167, 5.900000095367432, 5.302999973297119, 0.05550000071525574, 0.19050000607967377, 0.10810811072587967, 0.0, 74.0, 0.0, 0.0, 0.0, 0.0, 0.0, 0.0, 0.0, 0.0, 0.0, 0.0, 0.0, 0.0)\n",
      " (1, 6.0, 3.0, 2.0, 8.0, 9.0, 43.0, 4.0, 6.0, 3.0, 0.05550000071525574, 0.19050000607967377, 0.15492957830429077, 3.0, 71.0, 0.0, 0.0, 0.0, 0.0, 3.0, 0.0, 0.0, 0.0, 0.0, 4.0, 0.0, 3.0)\n",
      " (2, 8.0, 2.0, 4.0, 5.0, 10.0, 41.0, 6.0, 5.0, 4.0, 0.05550000071525574, 0.19050000607967377, 0.20000000298023224, 1.0, 70.0, 1.0, 0.0, 0.0, 1.0, 2.0, 1.0, 0.0, 0.0, 1.0, 4.0, 0.0, 4.0)\n",
      " (3, 6.0, 4.0, 4.0, 6.0, 9.0, 42.0, 2.0, 3.0, 5.0, 0.05550000071525574, 0.19050000607967377, 0.19718310236930847, 1.0, 71.0, 0.0, 0.0, 0.0, 0.0, 1.0, 3.0, 0.0, 0.0, 0.0, 3.0, 2.0, 2.0)\n",
      " (4, 8.0, 4.0, 5.0, 4.0, 8.0, 42.0, 7.0, 8.0, 6.0, 0.05550000071525574, 0.19050000607967377, 0.23943662643432617, 0.0, 71.0, 0.0, 0.0, 1.0, 0.0, 2.0, 4.0, 0.0, 0.0, 1.0, 7.0, 0.0, 6.0)\n",
      " (5, 6.0, 4.0, 5.0, 6.0, 8.0, 40.0, 5.0, 4.0, 6.0, 0.05550000071525574, 0.19050000607967377, 0.21739129722118378, 2.0, 69.0, 0.0, 0.0, 0.0, 0.0, 0.0, 6.0, 0.0, 0.0, 0.0, 3.0, 0.0, 4.0)\n",
      " (6, 9.0, 4.0, 5.0, 3.0, 7.0, 41.0, 7.0, 7.0, 6.0, 0.05550000071525574, 0.19050000607967377, 0.260869562625885, 0.0, 69.0, 0.0, 1.0, 0.0, 0.0, 3.0, 3.0, 0.0, 0.0, 0.0, 7.0, 0.0, 6.0)\n",
      " (7, 9.0, 4.0, 7.0, 2.0, 7.0, 40.0, 3.0, 1.0, 1.0, 0.05550000071525574, 0.19050000607967377, 0.28985506296157837, 0.0, 69.0, 2.0, 1.0, 0.0, 0.0, 0.0, 0.0, 0.0, 0.0, 0.0, 1.0, 0.0, 1.0)\n",
      " (8, 12.0, 4.0, 6.0, 0.0, 7.0, 40.0, 8.0, 7.0, 6.0, 0.05550000071525574, 0.19050000607967377, 0.3188405930995941, 0.0, 69.0, 0.0, 0.0, 0.0, 1.0, 3.0, 4.0, 0.0, 0.0, 0.0, 7.0, 0.0, 6.0)\n",
      " (9, 12.0, 4.0, 4.0, 0.0, 6.0, 41.0, 5.0, 4.0, 4.0, 0.05550000071525574, 0.19050000607967377, 0.2985074520111084, 2.0, 67.0, 0.0, 0.0, 0.0, 0.0, 1.0, 3.0, 0.0, 0.0, 0.0, 4.0, 0.0, 3.0)\n",
      " (10, 12.0, 3.0, 5.0, 0.0, 8.0, 41.0, 6.0, 7.0, 6.0, 0.05550000071525574, 0.19050000607967377, 0.28985506296157837, 2.0, 69.0, 0.0, 0.0, 0.0, 2.0, 0.0, 6.0, 0.0, 0.0, 1.0, 6.0, 0.0, 6.0)\n",
      " (11, 11.0, 3.0, 5.0, 0.0, 7.0, 42.0, 2.0, 3.0, 5.0, 0.05550000071525574, 0.19050000607967377, 0.27941176295280457, 1.0, 68.0, 0.0, 0.0, 0.0, 0.0, 2.0, 2.0, 0.0, 0.0, 0.0, 3.0, 0.0, 2.0)\n",
      " (12, 12.0, 3.0, 5.0, -2.0, 6.0, 41.0, 10.0, 7.0, 5.0, 0.05550000071525574, 0.19050000607967377, 0.3076923191547394, 3.0, 65.0, 1.0, 1.0, 0.0, 1.0, 1.0, 3.0, 0.0, 0.0, 0.0, 7.0, 0.0, 5.0)\n",
      " (13, 13.0, 4.0, 5.0, -3.0, 5.0, 41.0, 2.0, 2.0, 1.0, 0.05550000071525574, 0.19050000607967377, 0.3384615480899811, 0.0, 65.0, 0.0, 0.0, 1.0, 0.0, 1.0, 0.0, 0.0, 0.0, 0.0, 2.0, 0.0, 1.0)\n",
      " (14, 14.0, 4.0, 5.0, -4.0, 4.0, 41.0, 6.0, 5.0, 6.0, 0.05550000071525574, 0.19050000607967377, 0.359375, 1.0, 64.0, 0.0, 1.0, 0.0, 0.0, 3.0, 3.0, 0.0, 0.0, 0.0, 5.0, 0.0, 4.0)\n",
      " (15, 14.0, 3.0, 6.0, -4.0, 6.0, 40.0, 5.0, 5.0, 7.0, 0.05550000071525574, 0.19050000607967377, 0.35384616255760193, 1.0, 65.0, 0.0, 0.0, 0.0, 0.0, 1.0, 6.0, 0.0, 0.0, 1.0, 4.0, 0.0, 6.0)\n",
      " (16, 13.0, 6.0, 4.0, -3.0, 5.0, 41.0, 6.0, 4.0, 4.0, 0.05550000071525574, 0.19050000607967377, 0.3484848439693451, 1.0, 66.0, 0.0, 1.0, 1.0, 1.0, 1.0, 3.0, 0.0, 0.0, 0.0, 4.0, 2.0, 2.0)\n",
      " (17, 11.0, 7.0, 4.0, 0.0, 3.0, 40.0, 2.0, 2.0, 2.0, 0.05550000071525574, 0.19050000607967377, 0.3384615480899811, 1.0, 65.0, 0.0, 0.0, 0.0, 0.0, 0.0, 3.0, 0.0, 0.0, 0.0, 1.0, 1.0, 0.0)\n",
      " (18, 12.0, 7.0, 3.0, -1.0, 3.0, 39.0, 6.0, 3.0, 3.0, 0.05550000071525574, 0.19050000607967377, 0.3492063581943512, 2.0, 63.0, 0.0, 1.0, 0.0, 0.0, 1.0, 2.0, 0.0, 0.0, 0.0, 3.0, 0.0, 3.0)\n",
      " (19, 13.0, 6.0, 4.0, -1.0, 5.0, 39.0, 2.0, 3.0, 4.0, 0.05550000071525574, 0.19050000607967377, 0.3484848439693451, 3.0, 66.0, 0.0, 0.0, 0.0, 0.0, 1.0, 4.0, 0.0, 0.0, 1.0, 2.0, 0.0, 4.0)\n",
      " (20, 12.0, 5.0, 4.0, 0.0, 5.0, 39.0, 8.0, 6.0, 7.0, 0.05550000071525574, 0.19050000607967377, 0.32307693362236023, 1.0, 65.0, 0.0, 2.0, 0.0, 0.0, 1.0, 6.0, 0.0, 0.0, 1.0, 5.0, 0.0, 5.0)\n",
      " (21, 12.0, 5.0, 4.0, 0.0, 5.0, 39.0, 1.0, 1.0, 1.0, 0.05550000071525574, 0.19050000607967377, 0.32307693362236023, 0.0, 65.0, 0.0, 0.0, 0.0, 0.0, 0.0, 1.0, 0.0, 0.0, 0.0, 1.0, 0.0, 1.0)\n",
      " (22, 12.0, 5.0, 5.0, 1.0, 4.0, 39.0, 1.0, 1.0, 1.0, 0.05550000071525574, 0.19050000607967377, 0.3333333432674408, 1.0, 66.0, 1.0, 0.0, 0.0, 0.0, 1.0, 1.0, 0.0, 0.0, 0.0, 1.0, 0.0, 0.0)\n",
      " (23, 12.0, 5.0, 6.0, 1.0, 4.0, 38.0, 2.0, 1.0, 1.0, 0.05550000071525574, 0.19050000607967377, 0.3484848439693451, 0.0, 66.0, 1.0, 0.0, 0.0, 0.0, 0.0, 1.0, 0.0, 0.0, 0.0, 1.0, 0.0, 1.0)\n",
      " (24, 12.0, 4.0, 6.0, 1.0, 5.0, 38.0, 5.0, 5.0, 6.0, 0.05550000071525574, 0.19050000607967377, 0.3333333432674408, 0.0, 66.0, 0.0, 0.0, 0.0, 0.0, 1.0, 5.0, 0.0, 0.0, 1.0, 4.0, 0.0, 5.0)\n",
      " (25, 12.0, 5.0, 5.0, 1.0, 4.0, 39.0, 3.0, 3.0, 2.0, 0.05550000071525574, 0.19050000607967377, 0.3333333432674408, 0.0, 66.0, 0.0, 0.0, 1.0, 0.0, 0.0, 2.0, 0.0, 0.0, 0.0, 3.0, 0.0, 2.0)\n",
      " (26, 13.0, 4.0, 5.0, -1.0, 6.0, 40.0, 2.0, 4.0, 5.0, 0.05550000071525574, 0.19050000607967377, 0.3283582031726837, 1.0, 67.0, 0.0, 0.0, 0.0, 0.0, 1.0, 3.0, 0.0, 0.0, 1.0, 2.0, 0.0, 5.0)\n",
      " (27, 11.0, 4.0, 3.0, 1.0, 4.0, 42.0, 5.0, 4.0, 4.0, 0.05550000071525574, 0.19050000607967377, 0.2769230902194977, 2.0, 65.0, 0.0, 1.0, 0.0, 0.0, 0.0, 4.0, 0.0, 0.0, 0.0, 4.0, 0.0, 2.0)\n",
      " (28, 13.0, 4.0, 4.0, 0.0, 4.0, 40.0, 5.0, 3.0, 3.0, 0.05550000071525574, 0.19050000607967377, 0.32307693362236023, 0.0, 65.0, 1.0, 0.0, 0.0, 0.0, 2.0, 2.0, 0.0, 0.0, 0.0, 3.0, 0.0, 3.0)\n",
      " (29, 13.0, 4.0, 4.0, -1.0, 6.0, 40.0, 3.0, 2.0, 4.0, 0.05550000071525574, 0.19050000607967377, 0.3181818127632141, 1.0, 66.0, 0.0, 1.0, 0.0, 0.0, 0.0, 3.0, 0.0, 0.0, 0.0, 2.0, 0.0, 4.0)\n",
      " (30, 13.0, 4.0, 4.0, -1.0, 6.0, 40.0, 3.0, 3.0, 4.0, 0.05550000071525574, 0.19050000607967377, 0.3181818127632141, 0.0, 66.0, 0.0, 0.0, 0.0, 0.0, 1.0, 3.0, 0.0, 0.0, 0.0, 3.0, 0.0, 3.0)\n",
      " (31, 12.0, 6.0, 5.0, -2.0, 4.0, 40.0, 5.0, 5.0, 5.0, 0.05550000071525574, 0.19050000607967377, 0.35384616255760193, 1.0, 65.0, 1.0, 0.0, 1.0, 0.0, 1.0, 2.0, 0.0, 0.0, 0.0, 5.0, 1.0, 3.0)\n",
      " (32, 12.0, 5.0, 6.0, -3.0, 6.0, 37.0, 7.0, 5.0, 7.0, 0.05550000071525574, 0.19050000607967377, 0.3650793731212616, 2.0, 63.0, 0.0, 0.0, 0.0, 0.0, 1.0, 5.0, 0.0, 0.0, 1.0, 4.0, 0.0, 6.0)\n",
      " (33, 12.0, 4.0, 4.0, -2.0, 7.0, 41.0, 3.0, 4.0, 4.0, 0.05550000071525574, 0.19050000607967377, 0.3030303120613098, 3.0, 66.0, 0.0, 1.0, 0.0, 1.0, 1.0, 4.0, 0.0, 0.0, 1.0, 3.0, 0.0, 3.0)\n",
      " (34, 11.0, 3.0, 5.0, -2.0, 7.0, 40.0, 6.0, 6.0, 6.0, 0.05550000071525574, 0.19050000607967377, 0.296875, 2.0, 64.0, 0.0, 1.0, 0.0, 1.0, 1.0, 4.0, 0.0, 0.0, 1.0, 4.0, 0.0, 4.0)\n",
      " (35, 11.0, 3.0, 6.0, -2.0, 7.0, 39.0, 4.0, 4.0, 4.0, 0.05550000071525574, 0.19050000607967377, 0.3125, 0.0, 64.0, 0.0, 0.0, 0.0, 1.0, 2.0, 2.0, 0.0, 0.0, 1.0, 3.0, 1.0, 2.0)\n",
      " (36, 11.0, 2.0, 6.0, -2.0, 7.0, 40.0, 4.0, 7.0, 7.0, 0.05550000071525574, 0.19050000607967377, 0.296875, 0.0, 64.0, 0.0, 0.0, 0.0, 0.0, 1.0, 6.0, 0.0, 0.0, 1.0, 4.0, 0.0, 6.0)\n",
      " (37, 11.0, 2.0, 5.0, -1.0, 6.0, 41.0, 8.0, 7.0, 4.0, 0.05550000071525574, 0.19050000607967377, 0.28125, 0.0, 64.0, 0.0, 1.0, 0.0, 2.0, 0.0, 5.0, 0.0, 0.0, 0.0, 7.0, 0.0, 4.0)\n",
      " (38, 12.0, 2.0, 5.0, -3.0, 6.0, 43.0, 3.0, 5.0, 5.0, 0.05550000071525574, 0.19050000607967377, 0.29230770468711853, 1.0, 65.0, 0.0, 0.0, 0.0, 0.0, 1.0, 3.0, 0.0, 0.0, 0.0, 5.0, 0.0, 5.0)\n",
      " (39, 14.0, 2.0, 6.0, -4.0, 6.0, 43.0, 6.0, 7.0, 6.0, 0.05550000071525574, 0.19050000607967377, 0.3283582031726837, 2.0, 67.0, 0.0, 0.0, 1.0, 0.0, 2.0, 5.0, 0.0, 0.0, 1.0, 6.0, 0.0, 6.0)]\n",
      "generated file with model simulation results\n"
     ]
    }
   ],
   "source": [
    "w = widgets.Dropdown(options = ['Hire-Promote baseline',\n",
    "                                'Hire-Promote optimistic',\n",
    "                                'Hire-Promote very optimistic',\n",
    "                                'Hire-Promote pessimistic',\n",
    "                                'Promote-Hire baseline',\n",
    "                                'Promote-Hire optimistic',\n",
    "                                'Promote-Hire very optimistic',\n",
    "                                'Promote-Hire pessimistic',\n",
    "                                'choose value'],\n",
    "                     description='Choose Model: ', value='choose value')\n",
    "\n",
    "button = widgets.Button(description=\"Execute\")\n",
    "slider = widgets.IntSlider(value = 0, min = 1, max = 500)\n",
    "\n",
    "mod = 0\n",
    "button.disabled = True\n",
    "slider.disabled = False\n",
    "display(slider,w,button)\n",
    "\n",
    "\n",
    "\n",
    "def activate_print_button(change):\n",
    "    button.disabled = True\n",
    "    if w.value != 'choose value':\n",
    "        button.disabled = False\n",
    "\n",
    "\n",
    "def button_click(b):\n",
    "    \n",
    "    print('button clicked')\n",
    "    if w.value is not 'choose value':\n",
    "        print('generating data')\n",
    "        res = get_model_choice(w.value)\n",
    "        print(res.run_model())\n",
    "        print('generated file with model simulation results')\n",
    "    else:\n",
    "        print('please choose model')\n",
    "    button.disabled = True\n",
    "    \n",
    "    \n",
    "    \n",
    "def get_model_choice(argument):\n",
    "    switches = {\n",
    "        'Hire-Promote baseline' : t,\n",
    "        'Hire-Promote optimistic' : a, \n",
    "        'Hire-Promote very optimistic' : d,\n",
    "        'Hire-Promote pessimistic': g,\n",
    "        'Promote-Hire baseline' : s,\n",
    "        'Promote-Hire optimistic' : b,\n",
    "        'Promote-Hire very optimistic' : e,\n",
    "        'Promote-Hire pessimistic' : h,\n",
    "        'choose value':'',\n",
    "    }\n",
    "    \n",
    "    func = switches.get(argument)\n",
    "    return(func)\n",
    "    \n",
    "w.observe(activate_print_button, names='value')\n",
    "button.on_click(button_click)\n",
    "\n"
   ]
  },
  {
   "cell_type": "code",
   "execution_count": null,
   "metadata": {
    "collapsed": false
   },
   "outputs": [],
   "source": [
    "print(get_model_choice(w.value))"
   ]
  },
  {
   "cell_type": "code",
   "execution_count": null,
   "metadata": {
    "collapsed": false
   },
   "outputs": [],
   "source": [
    "w.value"
   ]
  },
  {
   "cell_type": "code",
   "execution_count": null,
   "metadata": {
    "collapsed": true
   },
   "outputs": [],
   "source": []
  },
  {
   "cell_type": "code",
   "execution_count": null,
   "metadata": {
    "collapsed": true
   },
   "outputs": [],
   "source": []
  }
 ],
 "metadata": {
  "hide_input": false,
  "kernelspec": {
   "display_name": "Python [py35_gu]",
   "language": "python",
   "name": "Python [py35_gu]"
  },
  "language_info": {
   "codemirror_mode": {
    "name": "ipython",
    "version": 3
   },
   "file_extension": ".py",
   "mimetype": "text/x-python",
   "name": "python",
   "nbconvert_exporter": "python",
   "pygments_lexer": "ipython3",
   "version": "3.5.2"
  },
  "latex_envs": {
   "bibliofile": "biblio.bib",
   "cite_by": "apalike",
   "current_citInitial": 1,
   "eqLabelWithNumbers": true,
   "eqNumInitial": 0
  },
  "toc": {
   "sideBar": false,
   "toc_cell": true,
   "toc_number_sections": true,
   "toc_section_display": "block",
   "toc_threshold": 4,
   "toc_window_display": true
  },
  "toc_position": {
   "height": "511px",
   "left": "0px",
   "right": "1055px",
   "top": "107px",
   "width": "212px"
  }
 },
 "nbformat": 4,
 "nbformat_minor": 0
}
