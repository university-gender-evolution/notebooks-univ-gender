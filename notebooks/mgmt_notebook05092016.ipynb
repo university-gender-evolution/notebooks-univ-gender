{
 "cells": [
  {
   "cell_type": "markdown",
   "metadata": {
    "toc": "true"
   },
   "source": [
    "# Table of Contents\n",
    " <p><div class=\"lev1\"><a href=\"#Description-of-Study\"><span class=\"toc-item-num\">1 - </span>Description of Study</a></div><div class=\"lev1\"><a href=\"#Data\"><span class=\"toc-item-num\">2 - </span>Data</a></div><div class=\"lev1\"><a href=\"#Model-Specifications\"><span class=\"toc-item-num\">3 - </span>Model Specifications</a></div><div class=\"lev2\"><a href=\"#Model-1:--Hire-Promote\"><span class=\"toc-item-num\">3.1 - </span>Model 1:  Hire-Promote</a></div><div class=\"lev2\"><a href=\"#3.2.--Model-2:--Promote-Hire\"><span class=\"toc-item-num\">3.2 - </span>3.2.  Model 2:  Promote-Hire</a></div><div class=\"lev1\"><a href=\"#Baseline-Results\"><span class=\"toc-item-num\">4 - </span>Baseline Results</a></div><div class=\"lev2\"><a href=\"#Change-in-Proportion-of-Women-Overall\"><span class=\"toc-item-num\">4.1 - </span>Change in Proportion of Women Overall</a></div><div class=\"lev3\"><a href=\"#Model-1:--Hire-Promote\"><span class=\"toc-item-num\">4.1.1 - </span>Model 1:  Hire-Promote</a></div><div class=\"lev3\"><a href=\"#Model-2:--Promote-Hire\"><span class=\"toc-item-num\">4.1.2 - </span>Model 2:  Promote-Hire</a></div><div class=\"lev3\"><a href=\"#Comparison-of-Models-1-and-2\"><span class=\"toc-item-num\">4.1.3 - </span>Comparison of Models 1 and 2</a></div><div class=\"lev3\"><a href=\"#Notes-on-Models-1-and-2-Overall\"><span class=\"toc-item-num\">4.1.4 - </span>Notes on Models 1 and 2 Overall</a></div><div class=\"lev2\"><a href=\"#Change-in-Proportion-of-Women-by-Level\"><span class=\"toc-item-num\">4.2 - </span>Change in <em>Proportion</em> of Women by Level</a></div><div class=\"lev3\"><a href=\"#Model-1:--Hire-Promote-by-Level\"><span class=\"toc-item-num\">4.2.1 - </span>Model 1:  Hire-Promote by Level</a></div><div class=\"lev3\"><a href=\"#Model-2:--Promote-Hire-by-Level\"><span class=\"toc-item-num\">4.2.2 - </span>Model 2:  Promote-Hire by Level</a></div><div class=\"lev3\"><a href=\"#Probability-of-Achieving-Goal\"><span class=\"toc-item-num\">4.2.3 - </span>Probability of Achieving Goal</a></div><div class=\"lev3\"><a href=\"#Notes-on-Models-1-and-2-by-Level\"><span class=\"toc-item-num\">4.2.4 - </span>Notes on Models 1 and 2 by Level</a></div><div class=\"lev2\"><a href=\"#Change-in-Number-of-Women-by-Level\"><span class=\"toc-item-num\">4.3 - </span>Change in Number of Women by Level</a></div><div class=\"lev3\"><a href=\"#Model-1:--Hire-Promote-by-Level\"><span class=\"toc-item-num\">4.3.1 - </span>Model 1:  Hire-Promote by Level</a></div><div class=\"lev3\"><a href=\"#Model-2:--Promote-Hire-by-Level\"><span class=\"toc-item-num\">4.3.2 - </span>Model 2:  Promote-Hire by Level</a></div><div class=\"lev3\"><a href=\"#Probability-of-Achieving-Goal\"><span class=\"toc-item-num\">4.3.3 - </span>Probability of Achieving Goal</a></div><div class=\"lev3\"><a href=\"#Notes-on-Models-1-and-2-by-Level\"><span class=\"toc-item-num\">4.3.4 - </span>Notes on Models 1 and 2 by Level</a></div><div class=\"lev1\"><a href=\"#Scenario-Analyses-(Attrition,-Hiring-and-Promotion)\"><span class=\"toc-item-num\">5 - </span>Scenario Analyses (Attrition, Hiring and Promotion)</a></div><div class=\"lev2\"><a href=\"#Optimistic-Scenario--(select-either-Model-1-or-Model-2)\"><span class=\"toc-item-num\">5.1 - </span>Optimistic Scenario  (select either Model 1 or Model 2)</a></div><div class=\"lev3\"><a href=\"#The-Effect-of-Optimistic-Assumptions-on-Proportion-of-Women-Overall\"><span class=\"toc-item-num\">5.1.1 - </span>The Effect of Optimistic Assumptions on Proportion of Women Overall</a></div><div class=\"lev3\"><a href=\"#The-Effect-of-Optimistic-Assumptions-on-Proportion-of-Women-By-Level\"><span class=\"toc-item-num\">5.1.2 - </span>The Effect of Optimistic Assumptions on Proportion of Women By Level</a></div><div class=\"lev3\"><a href=\"#The-Effect-of-Optimistic-Assumptions-on-the-Change-in-Number-of-Women-by-Level\"><span class=\"toc-item-num\">5.1.3 - </span>The Effect of Optimistic Assumptions on the Change in Number of Women by Level</a></div><div class=\"lev3\"><a href=\"#Notes-on-Optimistic-Scenario\"><span class=\"toc-item-num\">5.1.4 - </span>Notes on Optimistic Scenario</a></div><div class=\"lev2\"><a href=\"#Very-Optimistic-Scenario\"><span class=\"toc-item-num\">5.2 - </span>Very Optimistic Scenario</a></div><div class=\"lev3\"><a href=\"#The-Effect-of-Very-Optimistic-Assumptions-on-Proportion-of-Women-Overall\"><span class=\"toc-item-num\">5.2.1 - </span>The Effect of Very Optimistic Assumptions on Proportion of Women Overall</a></div><div class=\"lev3\"><a href=\"#The-Effect-of-Very-Optimistic-Assumptions-on-Proportion-of-Women-By-Level\"><span class=\"toc-item-num\">5.2.2 - </span>The Effect of Very Optimistic Assumptions on Proportion of Women By Level</a></div><div class=\"lev3\"><a href=\"#The-Effect-of-Very-Optimistic-Assumptions-on-the-Change-in-Number-of-Women-by-Level\"><span class=\"toc-item-num\">5.2.3 - </span>The Effect of Very Optimistic Assumptions on the Change in Number of Women by Level</a></div><div class=\"lev3\"><a href=\"#Notes-on-Very-Optimistic-Scenario\"><span class=\"toc-item-num\">5.2.4 - </span>Notes on Very Optimistic Scenario</a></div><div class=\"lev2\"><a href=\"#Pessimistic-Scenario\"><span class=\"toc-item-num\">5.3 - </span>Pessimistic Scenario</a></div><div class=\"lev3\"><a href=\"#The-Effect-of-Pessimistic-Assumptions-On-Proportion-of-Women-Overall\"><span class=\"toc-item-num\">5.3.1 - </span>The Effect of Pessimistic Assumptions On Proportion of Women Overall</a></div><div class=\"lev3\"><a href=\"#The-Effect-of-Pessimistic-Assumptions-on-Proportion-of-Women-by-Level\"><span class=\"toc-item-num\">5.3.2 - </span>The Effect of Pessimistic Assumptions on Proportion of Women by Level</a></div><div class=\"lev3\"><a href=\"#The-Effect-of-Pessimistic-Assumptions-on-the-Change-in-Number-of-Women-by-Level\"><span class=\"toc-item-num\">5.3.3 - </span>The Effect of Pessimistic Assumptions on the Change in Number of Women by Level</a></div><div class=\"lev3\"><a href=\"#Notes-on-Pessimistic-Scenario\"><span class=\"toc-item-num\">5.3.4 - </span>Notes on Pessimistic Scenario</a></div><div class=\"lev2\"><a href=\"#Scenario-Comparison-Models\"><span class=\"toc-item-num\">5.4 - </span>Scenario Comparison Models</a></div><div class=\"lev3\"><a href=\"#Compare-Three-Scenarios-Overall\"><span class=\"toc-item-num\">5.4.1 - </span>Compare Three Scenarios Overall</a></div><div class=\"lev3\"><a href=\"#Compare-Three-Scenarios-by-Level\"><span class=\"toc-item-num\">5.4.2 - </span>Compare Three Scenarios by Level</a></div><div class=\"lev3\"><a href=\"#Notes-on-Comparison-of-Scenarios\"><span class=\"toc-item-num\">5.4.3 - </span>Notes on Comparison of Scenarios</a></div><div class=\"lev1\"><a href=\"#Ancillary-Analyses--(select-either-Model-1-or-Model-2)\"><span class=\"toc-item-num\">6 - </span>Ancillary Analyses  (select either Model 1 or Model 2)</a></div><div class=\"lev2\"><a href=\"#Attrition-Rate-Sweep\"><span class=\"toc-item-num\">6.1 - </span>Attrition Rate Sweep</a></div><div class=\"lev2\"><a href=\"#Hiring-Rate-Sweep\"><span class=\"toc-item-num\">6.2 - </span>Hiring Rate Sweep</a></div><div class=\"lev2\"><a href=\"#Promotion-Rate-Sweep\"><span class=\"toc-item-num\">6.3 - </span>Promotion Rate Sweep</a></div><div class=\"lev2\"><a href=\"#Notes-on-Sweeps\"><span class=\"toc-item-num\">6.4 - </span>Notes on Sweeps</a></div><div class=\"lev1\"><a href=\"#Setting-Parameters\"><span class=\"toc-item-num\">7 - </span>Setting Parameters</a></div><div class=\"lev1\"><a href=\"#APPENDIX-A:-REPLICATION-AND-EXTENSION-MODELS\"><span class=\"toc-item-num\">8 - </span>APPENDIX A: REPLICATION AND EXTENSION MODELS</a></div><div class=\"lev2\"><a href=\"#Replication-of-Mathematical-Model.\"><span class=\"toc-item-num\">8.1 - </span>Replication of Mathematical Model.</a></div><div class=\"lev2\"><a href=\"#First-Step-Towards-Stochastic-Model.\"><span class=\"toc-item-num\">8.2 - </span>First Step Towards Stochastic Model.</a></div><div class=\"lev1\"><a href=\"#APPENDIX-B:-DECISION-RULES\"><span class=\"toc-item-num\">9 - </span>APPENDIX B: DECISION RULES</a></div><div class=\"lev2\"><a href=\"#Fractional-faculty-vacancies-filled-with-integer-level-faculty-(department-size-varies-within-a-range).\"><span class=\"toc-item-num\">9.1 - </span>Fractional faculty vacancies filled with integer-level faculty (department size varies within a range).</a></div><div class=\"lev2\"><a href=\"#Fractional-faculty-vacancies-filled-with-fractional-faculty-(department-size-remains-stable).\"><span class=\"toc-item-num\">9.2 - </span>Fractional faculty vacancies filled with fractional faculty (department size remains stable).</a></div><div class=\"lev2\"><a href=\"#Fractional-faculty-vacancies-filled-with-integer-level-faculty-(department-size-shrinks).\"><span class=\"toc-item-num\">9.3 - </span>Fractional faculty vacancies filled with integer-level faculty (department size shrinks).</a></div><div class=\"lev1\"><a href=\"#Initialization-Cells\"><span class=\"toc-item-num\">10 - </span>Initialization Cells</a></div>"
   ]
  },
  {
   "cell_type": "markdown",
   "metadata": {},
   "source": [
    "# Description of Study\n",
    "\n",
    "This chapter uses historical data on attrition, hiring and promotion.  It includes four stochastic simulations:  two Hire-Promote models, in which hiring is done before promotions, and two Promote-Hire models, in which promotions are done before hiring.  Appendix A includes two replication models.  The first replicates the original mathematical model and the second presents a first step towards the stochastic simulations.\n",
    "\n",
    "**Excel Table Goes Here**"
   ]
  },
  {
   "cell_type": "markdown",
   "metadata": {},
   "source": [
    "# Data\n",
    "\n",
    "The data for these analyses come from the faculty personnel office of a university in the Western United States.  Eight years of faculty data were obtained, 2004-05 through 2012-13.  The data follow the attrition, hiring and promotion of each full-time ladder faculty member.  Attrition includes all faculty who leave for any reason.  Hiring includes faculty hired externally for assistant, associate and full professor positions.  Promotions include faculty who move from Assistant to Associate Professor or from Associate to Full professor. \n",
    "\n",
    "Attrition, hiring and promotion rates are averages of the yearly changes in the proportion of women and men by level.  For each year, this represents one transition, the instantaneous time between the end of one year and the beginning of the next.  If there are four years of data, for instance, there are three transitions: one between years 1 and 2, one between years 2 and 3 and one between years 3 and 4.  The average of these three transitions is the rate.  Thus, if 10 of 50 male Full Professors leave after year one (.20), 8 of 40 male Full Professors leave after year two (.16) and no male Full Professors leave at the end of year three (.00), the average attrition rate for male Full Professors is: (0.20+0.16+0.00)/3 = 0.12. The actual rates reported below represent the average change in transition rates by gender by level calculated at the end of each year.  CHECK RE: RATES & TRANSITIONS.\n",
    "\n",
    "Table 1 shows historical attrition, hiring and promotion rates calculated from the seven transitions across eight years of faculty data.  For reference, this table is repeated at the beginning of each analysis segment.\n",
    "\n",
    "\n",
    "                          ASSISTANT PROF         ASSOCIATE PROF          FULL PROF \n",
    "| BASELINE RATES      | women   |  men        | women   |  men        | women  |  men  \n",
    "| --------------      | -----   | ------      | -----   |------       | ------ |------- \n",
    "| attrition           | 0.0556  | 0.0687      | 0.0000  | 0.0574      | 0.0741 | 0.0399\n",
    "| hiring              | 0.1724  | 0.8276      | 0.0400  | 0.0600      | 0.1667 | 0.8333  \n",
    "| promotion           | 0.0555  | 0.0611      | 0.1905  | 0.1149      | NA     | NA\n",
    "\n"
   ]
  },
  {
   "cell_type": "markdown",
   "metadata": {},
   "source": [
    "# Model Specifications\n",
    "\n",
    "The analysis includes two stochastic simulation models.  Both use the department's historical attrition, hiring and promotion rates.  The main difference is the order in which hiring decisions are made and promotions awarded.  In Model 1 hiring occurs before promotions, and in Model 2 promotions occur before hiring.  Otherwise, the models are the same:  \n",
    "\n",
    "- Each requires that the number of faculty is an integer rather than a fraction.   \n",
    "- Replacements occur at the end of each year and are applied to changes at the beginning of the following year.\n",
    "- Replacements in all models are selected using a cascade that begins with Full Professor and ends with Assistant Professor.  \n",
    "- Attrition always occurs first.  \n",
    "- Change for women occurs before change for men.  \n",
    "- Parameters can be modified (where?)"
   ]
  },
  {
   "cell_type": "markdown",
   "metadata": {},
   "source": [
    "## Model 1:  Hire-Promote\n",
    "\n",
    "In Model 1, faculty hires are made before promotions are awarded.  Department size varies within a user-selected range.  Demographic change occurs at the end of each timestep and in a cascade starting with Full Professors and ending with Assistant Professors.  Attrition is considered first, then hiring and then promotion.  At the end of each timestep, fractional faculty, the remaining vacancies after attrition, hiring and promotion rates are applied, are assigned using Decision Rule 1 (See Appendix B). \n",
    "\n",
    "1.\tFull Professor replacements (Level 3). Full Professors leave at the department's Full Professor attrition rate.  Next, Full Professors are hired using the Full Professor hiring rate.  Finally, Associate Professors are promoted using the Associate Professor promotion rate.  Remaining fractional vacancies in Model 1, in which department size stays within a range specified by the user, are filled using Decision Rule 1 (See Appendix B). \n",
    "\n",
    "2.\tAssociate Professor replacements (Level 2).  Associate professors leave at the department's associate professor attrition rate. Next, associate professors are hired using the associate professor hiring rate. Finally, assistant professors are promoted using the assistant professor promotion rate.  Remaining fractional vacancies are filled using Decision Rule 1 (See Appendix B).\n",
    "\n",
    "3.\tAssistant Professor replacements (Level l).  Assistant Professors leave at the department's assistant professor attrition rate. Next, assistant professors are hired using the assistant professor hiring rate. The only way to enter the assistant professor level is through hiring.  Remaining fractional vacancies are filled by hiring using Decision Rule 1 (See Appendix B)."
   ]
  },
  {
   "cell_type": "markdown",
   "metadata": {},
   "source": [
    "## 3.2.  Model 2:  Promote-Hire\n",
    "\n",
    "In Model 2, promotions are allocated before hires are selected.  Because some vacancies remain unfilled at each level and at the end of each year, department size varies within a range specified by the user (See Appendix B, Decision-Rule 1).  Demographic change occurs at the end of each timestep and in a cascade starting with Full Professors and ending with Assistant Professors. \n",
    "\n",
    "1.   Full Professor replacements (Level 3). Full Professors leave at the department's full professor attrition rate. Next, Associate Professors are promoted to Full Professor using the associate professor promotion rate.  Finally, Full Professors are hired using the Full Professor hiring rate.  Remaining fractional full professor vacancies are filled using Decision Rule 1 (See Appendix B).  \n",
    "\n",
    "2.  Associate Professor replacements (Level 2).  Associate professors leave at the department's associate professor attrition rate. Next, Assistant Professors are promoted using the Assistant Professor promotion rate. Finally, Associate Professors are hired using the associate professor hiring rate.  Remaining associate professor vacancies in Model 2 are filled using Decision Rule 1 (See Appendix B).\n",
    "\n",
    "3. Assistant Professor replacements (Level l). Assistant professors leave at the department's assistant level attrition rate. Next, assistant professors are hired using the assistant professor hiring rate as the only way to enter the assistant professor level is through hiring.  Remaining assistant professor vacancies in Model 2 are filled using Decision Rule 1 (See Appendix B)."
   ]
  },
  {
   "cell_type": "markdown",
   "metadata": {},
   "source": [
    "# Baseline Results\n",
    "\n",
    "This section shows baseline results for each simulation: the hire-promote and promote-hire models.  The results are “baselines” because they describe the likely future proportion of women if attrition, hiring and promotion rates do not change.  Each model shows projections for the: 1) proportion of women overall, 2) proportion of women by level ,3) number of women by level and 4) probability of achieving a user-specified goal for the proportion of women in N years.\n",
    "\n",
    "For reference, the table below shows historical hiring, promotion and attrition rates for women and men at each level.  \n",
    "\n",
    "                          ASSISTANT PROF         ASSOCIATE PROF          FULL PROF \n",
    "| BASELINE RATES      | women   |  men        | women   |  men        | women  |  men  \n",
    "| --------------      | -----   | ------      | -----   |------       | ------ |------- \n",
    "| attrition           | 0.0556  | 0.0687      | 0.0000  | 0.0574      | 0.0741 | 0.0399\n",
    "| hiring              | 0.1724  | 0.8276      | 0.0400  | 0.0600      | 0.1667 | 0.8333  \n",
    "| promotion           | 0.0555  | 0.0611      | 0.1905  | 0.1149      | NA     | NA\n"
   ]
  },
  {
   "cell_type": "markdown",
   "metadata": {},
   "source": [
    "## Change in Proportion of Women Overall \n",
    "Figure 1 shows the change in the proportion of women overall using Model 1, with hiring before promotion, and Model 2, with promotion before hiring.  Figure 2 shows the probability of achieving a user-selected goal for the proportion of women within N years.  \n",
    "\n"
   ]
  },
  {
   "cell_type": "markdown",
   "metadata": {},
   "source": [
    "### Model 1:  Hire-Promote\n",
    "\n",
    "- FIGURE 4.1.1a—Model 1: Hire-Promote Overall \n",
    "- FIGURE 4.1.1b—Probability That Model 1 Achieves Goal"
   ]
  },
  {
   "cell_type": "code",
   "execution_count": 8,
   "metadata": {
    "collapsed": false
   },
   "outputs": [
    {
     "name": "stdout",
     "output_type": "stream",
     "text": [
      "generating multiple runs data.\n"
     ]
    },
    {
     "data": {
      "image/png": "[encoded data removed]",
      "text/plain": [
       "<matplotlib.figure.Figure at 0x7f65ad06ce10>"
      ]
     },
     "metadata": {},
     "output_type": "display_data"
    }
   ],
   "source": [
    "t.plot_multiple_runs_gender_prop(20)"
   ]
  },
  {
   "cell_type": "code",
   "execution_count": 11,
   "metadata": {
    "collapsed": false
   },
   "outputs": [
    {
     "ename": "KeyboardInterrupt",
     "evalue": "",
     "output_type": "error",
     "traceback": [
      "\u001b[1;31m---------------------------------------------------------------------------\u001b[0m",
      "\u001b[1;31mAttributeError\u001b[0m                            Traceback (most recent call last)",
      "\u001b[1;32m/home/krishnab/anaconda3/envs/py35_gu/lib/python3.5/site-packages/numpy/core/fromnumeric.py\u001b[0m in \u001b[0;36mprod\u001b[1;34m(a, axis, dtype, out, keepdims)\u001b[0m\n\u001b[0;32m   2481\u001b[0m         \u001b[1;32mtry\u001b[0m\u001b[1;33m:\u001b[0m\u001b[1;33m\u001b[0m\u001b[0m\n\u001b[1;32m-> 2482\u001b[1;33m             \u001b[0mprod\u001b[0m \u001b[1;33m=\u001b[0m \u001b[0ma\u001b[0m\u001b[1;33m.\u001b[0m\u001b[0mprod\u001b[0m\u001b[1;33m\u001b[0m\u001b[0m\n\u001b[0m\u001b[0;32m   2483\u001b[0m         \u001b[1;32mexcept\u001b[0m \u001b[0mAttributeError\u001b[0m\u001b[1;33m:\u001b[0m\u001b[1;33m\u001b[0m\u001b[0m\n",
      "\u001b[1;31mAttributeError\u001b[0m: 'int' object has no attribute 'prod'",
      "\nDuring handling of the above exception, another exception occurred:\n",
      "\u001b[1;31mKeyboardInterrupt\u001b[0m                         Traceback (most recent call last)",
      "\u001b[1;32m<ipython-input-11-054fde5f76d9>\u001b[0m in \u001b[0;36m<module>\u001b[1;34m()\u001b[0m\n\u001b[1;32m----> 1\u001b[1;33m \u001b[0mt\u001b[0m\u001b[1;33m.\u001b[0m\u001b[0mplot_empirical_probability_gender_proportion\u001b[0m\u001b[1;33m(\u001b[0m\u001b[1;36m20\u001b[0m\u001b[1;33m,\u001b[0m \u001b[1;36m0.20\u001b[0m\u001b[1;33m)\u001b[0m\u001b[1;33m\u001b[0m\u001b[0m\n\u001b[0m",
      "\u001b[1;32m/home/krishnab/anaconda3/envs/py35_gu/lib/python3.5/site-packages/pyugend/Models.py\u001b[0m in \u001b[0;36mplot_empirical_probability_gender_proportion\u001b[1;34m(self, num_runs, target)\u001b[0m\n\u001b[0;32m    640\u001b[0m     \u001b[1;32mdef\u001b[0m \u001b[0mplot_empirical_probability_gender_proportion\u001b[0m\u001b[1;33m(\u001b[0m\u001b[0mself\u001b[0m\u001b[1;33m,\u001b[0m \u001b[0mnum_runs\u001b[0m\u001b[1;33m,\u001b[0m \u001b[0mtarget\u001b[0m\u001b[1;33m)\u001b[0m\u001b[1;33m:\u001b[0m\u001b[1;33m\u001b[0m\u001b[0m\n\u001b[0;32m    641\u001b[0m \u001b[1;33m\u001b[0m\u001b[0m\n\u001b[1;32m--> 642\u001b[1;33m         \u001b[0mself\u001b[0m\u001b[1;33m.\u001b[0m\u001b[0mrun_probability_analysis_gender_proportion\u001b[0m\u001b[1;33m(\u001b[0m\u001b[0mnum_runs\u001b[0m\u001b[1;33m,\u001b[0m \u001b[0mtarget\u001b[0m\u001b[1;33m)\u001b[0m\u001b[1;33m\u001b[0m\u001b[0m\n\u001b[0m\u001b[0;32m    643\u001b[0m \u001b[1;33m\u001b[0m\u001b[0m\n\u001b[0;32m    644\u001b[0m         plt.plot(self.probability_matrix['Year'],\n",
      "\u001b[1;32m/home/krishnab/anaconda3/envs/py35_gu/lib/python3.5/site-packages/pyugend/Models.py\u001b[0m in \u001b[0;36mrun_probability_analysis_gender_proportion\u001b[1;34m(self, num_runs, target)\u001b[0m\n\u001b[0;32m    371\u001b[0m         \u001b[1;31m## First run the model multiple times to generate the mean and standard deviation matrices. This will also create the res_array attribute for the stored simulation data.\u001b[0m\u001b[1;33m\u001b[0m\u001b[1;33m\u001b[0m\u001b[0m\n\u001b[0;32m    372\u001b[0m \u001b[1;33m\u001b[0m\u001b[0m\n\u001b[1;32m--> 373\u001b[1;33m         \u001b[0mself\u001b[0m\u001b[1;33m.\u001b[0m\u001b[0mrun_multiple\u001b[0m\u001b[1;33m(\u001b[0m\u001b[0mnum_runs\u001b[0m\u001b[1;33m)\u001b[0m\u001b[1;33m\u001b[0m\u001b[0m\n\u001b[0m\u001b[0;32m    374\u001b[0m \u001b[1;33m\u001b[0m\u001b[0m\n\u001b[0;32m    375\u001b[0m         \u001b[1;31m## Then I have to create an array to hold the probability for the target value given the array at that time. So I would take in the target value and a vector of current values.\u001b[0m\u001b[1;33m\u001b[0m\u001b[1;33m\u001b[0m\u001b[0m\n",
      "\u001b[1;32m/home/krishnab/anaconda3/envs/py35_gu/lib/python3.5/site-packages/pyugend/Models.py\u001b[0m in \u001b[0;36mrun_multiple\u001b[1;34m(self, number_of_runs)\u001b[0m\n\u001b[0;32m    131\u001b[0m         \u001b[1;31m# object\u001b[0m\u001b[1;33m\u001b[0m\u001b[1;33m\u001b[0m\u001b[0m\n\u001b[0;32m    132\u001b[0m         \u001b[1;32mfor\u001b[0m \u001b[0midx\u001b[0m \u001b[1;32min\u001b[0m \u001b[0mrange\u001b[0m\u001b[1;33m(\u001b[0m\u001b[0mnumber_of_runs\u001b[0m\u001b[1;33m)\u001b[0m\u001b[1;33m:\u001b[0m\u001b[1;33m\u001b[0m\u001b[0m\n\u001b[1;32m--> 133\u001b[1;33m             \u001b[0mres_array\u001b[0m\u001b[1;33m[\u001b[0m\u001b[1;34m'run'\u001b[0m\u001b[1;33m]\u001b[0m\u001b[1;33m[\u001b[0m\u001b[0midx\u001b[0m\u001b[1;33m]\u001b[0m \u001b[1;33m=\u001b[0m \u001b[0mself\u001b[0m\u001b[1;33m.\u001b[0m\u001b[0mrun_model\u001b[0m\u001b[1;33m(\u001b[0m\u001b[1;33m)\u001b[0m\u001b[1;33m\u001b[0m\u001b[0m\n\u001b[0m\u001b[0;32m    134\u001b[0m \u001b[1;33m\u001b[0m\u001b[0m\n\u001b[0;32m    135\u001b[0m         \u001b[1;31m##Create empty arrays to hold the results\u001b[0m\u001b[1;33m\u001b[0m\u001b[1;33m\u001b[0m\u001b[0m\n",
      "\u001b[1;32m/home/krishnab/anaconda3/envs/py35_gu/lib/python3.5/site-packages/pyugend/Mod_Stoch_FBHP_alt.py\u001b[0m in \u001b[0;36mrun_model\u001b[1;34m(self)\u001b[0m\n\u001b[0;32m    311\u001b[0m             \u001b[1;32mwhile\u001b[0m \u001b[0mflag\u001b[0m \u001b[1;33m==\u001b[0m \u001b[1;32mFalse\u001b[0m\u001b[1;33m:\u001b[0m\u001b[1;33m\u001b[0m\u001b[0m\n\u001b[0;32m    312\u001b[0m \u001b[1;33m\u001b[0m\u001b[0m\n\u001b[1;32m--> 313\u001b[1;33m                 \u001b[0mchanges\u001b[0m \u001b[1;33m=\u001b[0m \u001b[0mnp\u001b[0m\u001b[1;33m.\u001b[0m\u001b[0mrandom\u001b[0m\u001b[1;33m.\u001b[0m\u001b[0mchoice\u001b[0m\u001b[1;33m(\u001b[0m\u001b[1;33m[\u001b[0m\u001b[1;33m-\u001b[0m\u001b[1;36m1\u001b[0m\u001b[1;33m,\u001b[0m \u001b[1;36m0\u001b[0m\u001b[1;33m,\u001b[0m \u001b[1;36m1\u001b[0m\u001b[1;33m]\u001b[0m\u001b[1;33m,\u001b[0m \u001b[0mvariation_range\u001b[0m\u001b[1;33m)\u001b[0m\u001b[1;33m\u001b[0m\u001b[0m\n\u001b[0m\u001b[0;32m    314\u001b[0m \u001b[1;33m\u001b[0m\u001b[0m\n\u001b[0;32m    315\u001b[0m                 \u001b[0mlevels\u001b[0m \u001b[1;33m=\u001b[0m \u001b[0mnp\u001b[0m\u001b[1;33m.\u001b[0m\u001b[0mrandom\u001b[0m\u001b[1;33m.\u001b[0m\u001b[0mchoice\u001b[0m\u001b[1;33m(\u001b[0m\u001b[1;33m[\u001b[0m\u001b[1;36m1\u001b[0m\u001b[1;33m,\u001b[0m \u001b[1;36m2\u001b[0m\u001b[1;33m,\u001b[0m \u001b[1;36m3\u001b[0m\u001b[1;33m]\u001b[0m\u001b[1;33m,\u001b[0m \u001b[0mvariation_range\u001b[0m\u001b[1;33m)\u001b[0m  \u001b[1;31m#\u001b[0m\u001b[1;33m\u001b[0m\u001b[0m\n",
      "\u001b[1;32mmtrand.pyx\u001b[0m in \u001b[0;36mmtrand.RandomState.choice (numpy/random/mtrand/mtrand.c:12255)\u001b[1;34m()\u001b[0m\n",
      "\u001b[1;32m/home/krishnab/anaconda3/envs/py35_gu/lib/python3.5/site-packages/numpy/core/fromnumeric.py\u001b[0m in \u001b[0;36mprod\u001b[1;34m(a, axis, dtype, out, keepdims)\u001b[0m\n\u001b[0;32m   2483\u001b[0m         \u001b[1;32mexcept\u001b[0m \u001b[0mAttributeError\u001b[0m\u001b[1;33m:\u001b[0m\u001b[1;33m\u001b[0m\u001b[0m\n\u001b[0;32m   2484\u001b[0m             return _methods._prod(a, axis=axis, dtype=dtype,\n\u001b[1;32m-> 2485\u001b[1;33m                                   out=out, keepdims=keepdims)\n\u001b[0m\u001b[0;32m   2486\u001b[0m         \u001b[1;32mreturn\u001b[0m \u001b[0mprod\u001b[0m\u001b[1;33m(\u001b[0m\u001b[0maxis\u001b[0m\u001b[1;33m=\u001b[0m\u001b[0maxis\u001b[0m\u001b[1;33m,\u001b[0m \u001b[0mdtype\u001b[0m\u001b[1;33m=\u001b[0m\u001b[0mdtype\u001b[0m\u001b[1;33m,\u001b[0m \u001b[0mout\u001b[0m\u001b[1;33m=\u001b[0m\u001b[0mout\u001b[0m\u001b[1;33m)\u001b[0m\u001b[1;33m\u001b[0m\u001b[0m\n\u001b[0;32m   2487\u001b[0m     \u001b[1;32melse\u001b[0m\u001b[1;33m:\u001b[0m\u001b[1;33m\u001b[0m\u001b[0m\n",
      "\u001b[1;32m/home/krishnab/anaconda3/envs/py35_gu/lib/python3.5/site-packages/numpy/core/_methods.py\u001b[0m in \u001b[0;36m_prod\u001b[1;34m(a, axis, dtype, out, keepdims)\u001b[0m\n\u001b[0;32m     33\u001b[0m \u001b[1;33m\u001b[0m\u001b[0m\n\u001b[0;32m     34\u001b[0m \u001b[1;32mdef\u001b[0m \u001b[0m_prod\u001b[0m\u001b[1;33m(\u001b[0m\u001b[0ma\u001b[0m\u001b[1;33m,\u001b[0m \u001b[0maxis\u001b[0m\u001b[1;33m=\u001b[0m\u001b[1;32mNone\u001b[0m\u001b[1;33m,\u001b[0m \u001b[0mdtype\u001b[0m\u001b[1;33m=\u001b[0m\u001b[1;32mNone\u001b[0m\u001b[1;33m,\u001b[0m \u001b[0mout\u001b[0m\u001b[1;33m=\u001b[0m\u001b[1;32mNone\u001b[0m\u001b[1;33m,\u001b[0m \u001b[0mkeepdims\u001b[0m\u001b[1;33m=\u001b[0m\u001b[1;32mFalse\u001b[0m\u001b[1;33m)\u001b[0m\u001b[1;33m:\u001b[0m\u001b[1;33m\u001b[0m\u001b[0m\n\u001b[1;32m---> 35\u001b[1;33m     \u001b[1;32mreturn\u001b[0m \u001b[0mumr_prod\u001b[0m\u001b[1;33m(\u001b[0m\u001b[0ma\u001b[0m\u001b[1;33m,\u001b[0m \u001b[0maxis\u001b[0m\u001b[1;33m,\u001b[0m \u001b[0mdtype\u001b[0m\u001b[1;33m,\u001b[0m \u001b[0mout\u001b[0m\u001b[1;33m,\u001b[0m \u001b[0mkeepdims\u001b[0m\u001b[1;33m)\u001b[0m\u001b[1;33m\u001b[0m\u001b[0m\n\u001b[0m\u001b[0;32m     36\u001b[0m \u001b[1;33m\u001b[0m\u001b[0m\n\u001b[0;32m     37\u001b[0m \u001b[1;32mdef\u001b[0m \u001b[0m_any\u001b[0m\u001b[1;33m(\u001b[0m\u001b[0ma\u001b[0m\u001b[1;33m,\u001b[0m \u001b[0maxis\u001b[0m\u001b[1;33m=\u001b[0m\u001b[1;32mNone\u001b[0m\u001b[1;33m,\u001b[0m \u001b[0mdtype\u001b[0m\u001b[1;33m=\u001b[0m\u001b[1;32mNone\u001b[0m\u001b[1;33m,\u001b[0m \u001b[0mout\u001b[0m\u001b[1;33m=\u001b[0m\u001b[1;32mNone\u001b[0m\u001b[1;33m,\u001b[0m \u001b[0mkeepdims\u001b[0m\u001b[1;33m=\u001b[0m\u001b[1;32mFalse\u001b[0m\u001b[1;33m)\u001b[0m\u001b[1;33m:\u001b[0m\u001b[1;33m\u001b[0m\u001b[0m\n",
      "\u001b[1;31mKeyboardInterrupt\u001b[0m: "
     ]
    }
   ],
   "source": [
    "t.plot_empirical_probability_gender_proportion(20, 0.20)"
   ]
  },
  {
   "cell_type": "markdown",
   "metadata": {},
   "source": [
    "### Model 2:  Promote-Hire\n",
    "\n",
    "- FIGURE 4.1.2a—Model 2: Hire-Promote Overall \n",
    "- FIGURE 4.1.2b—Probability That Model 2 Achieves Goal "
   ]
  },
  {
   "cell_type": "code",
   "execution_count": null,
   "metadata": {
    "collapsed": true
   },
   "outputs": [],
   "source": [
    "s.plot_multiple_runs_gender_prop(20)"
   ]
  },
  {
   "cell_type": "code",
   "execution_count": null,
   "metadata": {
    "collapsed": true
   },
   "outputs": [],
   "source": [
    "s.plot_empirical_probability_gender_proportion(20, 0.20)"
   ]
  },
  {
   "cell_type": "markdown",
   "metadata": {},
   "source": [
    "### Comparison of Models 1 and 2\n",
    "\n",
    "- FIGURE 4.1.3a—Comparison of Models 1 And 2 Overall\n",
    "- FIGURE 4.1.3b—Comparison of Probability That Models 1 And 2 Achieve Goal"
   ]
  },
  {
   "cell_type": "code",
   "execution_count": null,
   "metadata": {
    "collapsed": true
   },
   "outputs": [],
   "source": []
  },
  {
   "cell_type": "markdown",
   "metadata": {},
   "source": [
    "### Notes on Models 1 and 2 Overall \n",
    "\n",
    "The promote-hire models outperform the hire-promote models because the probability of adding a female full is higher for promoting an associate (0.1905) than from hiring a full (0.0250).  Similarly, the probability of adding a female associate is higher for promoting an assistant (0.0555) than for hiring an associate (.0400). All assistants are hired so there is no differential promotion effect.  This would be possible if a fourth level were added to include the availability of doctoral students.  These data are unavailable.\n",
    "\n",
    "The hire-promote model seems to work well for men, especially at level 2. The chances of a man being hired are always better for hiring versus promotion--as per the tables above. Hence the hire first model allows more men to be hired, especially at level 2. Women have a better chance of being promoted to level 3 from level 2, so this allows some accumulation of men at level 2. Once the number of women at level 2 falls to zero, the accumulation of men flattens as only men can now be promoted from level 2 to 3. "
   ]
  },
  {
   "cell_type": "markdown",
   "metadata": {},
   "source": [
    "## Change in *Proportion* of Women by Level"
   ]
  },
  {
   "cell_type": "markdown",
   "metadata": {},
   "source": [
    "### Model 1:  Hire-Promote by Level\n",
    "\n",
    "- FIGURE 4.2.1a—Model 1: Hire-Promote by Level\n",
    "- FIGURE 4.2.1b—Probability that Model 1 Achieves Goal by Level"
   ]
  },
  {
   "cell_type": "markdown",
   "metadata": {},
   "source": [
    "### Model 2:  Promote-Hire by Level\n",
    "- FIGURE 4.2.2a—Model 1: Hire-Promote by Level\n",
    "- FIGURE 4.2.2b—Probability that Model 1 Achieves Goal by Level"
   ]
  },
  {
   "cell_type": "markdown",
   "metadata": {},
   "source": [
    "### Probability of Achieving Goal\n",
    "- FIGURE 4.2.3a—Comparison of Models 1 and 2 by Level ----\n",
    "- FIGURE 4.2.3b—Comparison of Probability that Models 1 and 2 Achieve Goal by Level ----"
   ]
  },
  {
   "cell_type": "markdown",
   "metadata": {},
   "source": [
    "### Notes on Models 1 and 2 by Level\n",
    "The promote-hire models outperform the hire-promote models because the probability of adding a female full is higher for promoting an associate (0.1905) than from hiring a full (0.0250).  Similarly, the probability of adding a female associate is higher for promoting an assistant (0.0555) than for hiring an associate (.0400). All assistants are hired so there is no differential promotion effect.  This would be possible if a fourth level were added to include the availability of doctoral students.  These data are unavailable."
   ]
  },
  {
   "cell_type": "markdown",
   "metadata": {},
   "source": [
    "## Change in Number of Women by Level\n",
    "\n",
    "Figure X shows the change in the number of women over time using the two hire-promote and two promote-hire models.  Figure X shows the probability of achieving a designated goal within N years. "
   ]
  },
  {
   "cell_type": "markdown",
   "metadata": {},
   "source": [
    "### Model 1:  Hire-Promote by Level\n",
    "- FIGURE 4.3.1a—Model 1: Hire-Promote by Level\n",
    "- FIGURE 4.3.1b—Probability that Model 1 Achieves Goal by Level"
   ]
  },
  {
   "cell_type": "markdown",
   "metadata": {},
   "source": [
    "### Model 2:  Promote-Hire by Level\n",
    "- FIGURE 4.3.2a—Model 1: Hire-Promote by Level\n",
    "- FIGURE 4.3.2b—Probability that Model 1 Achieves Goal by Level"
   ]
  },
  {
   "cell_type": "markdown",
   "metadata": {},
   "source": [
    "### Probability of Achieving Goal\n",
    "- FIGURE 4.3.3a—Comparison of Models 1 and 2 by Level\n",
    "- FIGURE 4.3.3b—Comparison of Probability that Models 1 and 2 Achieve Goal by Level"
   ]
  },
  {
   "cell_type": "markdown",
   "metadata": {},
   "source": [
    "### Notes on Models 1 and 2 by Level ###\n",
    "The promote-hire models outperform the hire-promote models because the probability of adding a female full is higher for promoting an associate (0.1905) than from hiring a full (0.0250).  Similarly, the probability of adding a female associate is higher for promoting an assistant (0.0555) than for hiring an associate (.0400). All assistants are hired so there is no differential promotion effect.  This would be possible if a fourth level were added to include the availability of doctoral students.  These data are unavailable."
   ]
  },
  {
   "cell_type": "markdown",
   "metadata": {},
   "source": [
    "# Scenario Analyses (Attrition, Hiring and Promotion)\n",
    "\n",
    "The following models examine the effects of optimistic, very optimistic and pessimistic changes in all three rates on the proportion of women overall and across the three levels.\n",
    "\n",
    "For reference, the tables below show actual hiring, promotion and attrition rates for women and men at each level.  \n",
    "\n",
    "                          ASSISTANT PROF         ASSOCIATE PROF          FULL PROF \n",
    "| BASELINE RATES      | women   |  men        | women   |  men        | women  |  men  \n",
    "| --------------      | -----   | ------      | -----   |------       | ------ |------- \n",
    "| attrition           | 0.0556  | 0.0687      | 0.0000  | 0.0574      | 0.0741 | 0.0399\n",
    "| hiring              | 0.1724  | 0.8276      | 0.0400  | 0.0600      | 0.1667 | 0.8333  \n",
    "| promotion           | 0.0555  | 0.0611      | 0.1905  | 0.1149      | NA     | NA "
   ]
  },
  {
   "cell_type": "markdown",
   "metadata": {},
   "source": [
    "## Optimistic Scenario  (select either Model 1 or Model 2)\n",
    "The following models examine the effects of optimistic assumptions about change."
   ]
  },
  {
   "cell_type": "markdown",
   "metadata": {},
   "source": [
    "### The Effect of Optimistic Assumptions on Proportion of Women Overall\n",
    "- FIGURE 5.1.1a – Optimistic Scenario:  Change in Proportion Overall\n",
    "- FIGURE 5.1.1b – Probability that Optimistic Scenario Achieves Goal Overall\n",
    "\n"
   ]
  },
  {
   "cell_type": "markdown",
   "metadata": {},
   "source": [
    "### The Effect of Optimistic Assumptions on Proportion of Women By Level \n",
    "- FIGURE 5.1.2a – Optimistic Scenario:  Change in Proportion by Level \n",
    "- FIGURE 5.1.2b – Probability that Optimistic Scenario Achieves Goal by Level "
   ]
  },
  {
   "cell_type": "markdown",
   "metadata": {},
   "source": [
    "### The Effect of Optimistic Assumptions on the Change in Number of Women by Level\n",
    "- FIGURE 5.1.3a – Optimistic Scenario:  Change in Number by Level ----\n",
    "- FIGURE 5.1.3b – Probability that Optimistic Scenario Achieves Goal by Level"
   ]
  },
  {
   "cell_type": "markdown",
   "metadata": {},
   "source": [
    "### Notes on Optimistic Scenario"
   ]
  },
  {
   "cell_type": "markdown",
   "metadata": {},
   "source": [
    "## Very Optimistic Scenario\n",
    "The following models examine the effects of very optimistic assumptions about change. The following models examine the effects of optimistic, very optimistic and pessimistic changes in all three rates on the proportion of women overall and across the three levels.\n",
    "\n",
    "For reference, the tables below show actual hiring, promotion and attrition rates for women and men at each level.  \n",
    "\n",
    "                          ASSISTANT PROF         ASSOCIATE PROF          FULL PROF \n",
    "| BASELINE RATES      | women   |  men        | women   |  men        | women  |  men  \n",
    "| --------------      | -----   | ------      | -----   |------       | ------ |------- \n",
    "| attrition           | 0.0556  | 0.0687      | 0.0000  | 0.0574      | 0.0741 | 0.0399\n",
    "| hiring              | 0.1724  | 0.8276      | 0.0400  | 0.0600      | 0.1667 | 0.8333  \n",
    "| promotion           | 0.0555  | 0.0611      | 0.1905  | 0.1149      | NA     | NA "
   ]
  },
  {
   "cell_type": "markdown",
   "metadata": {},
   "source": [
    "### The Effect of Very Optimistic Assumptions on Proportion of Women Overall\n",
    "- FIGURE 5.2.1a – Very Optimistic Scenario:  Change in Proportion Overall \n",
    "- FIGURE 5.2.1b – Probability that Very Optimistic Scenario Achieves Goal Overall"
   ]
  },
  {
   "cell_type": "markdown",
   "metadata": {},
   "source": [
    "### The Effect of Very Optimistic Assumptions on Proportion of Women By Level\n",
    "- FIGURE 5.2.2a – Very Optimistic Scenario:  Change in Proportion by Level \n",
    "- FIGURE 5.2.2b – Probability that Very Optimistic Scenario Achieves Goal by Level "
   ]
  },
  {
   "cell_type": "markdown",
   "metadata": {},
   "source": [
    "### The Effect of Very Optimistic Assumptions on the Change in Number of Women by Level\n",
    "- FIGURE 5.2.3a – Very Optimistic Scenario:  Change in Number by Level\n",
    "- FIGURE 5.2.3b – Probability that Very Optimistic Scenario Achieves Goal by Level"
   ]
  },
  {
   "cell_type": "markdown",
   "metadata": {},
   "source": [
    "### Notes on Very Optimistic Scenario "
   ]
  },
  {
   "cell_type": "markdown",
   "metadata": {},
   "source": [
    "## Pessimistic Scenario \n",
    "The following models examine the effects of pessimistic assumptions about change.\n"
   ]
  },
  {
   "cell_type": "markdown",
   "metadata": {},
   "source": [
    "### The Effect of Pessimistic Assumptions On Proportion of Women Overall \n",
    "- FIGURE 5.3.1a – Pessimistic Scenario:  Change in Proportion Overall \n",
    "- FIGURE 5.3.1b – Probability that Pessimistic Scenario Achieves Goal Overall"
   ]
  },
  {
   "cell_type": "markdown",
   "metadata": {},
   "source": [
    "### The Effect of Pessimistic Assumptions on Proportion of Women by Level \n",
    "- FIGURE 5.3.2a – Pessimistic Scenario:  Change in Proportion by Level \n",
    "- FIGURE 5.3.2b – Probability that Pessimistic Scenario Achieves Goal by Level"
   ]
  },
  {
   "cell_type": "markdown",
   "metadata": {},
   "source": [
    "### The Effect of Pessimistic Assumptions on the Change in Number of Women by Level\n",
    "- FIGURE 5.3.3a – Pessimistic Scenario:  Change in Number by Level\n",
    "- FIGURE 5.3.3b – Probability that Pessimistic Scenario Achieves Goal by Level"
   ]
  },
  {
   "cell_type": "markdown",
   "metadata": {},
   "source": [
    "### Notes on Pessimistic Scenario"
   ]
  },
  {
   "cell_type": "markdown",
   "metadata": {},
   "source": [
    "## Scenario Comparison Models"
   ]
  },
  {
   "cell_type": "markdown",
   "metadata": {},
   "source": [
    "### Compare Three Scenarios Overall\n",
    "- FIGURE 5.4.1a – Compare Scenarios Overall \n",
    "- FIGURE 5.4.1b – Compare Probability that Scenarios Achieve Goal"
   ]
  },
  {
   "cell_type": "markdown",
   "metadata": {},
   "source": [
    "### Compare Three Scenarios by Level\n",
    "(We may have to run separate figures for the comparison of the three scenarios, one for Assistants, one for Associates and one for Full Professors.  Can you think of a way of putting the comparison of the three scenarios by level on one figure?)\n",
    "- FIGURE 5.4.2a – Compare Scenarios by Level \n",
    "- FIGURE 5.4.2b – Compare Probability of Achieving Goal for Three Scenarios by Level"
   ]
  },
  {
   "cell_type": "markdown",
   "metadata": {},
   "source": [
    "### Notes on Comparison of Scenarios "
   ]
  },
  {
   "cell_type": "markdown",
   "metadata": {},
   "source": [
    "# Ancillary Analyses  (select either Model 1 or Model 2) \n",
    "The following section produces sweeps of attrition, hiring and promotions.  It shows the results for a range of rates for each.  For reference, the table below shows actual hiring, promotion and attrition rates for women and men at each level.  \n",
    "\n",
    "                          ASSISTANT PROF         ASSOCIATE PROF          FULL PROF \n",
    "| BASELINE RATES      | women   |  men        | women   |  men        | women  |  men  \n",
    "| --------------      | -----   | ------      | -----   |------       | ------ |------- \n",
    "| attrition           | 0.0556  | 0.0687      | 0.0000  | 0.0574      | 0.0741 | 0.0399\n",
    "| hiring              | 0.1724  | 0.8276      | 0.0400  | 0.0600      | 0.1667 | 0.8333  \n",
    "| promotion           | 0.0555  | 0.0611      | 0.1905  | 0.1149      | NA     | NA"
   ]
  },
  {
   "cell_type": "markdown",
   "metadata": {},
   "source": [
    "## Attrition Rate Sweep \n",
    "This section shows the effects of increasing or decreasing attrition rates for 1) each level independently and 2) all levels concurrently.  \n",
    "- FIGURE 6.1a – Assistant Professors (Attrition) \n",
    "- FIGURE 6.1b – Associate Professors (Attrition) \n",
    "- FIGURE 6.1c – Full Professors (Attrition)"
   ]
  },
  {
   "cell_type": "markdown",
   "metadata": {},
   "source": [
    "## Hiring Rate Sweep \n",
    "Figures 6.2a through 6.2c show the effect of increasing or decreasing hiring rates for assistant professors on the proportion women in the transition from assistant to associate professor. \n",
    "- FIGURE 6.2a – Assistant Professors (Attrition) \n",
    "- FIGURE 6.2b – Associate Professors (Attrition) \n",
    "- FIGURE 6.2c – Full Professors (Attrition)"
   ]
  },
  {
   "cell_type": "markdown",
   "metadata": {},
   "source": [
    "## Promotion Rate Sweep \n",
    "Figures 6.3a through 6.3c show the effects of increasing or decreasing promotion rates for associate professors on the proportion women. \n",
    "- FIGURE 6.3a – Assistant Professors (Attrition) \n",
    "- FIGURE 6.3b – Associate Professors (Attrition) \n",
    "- FIGURE 6.3c – Full Professors (Attrition)"
   ]
  },
  {
   "cell_type": "markdown",
   "metadata": {},
   "source": [
    "## Notes on Sweeps"
   ]
  },
  {
   "cell_type": "markdown",
   "metadata": {},
   "source": [
    "# Setting Parameters "
   ]
  },
  {
   "cell_type": "markdown",
   "metadata": {},
   "source": [
    "# APPENDIX A: REPLICATION AND EXTENSION MODELS\n",
    "\n",
    "There are two models presented in this appendix.  Model 3 is a stochastic version of the original replication model.  Model 4 was a first step we calculated between the replication model and the two stochastic models presented in this notebook.  In this model, Full Professor vacancies are filled with Associate Professor promotions; Associate Professor vacancies are filled with Assistant Professor promotions.  Assistant Professor vacancies are filled with new hires.  If fractional vacancies occurs, a the position remains unfilled.\n",
    "\n",
    "--- ADD EXCEL TABLE WITH REPLICATION AND EXTENSION MODELS HERE ----\n"
   ]
  },
  {
   "cell_type": "markdown",
   "metadata": {},
   "source": [
    "## Replication of Mathematical Model.\n",
    "This model reproduces the original mathematical model (Lawrence & Chen, 2015) to four decimal places (filename).  .  It uses the original model's hiring and attrition rates as well as its' assumptions about how replacements are filled.  The order of change is attrition, hiring and promotion for women, then for men.  Similar to the original model, actual promotion rates are not incorporated.  They change each year to accommodate vacancies that result from attrition and hiring.  Faculty are treated as fractional numbers.  As a result, department size and number of faculty by level do not change.\n",
    "\n",
    "**  Decision rule when fractional vacancies are replaced by fractional faculty.**  The department's attrition, hiring and promotion rates often result in fractional faculty at the end of each year.  For example, if the hiring rate for female Assistant Professors is 0.25 and five Assistant Professors are hired, 1.25 of them are women.  All fractional vacancies are filled.\n",
    "\n",
    "**Results for the replication model.**  Figure 1 shows the results for Model 1, which is a hire-promote model that doesn't incorporate actual promotion rates.  a for R in the number of male assistants as they are promoted to associate.  We don't see a lot of growth in assistants for either men or women because in this model all vacancies arise at the top and trickle down. Hence there are likely only a few vacancies if any offered to assistants, and even then there is almost a certainty of hiring men given a probability of 83%. Since there is very little likelihood for women to enter at this level [WHICH ONE?], the number of female assistants dwindles over time.\n",
    "\n",
    "---- FIGURE A1 ABOUT HERE ----\n",
    "\n",
    "The behavior at level 2 is especially interesting.  Because the probability of promotion from level 1 to 2 is lower than the probability of promotion from level 2 to 3, any woman entering level 2 is likely to be promoted after a few years.  However, as women are promoted into level 3, not enough women are promoted out of level 1 to take their place. Hence over time the number of level 2 women shrinks towards zero.  When the number of women at Level 2 hits zero, women who leave level 3 cannot be replaced by other women--since there are none. The dearth of women at level 2 leads to more men being promoted from 2 to 3--thus leading to a shrinkage of men at level 2.  \n",
    "\n",
    "One challenge with this model is that the promotion rate is variable, based on the proportion of women at each level. As the number of female associates falls, this makes the promotion rate [OR NUMBER OF?] of female associates smaller and smaller. An appropriate alternative would be to use the same promotion rate for men/women as the hire-promote model.\n",
    "\n"
   ]
  },
  {
   "cell_type": "markdown",
   "metadata": {},
   "source": [
    "## First Step Towards Stochastic Model. \n",
    "This model represents a first step between the Replication Model (Model 1a) and the Hire-Promote (Models 2a, 2b) and Promote-Hire Models (Models 3a,3b).  Similar to Model 1a, the order of change is attrition, hiring and promotion for women, then for men. Different from Model 1a, faculty are treated as integers and promotion rates for women are set using the percentage of women by level the year before promotion.  Thus, the promotion rate for female Assistant Professors at the end of a year is the proportion of female Assistant Professors the year before the promotion.  Rates for female Associate Professors are set similarly.  Promotion rates for men equal 1-promotion rates for women.  Because faculty are treated as integers, fractional vacancies remain unfilled.  These are replaced by hiring one or two women using the decision rule below.  As a result, department size and the number of faculty by level never increases but may decrease.  \n",
    "\n",
    "**Decision rule when fractional vacancies are replaced by integer-level faculty.**  When promotion rates result in fractional vacancies, the model will hire either one or two women.  [BUT NEVER ONE OR TWO MEN(?) THIS ALTERS THE HIRING RATE FOR WOMEN(?)]  The decision rule is: 1) round the fraction down to the nearest integer, 2) randomly select a number from a uniform distribution and 3) hire two women if the random number falls below the hiring rate and one if the random number falls above. This decision rule is applied to the results for women and men at each career level and for each of the three rates (hiring, promotion and attrition) [CONFIRM THAT THIS IS DONE FOR EACH CAREER LEVEL AT THE END OF EACH YEAR, I.E.BEFORE EACH TRANSITION.] at the end of each transition. \n",
    "\n",
    "**Cascade of Demographic Change**\n",
    "1.  Full Professor replacements (Level 3).  After Full Professors leave at the end of each year, replacements are selected by outside hires at the department's Full Professor hiring rate, first for women then for men.  Remaining vacancies are filled by Associate Professor promotions.  The decision rule for fractional faculty is applied to all vacancies in Model 1a.  The decision rule for integer-level faculty is applied to all vacancies in Model 1b.\n",
    "\n",
    "2.  Associate Professor replacements (Level 2).  All Associate Professors who leave or are promoted at the end of each year are replaced by outside hires at the department's Associate Professor hiring rate, first for women then for men.  Remaining vacancies are filled by Assistant Professor promotions.  The decision rule for fractional (Model 1a) and integer-level faculty (Model 1b) are applied to all replacements.\n",
    "\n",
    "3.  Assistant Professor replacements (Level 1).  All Assistant Professors who leave or are promoted are replaced by outside hires using the decision rule for fractional (Model 1a) or integer-level faculty (Model 1b) ."
   ]
  },
  {
   "cell_type": "markdown",
   "metadata": {},
   "source": [
    "# APPENDIX B: DECISION RULES"
   ]
  },
  {
   "cell_type": "markdown",
   "metadata": {},
   "source": [
    "## Fractional faculty vacancies filled with integer-level faculty (department size varies within a range).\n",
    "\n",
    "REWRITE RULE AFTER KRISHNA FIGURES OUT WHAT HE DID TO MAKE THIS WORK.  This rule applies to Models 1 and 2.  We compensate for this type of situation by allowing the department size to vary within a range.  In some years department size may shrink because of unfilled vacancies, in others the size may grow because of added FTE or department size may remain the same.  \n",
    "\n",
    "The number of FTE and the lower and upper boundaries at stake are user-specified parameters.  They are always left- or right-censored by the specified boundaries  For instance, If the number of faculty this year is 74 and a range of 74 to 78 is specified, the change in department size must be between 0 and +4 FTE, with the lowest number of 74 and the highest of 78.  A (0/1) Bernoulli variable determines if each FTE is activated, and another Bernoulli variable determines the sign of the change (+/-).  After the N +/- changes are selected, their sum determines the additional change in department size.  [IN THIS EXAMPLE DOES THIS MEAN THAT FOR EACH OF THE FOUR FTE, YOU SELECT 3 +/-BERNOULLI VARIABLES AND THEN SUM THEM TO DECIDE WHETHER THE CHANGE FOR THAT FTE WILL INCREASE OR DECREASE DEPARTMENT SIZE?]  The model then checks that the new department size is within the defined boundaries. If the size is within the range then the new size is accepted. If the size is outside of the range, the new size is rejected and the process for generating department size runs again.\n",
    "\n",
    "## Fractional faculty vacancies filled with fractional faculty (department size remains stable).  \n",
    "\n",
    "This rule applies to Model 3, the mathematical model in Appendix A, which is a stochastic replication of the original model.  It uses the original model's actual average attrition and hiring rates as well as its' assumptions about how vacancies are filled.  Similar to the original model, actual promotion rates are not incorporated.  Promotion rates change each year to accommodate Full Professor and Associate Professor vacancies that result from attrition and hiring.  Assistant Professor vacancies are filled by hiring.  There are no unfilled vacancies at the end of each year.  \n",
    "\n",
    "## Fractional faculty vacancies filled with integer-level faculty (department size shrinks).\n",
    "This rule applies to Model 4, the first step towards the stochastic simulations used in Models 1 and 2.  Actual average attrition and hiring rates are used.  Demographic change for women precedes that for men.  Change occurs in a cascade beginning with Full Professor and ending with Assistant Professor.  Attrition rates are applied first and then hiring rates.  Promotions are awarded last.  Actual average promotion rates are not used. The promotion rate for women is based on the proportion of women in that level the previous year.  Thus, if 20% of Assistant Professors are women at the beginning of the year, then 20% of any Associate Professor vacancies remaining after attrition and hiring are filled with promotions.  The promotion rate for men is 1-promotion rate for women.  Assistant professor vacancies are filled by hires.\n",
    "\n",
    "Using the department's actual average rates often results in fractional faculty at the end of each year. For example, if the hiring rate for female Assistant Professors is 0.25 and five Assistant Professors are hired, 1.25 of them are women.  Because the model requires integers, it will hire either one or two women. The decision rule is: 1) round the fraction down to the nearest integer, 2) randomly select a number from a uniform distribution and 3) hire two women if the random number falls below the hiring rate and one if the random number falls above.  Vacancies may remain unfilled.\n",
    "\n",
    "This decision rule results in a department that shrinks over time because attrition, hiring and promotion rates are all below .50.  The chance to fill a vacancy is probabilistic.  Thus, if a vacancy is not filled by hiring or promotion, it disappears at the end of the year. \n"
   ]
  },
  {
   "cell_type": "markdown",
   "metadata": {},
   "source": [
    "# Initialization Cells\n"
   ]
  },
  {
   "cell_type": "code",
   "execution_count": 1,
   "metadata": {
    "collapsed": false
   },
   "outputs": [
    {
     "name": "stdout",
     "output_type": "stream",
     "text": [
      "Populating the interactive namespace from numpy and matplotlib\n"
     ]
    }
   ],
   "source": [
    "%pylab inline\n",
    "pylab.rcParams['figure.figsize'] = (13, 13)\n",
    "matplotlib.rcParams.update({'font.size': 14})\n",
    "import matplotlib.pyplot as plt\n",
    "import builtins\n",
    "import os, sys\n",
    "import pyugend\n",
    "from IPython.lib import deepreload\n",
    "builtins.reload = deepreload.reload\n",
    "%load_ext autoreload"
   ]
  },
  {
   "cell_type": "code",
   "execution_count": 2,
   "metadata": {
    "collapsed": true
   },
   "outputs": [],
   "source": [
    "from IPython.core.display import HTML\n",
    "\n",
    "def css_styling():\n",
    "    styles = open(\"styles/custom_lb.css\", \"r\").read()\n",
    "    return HTML(styles)\n",
    "css_styling()\n",
    "\n",
    "from IPython.core.display import display, HTML"
   ]
  },
  {
   "cell_type": "code",
   "execution_count": 3,
   "metadata": {
    "collapsed": true
   },
   "outputs": [],
   "source": [
    "number_of_females_1 = 3\n",
    "number_of_females_2 = 3\n",
    "number_of_females_3 = 2\n",
    "number_of_males_1 = 11\n",
    "number_of_males_2 = 12\n",
    "number_of_males_3 = 43\n",
    "number_of_initial_vacancies_1 = 5.303 \n",
    "number_of_initial_vacancies_2 = 5.9\n",
    "number_of_initial_vacancies_3 = 8.31\n",
    "hiring_rate_women_1 = 0.172\n",
    "hiring_rate_women_2 = 0.4\n",
    "hiring_rate_women_3 = 0.167\n",
    "attrition_rate_women_1 = 0.056\n",
    "attrition_rate_women_2 = 0.00\n",
    "attrition_rate_women_3 = 0.074\n",
    "attrition_rate_men_1 = 0.069\n",
    "attrition_rate_men_2 = 0.057\n",
    "attrition_rate_men_3 = 0.040\n",
    "probablity_of_outside_hire_1 = 1\n",
    "probability_of_outside_hire_2 = 0.125\n",
    "probability_of_outside_hire_3 = 0.150\n",
    "female_promotion_probability_1 = 0.0555\n",
    "female_promotion_probability_2 = 0.1905\n",
    "male_promotion_probability_1 = 0.0635\n",
    "male_promotion_probability_2 = 0.1149\n",
    "duration = 40\n",
    "upperbound = 84\n",
    "lowerbound = 64\n",
    "variation_range = 3\n",
    "\n",
    "data_mgmt = {'number_of_females_1': number_of_females_1,\n",
    "              'number_of_females_2': number_of_females_2,\n",
    "              'number_of_females_3': number_of_females_3,\n",
    "              'number_of_males_1': number_of_males_1,\n",
    "              'number_of_males_2': number_of_males_2,\n",
    "              'number_of_males_3': number_of_males_3,\n",
    "              'number_of_initial_vacancies_1': number_of_initial_vacancies_1, \n",
    "              'number_of_initial_vacancies_2': number_of_initial_vacancies_2,\n",
    "              'number_of_initial_vacancies_3': number_of_initial_vacancies_3,\n",
    "              'hiring_rate_women_1':hiring_rate_women_1,\n",
    "              'hiring_rate_women_2':hiring_rate_women_2,\n",
    "              'hiring_rate_women_3':hiring_rate_women_3,\n",
    "              'attrition_rate_women_1':attrition_rate_women_1,\n",
    "              'attrition_rate_women_2':attrition_rate_women_2,\n",
    "              'attrition_rate_women_3':attrition_rate_women_3,\n",
    "              'attrition_rate_men_1':attrition_rate_men_1,\n",
    "              'attrition_rate_men_2':attrition_rate_men_2,\n",
    "              'attrition_rate_men_3':attrition_rate_men_3,\n",
    "              'probablity_of_outside_hire_1':probablity_of_outside_hire_1,\n",
    "              'probability_of_outside_hire_2': probability_of_outside_hire_2,\n",
    "              'probability_of_outside_hire_3':probability_of_outside_hire_3,\n",
    "              'female_promotion_probability_1': female_promotion_probability_1,\n",
    "              'female_promotion_probability_2': female_promotion_probability_2,\n",
    "              'male_promotion_probability_1' : male_promotion_probability_1,\n",
    "              'male_promotion_probability_2' : male_promotion_probability_2,\n",
    "              'duration':duration,\n",
    "              'upperbound': upperbound,\n",
    "              'lowerbound': lowerbound,\n",
    "              'variation_range': variation_range}"
   ]
  },
  {
   "cell_type": "code",
   "execution_count": 13,
   "metadata": {
    "collapsed": false
   },
   "outputs": [
    {
     "ename": "AttributeError",
     "evalue": "module 'pyugend' has no attribute 'Comparison'",
     "output_type": "error",
     "traceback": [
      "\u001b[1;31m---------------------------------------------------------------------------\u001b[0m",
      "\u001b[1;31mAttributeError\u001b[0m                            Traceback (most recent call last)",
      "\u001b[1;32m<ipython-input-13-00043ab28971>\u001b[0m in \u001b[0;36m<module>\u001b[1;34m()\u001b[0m\n\u001b[0;32m      3\u001b[0m modlist = list([pyugend.Mod_Stoch_FBHP_alt(**data_mgmt), \n\u001b[0;32m      4\u001b[0m                 pyugend.Mod_Stoch_FBPH_alt(**data_mgmt)])\n\u001b[1;32m----> 5\u001b[1;33m \u001b[0mu\u001b[0m \u001b[1;33m=\u001b[0m \u001b[0mpyugend\u001b[0m\u001b[1;33m.\u001b[0m\u001b[0mComparison\u001b[0m\u001b[1;33m(\u001b[0m\u001b[0mmodlist\u001b[0m\u001b[1;33m)\u001b[0m\u001b[1;33m\u001b[0m\u001b[0m\n\u001b[0m",
      "\u001b[1;31mAttributeError\u001b[0m: module 'pyugend' has no attribute 'Comparison'"
     ]
    }
   ],
   "source": [
    "t = pyugend.Mod_Stoch_FBHP_alt(**data_mgmt)\n",
    "s = pyugend.Mod_Stoch_FBPH_alt(**data_mgmt)\n",
    "modlist = list([pyugend.Mod_Stoch_FBHP_alt(**data_mgmt), \n",
    "                pyugend.Mod_Stoch_FBPH_alt(**data_mgmt)])\n",
    "u = pyugend.Comparison(modlist)"
   ]
  },
  {
   "cell_type": "code",
   "execution_count": 5,
   "metadata": {
    "collapsed": false
   },
   "outputs": [
    {
     "data": {
      "text/plain": [
       "<pyugend.Mod_Stoch_FBHP_alt.Mod_Stoch_FBHP_alt at 0x7f65d4442320>"
      ]
     },
     "execution_count": 5,
     "metadata": {},
     "output_type": "execute_result"
    }
   ],
   "source": []
  }
 ],
 "metadata": {
  "hide_input": false,
  "kernelspec": {
   "display_name": "Python 3",
   "language": "python",
   "name": "python3"
  },
  "language_info": {
   "codemirror_mode": {
    "name": "ipython",
    "version": 3
   },
   "file_extension": ".py",
   "mimetype": "text/x-python",
   "name": "python",
   "nbconvert_exporter": "python",
   "pygments_lexer": "ipython3",
   "version": "3.5.1"
  },
  "latex_envs": {
   "bibliofile": "biblio.bib",
   "cite_by": "apalike",
   "current_citInitial": 1,
   "eqLabelWithNumbers": true,
   "eqNumInitial": 0
  },
  "toc": {
   "toc_cell": true,
   "toc_number_sections": true,
   "toc_threshold": 4,
   "toc_window_display": true
  }
 },
 "nbformat": 4,
 "nbformat_minor": 0
}
