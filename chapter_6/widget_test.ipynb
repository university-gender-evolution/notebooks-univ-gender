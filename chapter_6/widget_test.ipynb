{
 "cells": [
  {
   "cell_type": "markdown",
   "metadata": {
    "toc": true
   },
   "source": [
    "<h1>Table of Contents<span class=\"tocSkip\"></span></h1>\n",
    "<div class=\"toc\"><ul class=\"toc-item\"><li><span><a href=\"#Model-Settings\" data-toc-modified-id=\"Model-Settings-1\"><span class=\"toc-item-num\">1&nbsp;&nbsp;</span>Model Settings</a></span></li><li><span><a href=\"#Display-simulation-model-settings\" data-toc-modified-id=\"Display-simulation-model-settings-2\"><span class=\"toc-item-num\">2&nbsp;&nbsp;</span>Display simulation model settings</a></span></li></ul></div>"
   ]
  },
  {
   "cell_type": "markdown",
   "metadata": {},
   "source": [
    "# Model Settings"
   ]
  },
  {
   "cell_type": "code",
   "execution_count": 90,
   "metadata": {
    "hide_input": true
   },
   "outputs": [],
   "source": [
    "from ipywidgets import interact, interactive, fixed, interact_manual\n",
    "import ipywidgets as widgets\n",
    "from IPython.display import display, HTML, clear_output\n",
    "import numpy as np\n",
    "import pandas as pd\n"
   ]
  },
  {
   "cell_type": "code",
   "execution_count": 22,
   "metadata": {
    "hide_input": true
   },
   "outputs": [],
   "source": [
    "# Create common professor labels\n",
    "prof_labels = {'f1': 'Female Assistant Professors',\n",
    "              'f2': 'Female Associate Professors',\n",
    "              'f3': 'Female Full Professors',\n",
    "              'm1': 'Male Assistant Professors',\n",
    "              'm2': 'Male Associate Professors',\n",
    "              'm3': 'Male Full Professors'}\n",
    "\n",
    "widget_sequence = ['f1','f2','f3','m1','m2','m3']"
   ]
  },
  {
   "cell_type": "code",
   "execution_count": 60,
   "metadata": {
    "hide_input": true
   },
   "outputs": [],
   "source": [
    "style = {'description_width': 'initial'}\n",
    "def widget_panel(labels,default_values, number_type):\n",
    "    dict = {}\n",
    "    if number_type == 'integer':\n",
    "        for k,v in labels.items():\n",
    "            dict[k] = widgets.IntText(value = default_values[k],\n",
    "                                     description= v,\n",
    "                                     disabled = False,\n",
    "                                     style=style)\n",
    "            dict['default_'+k] = widgets.Label(value = 'default value: ' + str(default_values[k]))\n",
    "\n",
    "    if number_type == 'float':\n",
    "        for k,v in labels.items():\n",
    "            dict[k] = widgets.FloatText(value = default_values[k],\n",
    "                                     description= v,\n",
    "                                     disabled = False,\n",
    "                                     min = 0,\n",
    "                                     max = 1,\n",
    "                                     step = 0.01,\n",
    "                                     style=style)\n",
    "            dict['default_'+k] = widgets.Label(value = 'default value: ' + str(default_values[k]))\n",
    "    widget_left = widgets.VBox([dict[k] for k in widget_sequence])\n",
    "    widget_right = widgets.VBox([dict['default_'+k] for k in widget_sequence])\n",
    "    widget = widgets.HBox([widget_left, widget_right])\n",
    "    return dict,widget\n",
    "\n",
    "numbers_dict, numbers_widget = widget_panel(prof_labels,default_numbers_mgmt,'integer')\n",
    "attrition_dict, attrition_widget = widget_panel(prof_labels,default_attrition_rate_mgmt,'float')\n",
    "hiring_dict, hiring_widget = widget_panel(prof_labels,default_hiring_rate_mgmt,'float')\n",
    "promotion_dict, promotion_widget = widget_panel(prof_labels,default_promotion_rate_mgmt,'float')"
   ]
  },
  {
   "cell_type": "code",
   "execution_count": 102,
   "metadata": {
    "hide_input": true
   },
   "outputs": [],
   "source": [
    "style = {'description_width': 'initial'}\n",
    "\n",
    "model_settings_dict = {'lowerbound': widgets.IntText(value = default_model_settings['lowerbound'],\n",
    "                                                description = 'Department Size Lowerbound',\n",
    "                                                disabled = False,\n",
    "                                                style = style),\n",
    "                  'upperbound': widgets.IntText(value = default_model_settings['upperbound'],\n",
    "                                                description = 'Department Size Upperbound',\n",
    "                                                disabled = False,\n",
    "                                                style = style),\n",
    "                  'variation_range': widgets.IntText(value = default_model_settings['variation_range'],\n",
    "                                                description = 'Department Size Churn Range',\n",
    "                                                disabled = False,\n",
    "                                                style = style),\n",
    "                  'duration': widgets.IntText(value = default_model_settings['duration'],\n",
    "                                                description = 'Simulation Duration',\n",
    "                                                disabled = False,\n",
    "                                                style = style),\n",
    "                  'default_lowerbound': widgets.Label(value = 'default value: ' + str(default_model_settings['lowerbound'])),\n",
    "                  'default_upperbound': widgets.Label(value = 'default value: ' + str(default_model_settings['upperbound'])),\n",
    "                  'default_variation_range': widgets.Label(value = 'default value: ' + str(default_model_settings['variation_range'])),\n",
    "                  'default_duration': widgets.Label(value = 'default value: ' + str(default_model_settings['duration'])),                 \n",
    "                   }\n",
    "\n",
    "model_settings_left = widgets.VBox([model_settings_dict['duration'],\n",
    "                                    model_settings_dict['lowerbound'],\n",
    "                                    model_settings_dict['upperbound'],\n",
    "                                    model_settings_dict['variation_range']])\n",
    "\n",
    "model_settings_right = widgets.VBox([model_settings_dict['default_duration'],\n",
    "                                     model_settings_dict['default_lowerbound'],\n",
    "                                     model_settings_dict['default_upperbound'],\n",
    "                                     model_settings_dict['default_variation_range']])\n",
    "\n",
    "model_settings_widget= widgets.HBox([model_settings_left, model_settings_right])"
   ]
  },
  {
   "cell_type": "code",
   "execution_count": 108,
   "metadata": {
    "hide_input": true,
    "scrolled": false
   },
   "outputs": [
    {
     "data": {
      "application/vnd.jupyter.widget-view+json": {
       "model_id": "fea9e0b6f95645c294cf3366f9739487",
       "version_major": 2,
       "version_minor": 0
      },
      "text/html": [
       "<p>Failed to display Jupyter Widget of type <code>Tab</code>.</p>\n",
       "<p>\n",
       "  If you're reading this message in the Jupyter Notebook or JupyterLab Notebook, it may mean\n",
       "  that the widgets JavaScript is still loading. If this message persists, it\n",
       "  likely means that the widgets JavaScript library is either not installed or\n",
       "  not enabled. See the <a href=\"https://ipywidgets.readthedocs.io/en/stable/user_install.html\">Jupyter\n",
       "  Widgets Documentation</a> for setup instructions.\n",
       "</p>\n",
       "<p>\n",
       "  If you're reading this message in another frontend (for example, a static\n",
       "  rendering on GitHub or <a href=\"https://nbviewer.jupyter.org/\">NBViewer</a>),\n",
       "  it may mean that your frontend doesn't currently support widgets.\n",
       "</p>\n"
      ],
      "text/plain": [
       "Tab(children=(HBox(children=(VBox(children=(IntText(value=6, description='Female Assistant Professors', style=DescriptionStyle(description_width='initial')), IntText(value=19, description='Female Associate Professors', style=DescriptionStyle(description_width='initial')), IntText(value=8, description='Female Full Professors', style=DescriptionStyle(description_width='initial')), IntText(value=11, description='Male Assistant Professors', style=DescriptionStyle(description_width='initial')), IntText(value=12, description='Male Associate Professors', style=DescriptionStyle(description_width='initial')), IntText(value=34, description='Male Full Professors', style=DescriptionStyle(description_width='initial')))), VBox(children=(Label(value='default value: 3'), Label(value='default value: 3'), Label(value='default value: 2'), Label(value='default value: 11'), Label(value='default value: 12'), Label(value='default value: 43'))))), HBox(children=(VBox(children=(FloatText(value=0.056, description='Female Assistant Professors', step=0.01, style=DescriptionStyle(description_width='initial')), FloatText(value=0.0, description='Female Associate Professors', step=0.01, style=DescriptionStyle(description_width='initial')), FloatText(value=0.074, description='Female Full Professors', step=0.01, style=DescriptionStyle(description_width='initial')), FloatText(value=0.069, description='Male Assistant Professors', step=0.01, style=DescriptionStyle(description_width='initial')), FloatText(value=0.057, description='Male Associate Professors', step=0.01, style=DescriptionStyle(description_width='initial')), FloatText(value=0.04, description='Male Full Professors', step=0.01, style=DescriptionStyle(description_width='initial')))), VBox(children=(Label(value='default value: 0.056'), Label(value='default value: 0.0'), Label(value='default value: 0.074'), Label(value='default value: 0.069'), Label(value='default value: 0.057'), Label(value='default value: 0.04'))))), HBox(children=(VBox(children=(FloatText(value=0.27, description='Female Assistant Professors', step=0.01, style=DescriptionStyle(description_width='initial')), FloatText(value=0.23, description='Female Associate Professors', step=0.01, style=DescriptionStyle(description_width='initial')), FloatText(value=0.025, description='Female Full Professors', step=0.01, style=DescriptionStyle(description_width='initial')), FloatText(value=0.6, description='Male Assistant Professors', step=0.01, style=DescriptionStyle(description_width='initial')), FloatText(value=0.075, description='Male Associate Professors', step=0.01, style=DescriptionStyle(description_width='initial')), FloatText(value=0.125, description='Male Full Professors', step=0.01, style=DescriptionStyle(description_width='initial')))), VBox(children=(Label(value='default value: 0.125'), Label(value='default value: 0.05'), Label(value='default value: 0.025'), Label(value='default value: 0.6'), Label(value='default value: 0.075'), Label(value='default value: 0.125'))))), HBox(children=(VBox(children=(FloatText(value=0.0555, description='Female Assistant Professors', step=0.01, style=DescriptionStyle(description_width='initial')), FloatText(value=0.1905, description='Female Associate Professors', step=0.01, style=DescriptionStyle(description_width='initial')), FloatText(value=0.0, description='Female Full Professors', step=0.01, style=DescriptionStyle(description_width='initial')), FloatText(value=0.0635, description='Male Assistant Professors', step=0.01, style=DescriptionStyle(description_width='initial')), FloatText(value=0.1149, description='Male Associate Professors', step=0.01, style=DescriptionStyle(description_width='initial')), FloatText(value=0.0, description='Male Full Professors', step=0.01, style=DescriptionStyle(description_width='initial')))), VBox(children=(Label(value='default value: 0.0555'), Label(value='default value: 0.1905'), Label(value='default value: 0.0'), Label(value='default value: 0.0635'), Label(value='default value: 0.1149'), Label(value='default value: 0.0'))))), HBox(children=(VBox(children=(IntText(value=12, description='Simulation Duration', style=DescriptionStyle(description_width='initial')), IntText(value=64, description='Department Size Lowerbound', style=DescriptionStyle(description_width='initial')), IntText(value=84, description='Department Size Upperbound', style=DescriptionStyle(description_width='initial')), IntText(value=3, description='Department Size Churn Range', style=DescriptionStyle(description_width='initial')))), VBox(children=(Label(value='default value: 12'), Label(value='default value: 64'), Label(value='default value: 84'), Label(value='default value: 3')))))), _titles={'0': 'numbers', '1': 'attrition', '2': 'hiring', '3': 'promotion', '4': 'model settings'})"
      ]
     },
     "metadata": {},
     "output_type": "display_data"
    }
   ],
   "source": [
    "tab_contents = ['P0', 'P1', 'P2', 'P3', 'P4']\n",
    "tabnames = ['numbers',\n",
    "           'attrition',\n",
    "           'hiring',\n",
    "           'promotion',\n",
    "           'model settings']\n",
    "children = [widgets.Text(description=name) for name in tab_contents]\n",
    "tab = widgets.Tab()\n",
    "tab.children = [numbers_widget, attrition_widget, hiring_widget, promotion_widget, model_settings_widget]\n",
    "\n",
    "for i in range(len(tabnames)):\n",
    "    tab.set_title(i, tabnames[i])\n",
    "tab"
   ]
  },
  {
   "cell_type": "code",
   "execution_count": 120,
   "metadata": {
    "hide_input": true,
    "scrolled": false
   },
   "outputs": [
    {
     "data": {
      "application/vnd.jupyter.widget-view+json": {
       "model_id": "ae96141352e84b88b01c852359b60ff2",
       "version_major": 2,
       "version_minor": 0
      },
      "text/html": [
       "<p>Failed to display Jupyter Widget of type <code>HBox</code>.</p>\n",
       "<p>\n",
       "  If you're reading this message in the Jupyter Notebook or JupyterLab Notebook, it may mean\n",
       "  that the widgets JavaScript is still loading. If this message persists, it\n",
       "  likely means that the widgets JavaScript library is either not installed or\n",
       "  not enabled. See the <a href=\"https://ipywidgets.readthedocs.io/en/stable/user_install.html\">Jupyter\n",
       "  Widgets Documentation</a> for setup instructions.\n",
       "</p>\n",
       "<p>\n",
       "  If you're reading this message in another frontend (for example, a static\n",
       "  rendering on GitHub or <a href=\"https://nbviewer.jupyter.org/\">NBViewer</a>),\n",
       "  it may mean that your frontend doesn't currently support widgets.\n",
       "</p>\n"
      ],
      "text/plain": [
       "HBox(children=(Button(description='Confirm Settings', style=ButtonStyle()), Button(description='Confirm Simulation Settings', style=ButtonStyle())))"
      ]
     },
     "metadata": {},
     "output_type": "display_data"
    },
    {
     "data": {
      "text/html": [
       "<table border=\"1\" class=\"dataframe\">\n",
       "  <thead>\n",
       "    <tr style=\"text-align: right;\">\n",
       "      <th>Simulation Duration</th>\n",
       "      <th>Department Size Lowerbound</th>\n",
       "      <th>Department Size Upperbound</th>\n",
       "      <th>Department Churn Range</th>\n",
       "    </tr>\n",
       "  </thead>\n",
       "  <tbody>\n",
       "    <tr>\n",
       "      <td>12</td>\n",
       "      <td>81</td>\n",
       "      <td>92</td>\n",
       "      <td>3</td>\n",
       "    </tr>\n",
       "  </tbody>\n",
       "</table>"
      ],
      "text/plain": [
       "<IPython.core.display.HTML object>"
      ]
     },
     "metadata": {},
     "output_type": "display_data"
    }
   ],
   "source": [
    "columns = ['Prof. Group', \n",
    "           'Initial Number', \n",
    "           'Attrition Rate', \n",
    "           'Hiring Rate', \n",
    "           'Promotion Rate']\n",
    "row_labels = ['Female Assistant Professors',\n",
    "        'Female Associate Professors',\n",
    "        'Female Fulle Professors',\n",
    "        'Male Assistant Professors',\n",
    "        'Male Associate Professors',\n",
    "        'Male Full Professors']\n",
    "\n",
    "simulation_columns = ['Simulation Duration',\n",
    "                      'Department Size Lowerbound',\n",
    "                      'Department Size Upperbound',\n",
    "                      'Department Churn Range']\n",
    "\n",
    "\n",
    "def display_model_settings(b):\n",
    "    clear_output()\n",
    "    df = pd.DataFrame({'Prof. Group': row_labels,\n",
    "                   'Initial Number': [numbers_dict[k].value for k in widget_sequence],\n",
    "                   'Attrition Rate': [attrition_dict[k].value for k in widget_sequence],\n",
    "                   'Hiring Rate': [hiring_dict[k].value for k in widget_sequence],\n",
    "                   'Promotion Rate': [promotion_dict[k].value for k in widget_sequence]})\n",
    "    df.set_index('Prof. Group')\n",
    "    df = df[columns]\n",
    "    display(buttons)\n",
    "    display(HTML(df.to_html(index=False)))\n",
    "    return 0  \n",
    "\n",
    "def display_simulation_settings(b):\n",
    "    clear_output()\n",
    "    df = pd.DataFrame({'Simulation Duration': [model_settings_dict['duration'].value],\n",
    "                       'Department Size Lowerbound': [model_settings_dict['lowerbound'].value],\n",
    "                       'Department Size Upperbound': [model_settings_dict['upperbound'].value],\n",
    "                       'Department Churn Range': [model_settings_dict['variation_range'].value]})\n",
    "    df = df[simulation_columns]\n",
    "    display(buttons)\n",
    "    display(HTML(df.to_html(index=False)))\n",
    "    return 0\n",
    "    \n",
    "button_confirm = widgets.Button(description=\"Confirm Settings\")\n",
    "button_confirm.on_click(display_model_settings)\n",
    "button_simulation = widgets.Button(description='Confirm Simulation Settings')\n",
    "button_simulation.on_click(display_simulation_settings)\n",
    "buttons = widgets.HBox([button_confirm, button_simulation])\n",
    "display(buttons)"
   ]
  },
  {
   "cell_type": "code",
   "execution_count": 106,
   "metadata": {
    "hide_input": true
   },
   "outputs": [],
   "source": [
    "\n",
    "def set_mgmt_data():\n",
    "    data_mgmt = { 'number_of_females_1': numbers_dict['f1'].value,\n",
    "                  'number_of_females_2': numbers_dict['f2'].value,\n",
    "                  'number_of_females_3': numbers_dict['f3'].value,\n",
    "                  'number_of_males_1': numbers_dict['m1'].value,\n",
    "                  'number_of_males_2': numbers_dict['m2'].value,\n",
    "                  'number_of_males_3': numbers_dict['m3'].value,\n",
    "                  'hiring_rate_women_1':hiring_dict['f1'].value,\n",
    "                  'hiring_rate_women_2':hiring_dict['f2'].value,\n",
    "                  'hiring_rate_women_3':hiring_dict['f3'].value,\n",
    "                  'hiring_rate_men_1': hiring_dict['m1'].value,\n",
    "                  'hiring_rate_men_2': hiring_dict['m2'].value,\n",
    "                  'hiring_rate_men3': hiring_dict['m3'].value,\n",
    "                  'attrition_rate_women_1':attrition_dict['f1'].value,\n",
    "                  'attrition_rate_women_2':attrition_dict['f2'].value,\n",
    "                  'attrition_rate_women_3':attrition_dict['f3'].value,\n",
    "                  'attrition_rate_men_1':attrition_dict['m1'].value,\n",
    "                  'attrition_rate_men_2':attrition_dict['m2'].value,\n",
    "                  'attrition_rate_men_3':attrition_dict['m3'].value,\n",
    "                  'female_promotion_probability_1': promotion_dict['f1'].value,\n",
    "                  'female_promotion_probability_2': promotion_dict['f2'].value,\n",
    "                  'male_promotion_probability_1' : promotion_dict['m1'].value,\n",
    "                  'male_promotion_probability_2' : promotion_dict['m2'].value,\n",
    "                  'duration':model_settings_dict['duration'].value,\n",
    "                  'upperbound': model_settings_dict['upperbound'],\n",
    "                  'lowerbound': model_settings_dict['lowerbound'],\n",
    "                  'variation_range': model_settings_dict['variation_range']}\n",
    "    return data_mgmt"
   ]
  },
  {
   "cell_type": "code",
   "execution_count": 100,
   "metadata": {
    "hide_input": true
   },
   "outputs": [],
   "source": [
    "\n",
    "default_numbers_mgmt = {'f1': 3,\n",
    "                       'f2': 3,\n",
    "                       'f3':2,\n",
    "                       'm1':11,\n",
    "                       'm2':12,\n",
    "                       'm3':43}\n",
    "\n",
    "default_attrition_rate_mgmt = {'f1': 0.056,\n",
    "                       'f2': 0.00,\n",
    "                       'f3':0.074,\n",
    "                       'm1':0.069,\n",
    "                       'm2':0.057,\n",
    "                       'm3':0.040}\n",
    "                        \n",
    "default_hiring_rate_mgmt = {'f1': 5/40,\n",
    "                       'f2': 2/40,\n",
    "                       'f3':1/40,\n",
    "                       'm1':24/40,\n",
    "                       'm2':3/40,\n",
    "                       'm3':5/40}\n",
    "\n",
    "default_promotion_rate_mgmt = {'f1': 0.0555,\n",
    "                       'f2': 0.1905,\n",
    "                       'f3':0.0,\n",
    "                       'm1':0.0635,\n",
    "                       'm2':0.1149,\n",
    "                       'm3':0.0}\n",
    "    \n",
    "default_model_settings = {'duration':12,\n",
    "                          'lowerbound': 64,\n",
    "                          'upperbound':84,\n",
    "                          'variation_range':3}  "
   ]
  },
  {
   "cell_type": "code",
   "execution_count": 128,
   "metadata": {},
   "outputs": [
    {
     "data": {
      "application/vnd.jupyter.widget-view+json": {
       "model_id": "aa223ab530d44170af8f8a455b4a81a6",
       "version_major": 2,
       "version_minor": 0
      },
      "text/html": [
       "<p>Failed to display Jupyter Widget of type <code>SelectMultiple</code>.</p>\n",
       "<p>\n",
       "  If you're reading this message in the Jupyter Notebook or JupyterLab Notebook, it may mean\n",
       "  that the widgets JavaScript is still loading. If this message persists, it\n",
       "  likely means that the widgets JavaScript library is either not installed or\n",
       "  not enabled. See the <a href=\"https://ipywidgets.readthedocs.io/en/stable/user_install.html\">Jupyter\n",
       "  Widgets Documentation</a> for setup instructions.\n",
       "</p>\n",
       "<p>\n",
       "  If you're reading this message in another frontend (for example, a static\n",
       "  rendering on GitHub or <a href=\"https://nbviewer.jupyter.org/\">NBViewer</a>),\n",
       "  it may mean that your frontend doesn't currently support widgets.\n",
       "</p>\n"
      ],
      "text/plain": [
       "SelectMultiple(description='Fruits', index=(1,), options=('Apples with heavy cream ', 'Oranges with extra stuff', 'Pears and more too'), value=('Oranges with extra stuff',))"
      ]
     },
     "metadata": {},
     "output_type": "display_data"
    }
   ],
   "source": [
    "\n",
    "\n",
    "res = widgets.SelectMultiple(\n",
    "    options=['Apples with heavy cream ', 'Oranges with extra stuff', 'Pears and more too'],\n",
    "    value=['Oranges with extra stuff'],\n",
    "    #rows=10,\n",
    "    description='Fruits',\n",
    "    disabled=False\n",
    ")\n",
    "\n",
    "\n",
    "res"
   ]
  },
  {
   "cell_type": "code",
   "execution_count": 129,
   "metadata": {},
   "outputs": [
    {
     "data": {
      "text/plain": [
       "('Oranges with extra stuff', 'Pears and more too')"
      ]
     },
     "execution_count": 129,
     "metadata": {},
     "output_type": "execute_result"
    }
   ],
   "source": [
    "res.value"
   ]
  },
  {
   "cell_type": "code",
   "execution_count": null,
   "metadata": {},
   "outputs": [],
   "source": []
  }
 ],
 "metadata": {
  "kernelspec": {
   "display_name": "Python 3",
   "language": "python",
   "name": "python3"
  },
  "language_info": {
   "codemirror_mode": {
    "name": "ipython",
    "version": 3
   },
   "file_extension": ".py",
   "mimetype": "text/x-python",
   "name": "python",
   "nbconvert_exporter": "python",
   "pygments_lexer": "ipython3",
   "version": "3.6.4"
  },
  "toc": {
   "nav_menu": {},
   "number_sections": true,
   "sideBar": true,
   "skip_h1_title": false,
   "title_cell": "Table of Contents",
   "title_sidebar": "Contents",
   "toc_cell": true,
   "toc_position": {
    "height": "calc(100% - 180px)",
    "left": "10px",
    "top": "150px",
    "width": "253px"
   },
   "toc_section_display": true,
   "toc_window_display": true
  }
 },
 "nbformat": 4,
 "nbformat_minor": 2
}
