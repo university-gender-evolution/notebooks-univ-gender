{
 "cells": [
  {
   "cell_type": "markdown",
   "metadata": {
    "toc": true
   },
   "source": [
    "<h1>Table of Contents<span class=\"tocSkip\"></span></h1>\n",
    "<div class=\"toc\"><ul class=\"toc-item\"><li><span><a href=\"#Model-Settings\" data-toc-modified-id=\"Model-Settings-1\"><span class=\"toc-item-num\">1&nbsp;&nbsp;</span>Model Settings</a></span></li></ul></div>"
   ]
  },
  {
   "cell_type": "markdown",
   "metadata": {},
   "source": [
    "# Model Settings"
   ]
  },
  {
   "cell_type": "code",
   "execution_count": null,
   "metadata": {},
   "outputs": [],
   "source": [
    "import ipywidgets as widgets"
   ]
  },
  {
   "cell_type": "code",
   "execution_count": 30,
   "metadata": {
    "hide_input": false
   },
   "outputs": [],
   "source": [
    "# Creating the Initialization Numbers tab.\n",
    "style = {'description_width': 'initial'}\n",
    "numbers_items = {'nf1':widgets.IntText(value = 7,\n",
    "                                 description='Female Assistant Professors',\n",
    "                                 disabled = False,\n",
    "                                 style=style),\n",
    "                 'nf2':widgets.IntText(value = 7,\n",
    "                                 description='Female Associate Professors',\n",
    "                                 disabled = False,\n",
    "                                 style=style),\n",
    "                 'nf3':widgets.IntText(value = 7,\n",
    "                                 description='Female Full Professors',\n",
    "                                 disabled = False,\n",
    "                                 style=style),\n",
    "                 'nm1':widgets.IntText(value = 7,\n",
    "                                 description='Male Assistant Professors',\n",
    "                                 disabled = False,\n",
    "                                 style=style),\n",
    "                 'nm2':widgets.IntText(value = 7,\n",
    "                                 description='Male Associate Professors',\n",
    "                                 disabled = False,\n",
    "                                 style=style),\n",
    "                 'nm3':widgets.IntText(value = 7,\n",
    "                                 description='Male Full Professors',\n",
    "                                 disabled = False,\n",
    "                                 style=style)}\n",
    "numbers_left_box = widgets.VBox([numbers_items['nf1'], numbers_items['nf2'],numbers_items['nf3']])\n",
    "numbers_right_box = widgets.VBox([numbers_items['nm1'], numbers_items['nm2'],numbers_items['nm3']])\n",
    "numbers_box = widgets.HBox([numbers_left_box, numbers_right_box])\n"
   ]
  },
  {
   "cell_type": "code",
   "execution_count": 31,
   "metadata": {
    "hide_input": false
   },
   "outputs": [],
   "source": [
    "# Creating the Attrition rates tab\n",
    "\n",
    "attrition_items = {'af1':widgets.FloatSlider(value = 0.5,\n",
    "                                 min = 0,\n",
    "                                 max = 1,\n",
    "                                 step = 0.01,\n",
    "                                 description='Female Assistant Professors',\n",
    "                                 disabled = False),\n",
    "                 'af2':widgets.FloatSlider(value = 0.5,\n",
    "                                 min = 0,\n",
    "                                 max = 1,\n",
    "                                 step = 0.01,\n",
    "                                 description='Female Associate Professors',\n",
    "                                 disabled = False),\n",
    "                 'af3':widgets.FloatSlider(value = 0.5,\n",
    "                                 min = 0,\n",
    "                                 max = 1,\n",
    "                                 step = 0.01,\n",
    "                                 description='Female Full Professors',\n",
    "                                 disabled = False),\n",
    "                 'am1':widgets.FloatSlider(value = 0.5,\n",
    "                                 min = 0,\n",
    "                                 max = 1,\n",
    "                                 step = 0.01,\n",
    "                                 description='Male Assistant Professors',\n",
    "                                 disabled = False),\n",
    "                 'am2':widgets.FloatSlider(value = 0.5,\n",
    "                                 min = 0,\n",
    "                                 max = 1,\n",
    "                                 step = 0.01,\n",
    "                                 description='Male Associate Professors',\n",
    "                                 disabled = False),\n",
    "                 'am3':widgets.FloatSlider(value = 0.5,\n",
    "                                 min = 0,\n",
    "                                 max = 1,\n",
    "                                 step = 0.01,\n",
    "                                 description='Male Full Professors',\n",
    "                                 disabled = False)}\n",
    "attrition_left_box = widgets.VBox([attrition_items['af1'], attrition_items['af2'],attrition_items['af3']])\n",
    "attrition_right_box = widgets.VBox([attrition_items['am1'], attrition_items['am2'],attrition_items['am3']])\n",
    "attrition_box = widgets.HBox([attrition_left_box, attrition_right_box])"
   ]
  },
  {
   "cell_type": "code",
   "execution_count": 32,
   "metadata": {},
   "outputs": [
    {
     "data": {
      "application/vnd.jupyter.widget-view+json": {
       "model_id": "91f72538d85b436980fb160f02c6f279",
       "version_major": 2,
       "version_minor": 0
      },
      "text/html": [
       "<p>Failed to display Jupyter Widget of type <code>Tab</code>.</p>\n",
       "<p>\n",
       "  If you're reading this message in the Jupyter Notebook or JupyterLab Notebook, it may mean\n",
       "  that the widgets JavaScript is still loading. If this message persists, it\n",
       "  likely means that the widgets JavaScript library is either not installed or\n",
       "  not enabled. See the <a href=\"https://ipywidgets.readthedocs.io/en/stable/user_install.html\">Jupyter\n",
       "  Widgets Documentation</a> for setup instructions.\n",
       "</p>\n",
       "<p>\n",
       "  If you're reading this message in another frontend (for example, a static\n",
       "  rendering on GitHub or <a href=\"https://nbviewer.jupyter.org/\">NBViewer</a>),\n",
       "  it may mean that your frontend doesn't currently support widgets.\n",
       "</p>\n"
      ],
      "text/plain": [
       "Tab(children=(VBox(children=(IntText(value=7, description='Female Assistant Professors', style=DescriptionStyle(description_width='initial')), IntText(value=7, description='Female Associate Professors', style=DescriptionStyle(description_width='initial')), IntText(value=7, description='Female Full Professors', style=DescriptionStyle(description_width='initial')))), HBox(children=(VBox(children=(FloatSlider(value=0.5, description='Female Assistant Professors', max=1.0, step=0.01), FloatSlider(value=0.5, description='Female Associate Professors', max=1.0, step=0.01), FloatSlider(value=0.5, description='Female Full Professors', max=1.0, step=0.01))), VBox(children=(FloatSlider(value=0.5, description='Male Assistant Professors', max=1.0, step=0.01), FloatSlider(value=0.5, description='Male Associate Professors', max=1.0, step=0.01), FloatSlider(value=0.5, description='Male Full Professors', max=1.0, step=0.01))))), HBox(children=(VBox(children=(IntText(value=7, description='Female Assistant Professors', style=DescriptionStyle(description_width='initial')), IntText(value=7, description='Female Associate Professors', style=DescriptionStyle(description_width='initial')), IntText(value=7, description='Female Full Professors', style=DescriptionStyle(description_width='initial')))), VBox(children=(IntText(value=7, description='Male Assistant Professors', style=DescriptionStyle(description_width='initial')), IntText(value=7, description='Male Associate Professors', style=DescriptionStyle(description_width='initial')), IntText(value=7, description='Male Full Professors', style=DescriptionStyle(description_width='initial'))))))), _titles={'0': 'numbers', '1': 'attrition', '2': 'hiring', '3': 'promotion', '4': 'churn', '5': 'growth'})"
      ]
     },
     "metadata": {},
     "output_type": "display_data"
    }
   ],
   "source": [
    "tab_contents = ['P0', 'P1', 'P2', 'P3', 'P4']\n",
    "tabnames = ['numbers',\n",
    "           'attrition',\n",
    "           'hiring',\n",
    "           'promotion',\n",
    "           'churn',\n",
    "           'growth']\n",
    "children = [widgets.Text(description=name) for name in tab_contents]\n",
    "tab = widgets.Tab()\n",
    "tab.children = [numbers_left_box, attrition_box, numbers_box]\n",
    "\n",
    "for i in range(len(tabnames)):\n",
    "    tab.set_title(i, tabnames[i])\n",
    "tab"
   ]
  },
  {
   "cell_type": "code",
   "execution_count": null,
   "metadata": {},
   "outputs": [],
   "source": []
  }
 ],
 "metadata": {
  "kernelspec": {
   "display_name": "Python 3",
   "language": "python",
   "name": "python3"
  },
  "language_info": {
   "codemirror_mode": {
    "name": "ipython",
    "version": 3
   },
   "file_extension": ".py",
   "mimetype": "text/x-python",
   "name": "python",
   "nbconvert_exporter": "python",
   "pygments_lexer": "ipython3",
   "version": "3.6.4"
  },
  "toc": {
   "nav_menu": {},
   "number_sections": true,
   "sideBar": true,
   "skip_h1_title": false,
   "title_cell": "Table of Contents",
   "title_sidebar": "Contents",
   "toc_cell": true,
   "toc_position": {
    "height": "calc(100% - 180px)",
    "left": "10px",
    "top": "150px",
    "width": "253px"
   },
   "toc_section_display": true,
   "toc_window_display": true
  }
 },
 "nbformat": 4,
 "nbformat_minor": 2
}
